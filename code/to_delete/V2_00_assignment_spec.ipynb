{
 "cells": [
  {
   "attachments": {},
   "cell_type": "markdown",
   "metadata": {},
   "source": [
    "# Assignment Specification"
   ]
  },
  {
   "attachments": {},
   "cell_type": "markdown",
   "metadata": {},
   "source": [
    "[TODO add assignment specification](https://www.cems.uwe.ac.uk/~h-ihshaish/ml/assignment/)"
   ]
  },
  {
   "attachments": {},
   "cell_type": "markdown",
   "metadata": {},
   "source": [
    "## Coursework Assignment\n",
    "\n",
    "### Introduction\n",
    "\n",
    "The aim of this coursework is for you to apply your knowledge in Machine Learning and Predictive Analytics, to work creatively on a dataset of a real-world application; to define a learning problem, discuss data attributes, evaluate suitable learning algorithm(s)— analytically or through your implementation, and to present your findings and conclusions. This will be expressed as a 2000-word report submitted via Blackboard by the due date.\n",
    "\n",
    "### Scenario\n",
    "\n",
    "This is your chance to design and/or evaluate a ‘predictive model’ of your own/choice for a real-world application. Application and data can be of your choice but also a wide range of recommended datasets for machine learning problems are available in UCI Machine Learning Repository 1 (Most Popular Data Sets - hits since 2007), and challenges, datasets and analytics contributions Kaggle 2, or check course's Blackboard page for further datasets. For this coursework your design/choice, and your approach to evaluate a machine learning solution (or a predictive model) is key - you can (but do not need to) implement a model, write code or collect data yourself. You should identify a real problem, need, frame a solution and come up with analytical analysis to evaluate your choice of a learning algorithm for your predictive model.\n",
    "\n",
    "Your report (in a form of a discussion paper) should cover the following elements:\n",
    "\n",
    "* Discuss a machine learning problem given your chosen application; identify the problem, the requirements for a predictive model and its impact.\n",
    "* Describe and analysis a dataset and its characteristics; size, representation and attributes,\n",
    "* Discuss whether bivariate or multivariate analysis is most suitable for your predictive model.\n",
    "  \n",
    "* Choose/apply (a) learning algorithm(s) and identify its/their categories; supervised, unsupervised, semi-supervised.\n",
    "\n",
    "Analytically or experiemntally evaluate your choice of machine learning solution; its suitability, cost, and apply an error evaluation metric to justify your choice, e.g., classification accuracy of classification problems, MSE and/or R^2 (R squared) for regression models, etc.\n",
    "\n",
    "Choose a learning algorithm which you think is less suitable for your predictive model and justify your “rejection” reasons.\n",
    "Format\n",
    "\n",
    "You will be assessed on you ability to express your design in a report of 2,000 words excluding references. This should be written in accordance with the word count policy assuming a ±10% tolerance, and the word count should be clearly indicated at the end of the report.\n",
    "\n",
    "You should submit the report as a word-processed document. The report should include a bibliography relevant to student research and this should be presented in UWE Harvard style. You will be assessed on your ability to present your design and on explaining your choices clearly and succinctly. You are free to upload (or provide a link to a repository of) any supporting implementation of your chosen solution side by side with your report. Instructions to run the code should also be provided or otherwise will not be considered for the assessment.\n",
    "\n",
    "A suggested format for your coursework report (paper) is provided as a template of IEEE manuscript for conference proceedings. The template is provided on Module’s Blackboard. Please note this format is optional.\n",
    "\n",
    "### Assessment\n",
    "\n",
    "Discussion paper (report and analysis/implementation)\n",
    "\n",
    "Marks will be awarded according to the extent to which each student demonstrates the following:\n",
    "\n",
    "### Criterion\t\n",
    "A clear exploration of the importance and impact of machine learning techniques on a real-world problem.\tWeight 15%\n",
    "\n",
    "Showing clear understanding of a machine learning application and the dimensions considered to provide/design a suitable predictive model.\tWeight 30%\n",
    "\n",
    "A comprehensive identification and analysis of correct set of arguments which support your choice for a machine learning solution.\tWeight 30%\n",
    "\n",
    "Demonstration of the ability to evaluate (accuracy, performance and cost) a machine learning solution analytically and critically.\tWeight 25%\n",
    "\n",
    "Available: http://archive.ics.uci.edu/ml/index.html “A collection of databases, domain theories, and data generators that are used by the machine learning community for the empirical analysis of machine learning algorithms. The archive was created as an ftp archive in 1987 by David Aha and fellow graduate students at UC Irvine. Since that time, it has been widely used by students, educators, and researchers all over the world as a primary source of machine learning data sets. As an indication of the impact of the archive, it has been cited over 1000 times, making it one of the top 100 most cited \"papers\" in all of computer science. The current version of the web site was designed in 2007 by Arthur Asuncion and David Newman, and this project is in collaboration with Rexa.info at the University of Massachusetts Amherst.” ↩\n",
    "\n",
    "Visit https://www.kaggle.com/datasets ↩"
   ]
  }
 ],
 "metadata": {
  "language_info": {
   "name": "python"
  },
  "orig_nbformat": 4
 },
 "nbformat": 4,
 "nbformat_minor": 2
}
