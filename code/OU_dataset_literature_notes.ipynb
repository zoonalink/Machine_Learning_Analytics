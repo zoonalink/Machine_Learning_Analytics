{
 "cells": [
  {
   "cell_type": "code",
   "execution_count": null,
   "metadata": {},
   "outputs": [],
   "source": []
  },
  {
   "attachments": {},
   "cell_type": "markdown",
   "metadata": {},
   "source": [
    "[Open University Learning Analytics dataset](https://www.nature.com/articles/sdata2017171) \n",
    "\n",
    "Kuzilek, J. et al. Open University Learning Analytics dataset. Sci. Data 4:170171 doi: 10.1038/sdata.2017.171 (2017).\n",
    "\n",
    "* anonymised student interaction and demographic data for 7 modules over 2013 and 2014 with intakes in February and October\n",
    "* OU - \"one of largest distance learning universities worldwide\" -170,000 students\n",
    "* Curriculum: \n",
    "    * Module (course); presentation (run - year and intake month)\n",
    "    * Group size ~ 20 students\n",
    "    * Duration ~ 9 months\n",
    "    * Assessments, usually a final exam\n",
    "\n",
    "![OU data model](../_images/OU_data_model.png)\n",
    "![OU data schema](../_images/OU_data_schema.png)\n"
   ]
  },
  {
   "attachments": {},
   "cell_type": "markdown",
   "metadata": {},
   "source": [
    "More information about how the dataset was prepared available here: [OU Dataset Preparation](https://www.nature.com/articles/sdata2017171#Sec2)"
   ]
  },
  {
   "attachments": {},
   "cell_type": "markdown",
   "metadata": {},
   "source": [
    "Data:\n",
    "\n",
    "Student Demographic data - information about student\n",
    "Student Performance - results, achievents (outcomes)\n",
    "Student Learning Behaviour - log of student activities in VLE\n",
    "Curriculum - details about module including assessments, etc.\n",
    "\n",
    "\n",
    "Original dataset has 32,593 rows in students"
   ]
  },
  {
   "attachments": {},
   "cell_type": "markdown",
   "metadata": {},
   "source": [
    "https://www.gov.uk/government/statistics/english-indices-of-deprivation-2019\n",
    "\n",
    "IMD\n",
    "\n",
    "[IMD Infographic](https://assets.publishing.service.gov.uk/government/uploads/system/uploads/attachment_data/file/833959/IoD2019_Infographic.pdf)\n",
    "\n",
    "What is the Index of Multiple Deprivation (IMD)?\n",
    "The Index of Multiple Deprivation, commonly known as the IMD, is the official measure \n",
    "of relative deprivation for small areas in England. It is the most widely used of the \n",
    "Indices of Deprivation (IoD) (described in Question 1).\n",
    "5\n",
    "The Index of Multiple Deprivation (IMD) ranks every small area in England from 1 \n",
    "(most deprived area) to 32,844 (least deprived area).\n",
    "These small areas are a statistical geography called Lower-layer Super Output Areas \n",
    "and are explained further in Question 11.\n",
    "The IMD combines information from the seven domains to produce an overall relative \n",
    "measure of deprivation. The domains are combined using the following weights: \n",
    "• Income Deprivation (22.5%)\n",
    "• Employment Deprivation (22.5%)\n",
    "• Education, Skills and Training Deprivation (13.5%)\n",
    "• Health Deprivation and Disability (13.5%)\n",
    "• Crime (9.3%)\n",
    "• Barriers to Housing and Services (9.3%)\n",
    "• Living Environment Deprivation (9.3%)\n",
    "\n",
    "\n",
    "URI:\thttps://dera.ioe.ac.uk//id/eprint/34259\n",
    "\n",
    "The English Indices of Deprivation 2019 : technical report\n",
    "McLennan, David and Noble, Stefan and Noble, Michael and Plunkett, Emma and Wright, Gemma and Gutacker, Nils, Ministry of Housing, Communities and Local Government (MHCLG), corp creator. (2019) The English Indices of Deprivation 2019 : technical report. [ Guidance ]"
   ]
  },
  {
   "attachments": {},
   "cell_type": "markdown",
   "metadata": {},
   "source": [
    "https://www.jstor.org/stable/pdf/jeductechsoci.17.4.49.pdf\n",
    "\n",
    "Papamitsiou, Z., & Economides, A. (2014). Learning Analytics and Educational Data Mining in Practice: A Systematic Literature \n",
    "Review of Empirical Evidence. Educational Technology & Society, 17 (4), 49–64.\n",
    "\n",
    "\n",
    "Research objectives: \n",
    "\n",
    "Student behaviour modelling\n",
    "Performance prediction\n",
    "Increase self-reflection and self-awarenetss\n",
    "Prediction of dropout and retention\n",
    "Improve feedback and assessment services\n",
    "Recommendation of resources\n",
    "\n",
    "\n"
   ]
  },
  {
   "attachments": {},
   "cell_type": "markdown",
   "metadata": {},
   "source": [
    "Tempelaar, D; Rienties, Bart; Giesbers, G and Nguyen, Quan (2023). Modeling temporality in person and\n",
    "variable centered approaches. Journal of Learning Analytics (In Press).\n",
    "\n",
    "Learning as temporal - unfolding in time v more static variables\n",
    "Balancing the two"
   ]
  },
  {
   "attachments": {},
   "cell_type": "markdown",
   "metadata": {},
   "source": [
    "https://doi.org/10.4324/9781003177098-1\n",
    "\n",
    "Rienties, Bart; Hampel, Regine; Scanlon, Eileen and Whitelock, Denise (2022). Introduction to open world\n",
    "learning: Research, innovation and the challenges of high-quality education. In: Rienties, Bart; Hampel, Regine;\n",
    "Scanlon, Eileen and Whitelock, Denise eds. Open World Learning: Research, Innovation and the Challenges of\n",
    "High-Quality Education. New York, USA: Routledge, pp. 1–12.\n",
    "\n",
    "https://oro.open.ac.uk/84211/1/84211.pdf\n"
   ]
  },
  {
   "attachments": {},
   "cell_type": "markdown",
   "metadata": {},
   "source": [
    "QAA Modelling and Managing Student Satisfaction:Use of student feedback to enhance learning experience\n",
    "\n",
    "https://www.slideshare.net/BartRienties/qaa-modelling-and-managing-student-satisfaction-use-of-student-feedback-to-enhance-learning-experience \n",
    "\n",
    "![Adding student satisfaction surveys](../_images/OU_SE_BR.png)"
   ]
  },
  {
   "attachments": {},
   "cell_type": "markdown",
   "metadata": {},
   "source": [
    "Rizvi, Saman; Rienties, Bart; Rogaten, Jekaterina and Kizilcec, René F. (2022). Beyond one-size-fits-all in MOOCs: Variation in learning design and persistence of learners in different cultural and socioeconomic contexts. Computers in Human Behavior, 126, article no. 106973.\n",
    "\n",
    "DOI: https://doi.org/10.1016/j.chb.2021.106973\n",
    "\n",
    "\"Despite the lofty aspirations of granting people universal access and opportunities for success, prior research has uncovered \n",
    "a range of individual and contextual factors, such as regional, cultural, and socioeconomic backgrounds, that affect \n",
    "individual learning behaviors and outcomes.\""
   ]
  },
  {
   "attachments": {},
   "cell_type": "markdown",
   "metadata": {},
   "source": [
    "Rienties, Bart (2022). Implementing learning analytics at scale in an online world: lessons learned from the Open University UK. In: Liebowitz, J. ed. Online learning analytics. Abingdon: Taylor & Francis, pp. 57–78.\n",
    "\n",
    "DOI: https://doi.org/10.1201/9781003194620-4\n",
    "\n",
    "\" The findings indicate that active engagement by educators with learning analytics can positively improve the chances of learners to get support early, and to set them up for success. However, more needs to be done to actively support our educators to make sense of learning data.\"\n",
    "\n"
   ]
  }
 ],
 "metadata": {
  "language_info": {
   "name": "python"
  },
  "orig_nbformat": 4
 },
 "nbformat": 4,
 "nbformat_minor": 2
}
