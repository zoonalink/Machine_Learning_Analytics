{
 "cells": [
  {
   "attachments": {},
   "cell_type": "markdown",
   "metadata": {},
   "source": [
    "# code separated out into code blocks\n",
    "\n",
    "add comments from other files"
   ]
  },
  {
   "cell_type": "code",
   "execution_count": 1,
   "metadata": {},
   "outputs": [],
   "source": [
    "\n",
    "\n",
    "zipfile_ou = '../data/anonymisedData.zip'\n",
    "prediction_point = 200\n",
    "\n",
    "import pandas as pd\n",
    "import numpy as np\n",
    "import zipfile\n",
    "import matplotlib.pyplot as plt\n",
    "\n",
    "\n"
   ]
  },
  {
   "cell_type": "code",
   "execution_count": 3,
   "metadata": {},
   "outputs": [],
   "source": [
    "\n",
    "\n",
    "def load_data(zip_file_path):\n",
    "    '''Loads the data from the Open University Learning Analytics dataset zip file.'''\n",
    "    \n",
    "    with zipfile.ZipFile(zip_file_path, 'r') as zip_file:\n",
    "        registrations = pd.read_csv(zip_file.open('studentRegistration.csv'))\n",
    "        courses = pd.read_csv(zip_file.open('courses.csv'))\n",
    "        students = pd.read_csv(zip_file.open('studentInfo.csv'))\n",
    "        student_vle = pd.read_csv(zip_file.open('studentVle.csv'))\n",
    "        vle = pd.read_csv(zip_file.open('vle.csv'))\n",
    "        student_assessments = pd.read_csv(zip_file.open('studentAssessment.csv'))\n",
    "        assessments = pd.read_csv(zip_file.open('assessments.csv'))\n",
    "    \n",
    "    return registrations, courses, students, student_vle, vle, student_assessments, assessments\n",
    "\n",
    "\n",
    "\n",
    "\n"
   ]
  },
  {
   "cell_type": "code",
   "execution_count": 70,
   "metadata": {},
   "outputs": [],
   "source": [
    "registrations, courses, students, student_vle, vle, student_assessments, assessments = load_data(zipfile_ou)"
   ]
  },
  {
   "cell_type": "code",
   "execution_count": 71,
   "metadata": {},
   "outputs": [],
   "source": [
    "\n",
    "# merge students and courses\n",
    "student_regist = pd.merge(students, courses, on=['code_module', 'code_presentation'], validate='many_to_one')\n",
    "\n",
    "# merge registrations\n",
    "student_regist = pd.merge(student_regist, registrations, on=['code_module', 'code_presentation', 'id_student'], how = 'left', validate='1:1')\n"
   ]
  },
  {
   "cell_type": "code",
   "execution_count": 72,
   "metadata": {},
   "outputs": [],
   "source": [
    "\n",
    "#prediction_point default\n",
    "if prediction_point is None:\n",
    "    prediction_point = max(student_regist['module_presentation_length'])\n"
   ]
  },
  {
   "cell_type": "code",
   "execution_count": 73,
   "metadata": {},
   "outputs": [],
   "source": [
    "\n",
    "# drop missing value rows (date_registration, imd_band)\n",
    "student_regist.dropna(subset=['date_registration', 'imd_band'], inplace=True)\n"
   ]
  },
  {
   "cell_type": "code",
   "execution_count": 74,
   "metadata": {},
   "outputs": [],
   "source": [
    "\n",
    "# prediction point must be less than course length, integer, and greater than 0\n",
    "if not isinstance(prediction_point, int) or prediction_point <= 0 or prediction_point >= max(student_regist['module_presentation_length']):\n",
    "    print(\"Error: Invalid prediction point. \\n\\nPlease provide an integer value greater than 0 and less than the maximum course length. \\n\\nThis is the number of days from the start of the course for which you want to predict the outcome.\")\n",
    "else:\n",
    "    # withdrawn or failed before prediction point - remove\n",
    "    withdrawn_fail_condition = (student_regist['final_result'].isin(['Withdrawn', 'Fail'])) & (student_regist['date_unregistration'] <= prediction_point)\n",
    "    student_regist.loc[withdrawn_fail_condition, 'status'] = 'remove_outcome_known'\n",
    "    # if unregister after prediction point - keep\n",
    "    unregister_after_condition = student_regist['date_unregistration'] > prediction_point\n",
    "    student_regist.loc[unregister_after_condition, 'status'] = 'keep'\n",
    "    # if no unregistration date - keep\n",
    "    no_unregistration_condition = student_regist['date_unregistration'].isna()\n",
    "    student_regist.loc[no_unregistration_condition, 'status'] = 'keep'\n",
    "    # default case\n",
    "    student_regist.loc[~(withdrawn_fail_condition | unregister_after_condition | no_unregistration_condition), 'status'] = 'query'\n",
    "\n",
    "    # rows which need investigation\n",
    "    query_rows = student_regist[student_regist['status'] == 'query'] | student_regist[student_regist['status'].isna()]\n"
   ]
  },
  {
   "cell_type": "code",
   "execution_count": 75,
   "metadata": {},
   "outputs": [
    {
     "name": "stdout",
     "output_type": "stream",
     "text": [
      "<class 'pandas.core.frame.DataFrame'>\n",
      "Int64Index: 0 entries\n",
      "Data columns (total 16 columns):\n",
      " #   Column                      Non-Null Count  Dtype\n",
      "---  ------                      --------------  -----\n",
      " 0   code_module                 0 non-null      bool \n",
      " 1   code_presentation           0 non-null      bool \n",
      " 2   id_student                  0 non-null      int64\n",
      " 3   gender                      0 non-null      bool \n",
      " 4   region                      0 non-null      bool \n",
      " 5   highest_education           0 non-null      bool \n",
      " 6   imd_band                    0 non-null      bool \n",
      " 7   age_band                    0 non-null      bool \n",
      " 8   num_of_prev_attempts        0 non-null      int64\n",
      " 9   studied_credits             0 non-null      int64\n",
      " 10  disability                  0 non-null      bool \n",
      " 11  final_result                0 non-null      bool \n",
      " 12  module_presentation_length  0 non-null      int64\n",
      " 13  date_registration           0 non-null      bool \n",
      " 14  date_unregistration         0 non-null      bool \n",
      " 15  status                      0 non-null      bool \n",
      "dtypes: bool(12), int64(4)\n",
      "memory usage: 0.0 bytes\n"
     ]
    },
    {
     "data": {
      "text/plain": [
       "False"
      ]
     },
     "execution_count": 75,
     "metadata": {},
     "output_type": "execute_result"
    }
   ],
   "source": [
    "query_rows.info()\n",
    "not query_rows.empty"
   ]
  },
  {
   "cell_type": "code",
   "execution_count": 76,
   "metadata": {},
   "outputs": [],
   "source": [
    "\n",
    "# print rows which need investigation\n",
    "if not query_rows.empty:\n",
    "    print(\"The following rows need investigation.  They are excluded from the following analysis: \\n\")\n",
    "    print(query_rows)\n",
    "    student_regist = student_regist[~student_regist.isin(query_rows)].dropna()\n"
   ]
  },
  {
   "cell_type": "code",
   "execution_count": 86,
   "metadata": {},
   "outputs": [
    {
     "name": "stdout",
     "output_type": "stream",
     "text": [
      "<class 'pandas.core.frame.DataFrame'>\n",
      "Int64Index: 31437 entries, 0 to 32592\n",
      "Data columns (total 17 columns):\n",
      " #   Column                      Non-Null Count  Dtype  \n",
      "---  ------                      --------------  -----  \n",
      " 0   code_module                 31437 non-null  object \n",
      " 1   code_presentation           31437 non-null  object \n",
      " 2   id_student                  31437 non-null  int64  \n",
      " 3   gender                      31437 non-null  object \n",
      " 4   region                      31437 non-null  object \n",
      " 5   highest_education           31437 non-null  object \n",
      " 6   imd_band                    31437 non-null  object \n",
      " 7   age_band                    31437 non-null  object \n",
      " 8   num_of_prev_attempts        31437 non-null  int64  \n",
      " 9   studied_credits             31437 non-null  int64  \n",
      " 10  disability                  31437 non-null  object \n",
      " 11  final_result                31437 non-null  object \n",
      " 12  module_presentation_length  31437 non-null  int64  \n",
      " 13  date_registration           31437 non-null  float64\n",
      " 14  date_unregistration         31437 non-null  float64\n",
      " 15  status                      31437 non-null  object \n",
      " 16  condition                   31437 non-null  bool   \n",
      "dtypes: bool(1), float64(2), int64(4), object(10)\n",
      "memory usage: 4.1+ MB\n"
     ]
    }
   ],
   "source": [
    "student_regist.info()"
   ]
  },
  {
   "cell_type": "code",
   "execution_count": 78,
   "metadata": {},
   "outputs": [],
   "source": [
    "\n",
    "# replace missing date_unreg with module_presentation_length\n",
    "student_regist['date_unregistration'] = student_regist['date_unregistration'].fillna(student_regist['module_presentation_length'])\n"
   ]
  },
  {
   "cell_type": "code",
   "execution_count": 85,
   "metadata": {},
   "outputs": [],
   "source": [
    "\n",
    "\n",
    "\n",
    "# drop students who unregistered before registering\n",
    "student_regist = student_regist[student_regist['date_unregistration'] >= student_regist['date_registration']]\n",
    "\n"
   ]
  },
  {
   "cell_type": "code",
   "execution_count": 87,
   "metadata": {},
   "outputs": [],
   "source": [
    "\n",
    "# remove rows from final student df which are not needed\n",
    "model_final = student_regist[student_regist['status'] != 'remove_outcome_known']\n",
    "   \n",
    "\n",
    "\n",
    "\n"
   ]
  },
  {
   "cell_type": "code",
   "execution_count": 90,
   "metadata": {},
   "outputs": [
    {
     "data": {
      "text/plain": [
       "code_module                   22149\n",
       "code_presentation             22149\n",
       "id_student                    22149\n",
       "gender                        22149\n",
       "region                        22149\n",
       "highest_education             22149\n",
       "imd_band                      22149\n",
       "age_band                      22149\n",
       "num_of_prev_attempts          22149\n",
       "studied_credits               22149\n",
       "disability                    22149\n",
       "final_result                  22149\n",
       "module_presentation_length    22149\n",
       "date_registration             22149\n",
       "date_unregistration           22149\n",
       "status                        22149\n",
       "condition                     22149\n",
       "dtype: int64"
      ]
     },
     "execution_count": 90,
     "metadata": {},
     "output_type": "execute_result"
    }
   ],
   "source": [
    "model_final.count()\n",
    "#model_final['status'].unique()"
   ]
  },
  {
   "cell_type": "code",
   "execution_count": 93,
   "metadata": {},
   "outputs": [],
   "source": [
    "\n",
    " \n",
    "# merge 'assessments' and 'courses' on 'code_module' and 'code_presentation'\n",
    "course_assess = pd.merge(assessments, courses, on=['code_module', 'code_presentation'], how='left')\n"
   ]
  },
  {
   "cell_type": "code",
   "execution_count": 94,
   "metadata": {},
   "outputs": [
    {
     "name": "stdout",
     "output_type": "stream",
     "text": [
      "<class 'pandas.core.frame.DataFrame'>\n",
      "RangeIndex: 206 entries, 0 to 205\n",
      "Data columns (total 6 columns):\n",
      " #   Column             Non-Null Count  Dtype  \n",
      "---  ------             --------------  -----  \n",
      " 0   code_module        206 non-null    object \n",
      " 1   code_presentation  206 non-null    object \n",
      " 2   id_assessment      206 non-null    int64  \n",
      " 3   assessment_type    206 non-null    object \n",
      " 4   date               195 non-null    float64\n",
      " 5   weight             206 non-null    float64\n",
      "dtypes: float64(2), int64(1), object(3)\n",
      "memory usage: 9.8+ KB\n"
     ]
    }
   ],
   "source": [
    "assessments.info()"
   ]
  },
  {
   "cell_type": "code",
   "execution_count": null,
   "metadata": {},
   "outputs": [],
   "source": [
    "\n",
    "    # fill in the missing 'date' values with course final week (as per literature)\n",
    "    value_to_fill = course_assess['module_presentation_length'] - 3\n",
    "    course_assess['date'] = course_assess['date'].fillna(value_to_fill)\n",
    "\n",
    "    # merge student_assessments with course_assess\n",
    "    stu_assess = pd.merge(student_assessments, course_assess, on=['id_assessment'], how='left')\n",
    "\n",
    "    # drop students who have no score for an assessment\n",
    "    missing_score_rows = stu_assess[stu_assess['score'].isna()]\n",
    "\n",
    "    if not missing_score_rows.empty:\n",
    "        print(\"The following students have missing 'scores'. They are excluded from the following analysis: \\n\")\n",
    "        print(missing_score_rows)\n",
    "\n",
    "        # student ids with missing score\n",
    "        unique_ids_missing = missing_score_rows['id_student'].unique()\n",
    "\n",
    "        # remove students with missing score from model_final\n",
    "        model_final = model_final[~model_final['id_student'].isin(unique_ids_missing)]\n",
    "\n",
    "        # drop rows with missing score\n",
    "        stu_assess.dropna(subset=['score'], inplace=True)\n",
    "\n",
    "    # remove students with negative or extreme date_submitted values\n",
    "    max_module_length = stu_assess['module_presentation_length'].max()\n",
    "    greater_than_max_length = stu_assess[stu_assess['date_submitted'] > max_module_length]['id_student'].unique()\n",
    "    less_than_zero = stu_assess[stu_assess['date_submitted'] < 0]['id_student'].unique()\n",
    "    students_to_remove = set(greater_than_max_length) | set(less_than_zero)\n",
    "    model_final = model_final[~model_final['id_student'].isin(students_to_remove)]\n",
    "    stu_assess = stu_assess[~stu_assess['id_student'].isin(students_to_remove)]\n",
    "\n",
    "    # reduce data by prediction point\n",
    "    model_student_assess = stu_assess[stu_assess['date'] <= prediction_point]\n",
    "\n",
    "    # get expected assessment details\n",
    "    model_course_assess = course_assess[course_assess['date'] <= prediction_point]\n",
    "    expected_ass = model_course_assess.groupby(['code_module', 'code_presentation'])['id_assessment'].count().reset_index()\n",
    "    expected_ass = expected_ass.rename(columns={'id_assessment': 'exp_sub_count'})\n",
    "    date_sum = model_course_assess.groupby(['code_module', 'code_presentation'])['date'].sum().reset_index()\n",
    "    expected_ass = expected_ass.merge(date_sum, on=['code_module', 'code_presentation'], how='left')\n",
    "    expected_ass = expected_ass.rename(columns={'date': 'exp_sub_date_sum'})\n",
    "\n",
    "    # summarise students' assessments by module_presentation\n",
    "    student_assessment_summary = model_student_assess.groupby(['id_student', 'code_module', 'code_presentation']).agg(\n",
    "        count_id_assessment=('id_assessment', 'count'),\n",
    "        sum_score=('score', 'sum'),\n",
    "        sum_date=('date', 'sum')\n",
    "    ).reset_index()\n",
    "\n",
    "    # merge student_assessment_summary and expected_ass on code_module and code_presentation\n",
    "    merged_assess_summary = student_assessment_summary.merge(expected_ass, on=['code_module', 'code_presentation'])\n",
    "\n",
    "    # calculate the new features\n",
    "    merged_assess_summary['prop_submissions'] = merged_assess_summary['count_id_assessment'] / merged_assess_summary['exp_sub_count']\n",
    "    merged_assess_summary['avg_score'] = merged_assess_summary['sum_score'] / merged_assess_summary['exp_sub_count']\n",
    "    merged_assess_summary['submission_distance'] = merged_assess_summary['exp_sub_date_sum'] - merged_assess_summary['sum_date']\n",
    "\n",
    "    # merge with 'model_final'\n",
    "    model_final = model_final.merge(merged_assess_summary, on=['id_student', 'code_module', 'code_presentation'], how='inner')\n",
    "\n",
    "    return model_final"
   ]
  },
  {
   "cell_type": "code",
   "execution_count": 10,
   "metadata": {},
   "outputs": [],
   "source": [
    "def add_vle_data(model_final, student_vle, vle, courses, prediction_point=None):\n",
    "    '''Returns updated model_final dataframe with vle data:\n",
    "\n",
    "    prediction_point is an integer representing the number of days from the start of the course for which you want to predict the outcome.\n",
    "\n",
    "    default is max(student_regist['module_presentation_length']) - that is, the last da of the lengthiest course\n",
    "\n",
    "    - merge 'vle' and 'courses' and 'student_vle'\n",
    "    - remove columns (week_from, week_to)\n",
    "    - filter the rows where 'date' <= 'prediction_point'\n",
    "    - create new features: vle_activity_count, student vle type count, student total clicks, student days active (engaged)\n",
    "    \n",
    "    '''\n",
    "    # merge 'vle' and 'courses' on 'code_module' and 'code_presentation'\n",
    "    course_vle = vle.merge(courses, on=['code_module', 'code_presentation'], how='left').drop(['week_from', 'week_to'], axis=1)\n",
    "\n",
    "    # merge vle with student_vle\n",
    "    all_stu_vle = pd.merge(student_vle, course_vle, on=['id_site', 'code_module', 'code_presentation'], how='left')\n",
    "\n",
    "    # filter the rows where 'date' <= 'prediction_point'\n",
    "    all_stu_vle = all_stu_vle[all_stu_vle['date'] <= prediction_point]\n",
    "\n",
    "    # filter the rows where 'date' is greater than 'module_presentation_length'\n",
    "    vle_after_done = all_stu_vle[all_stu_vle['date'] > all_stu_vle['module_presentation_length']]\n",
    "\n",
    "    if not vle_after_done.empty:\n",
    "        print(\"The following rows need investigation. They are excluded from the following analysis: \\n\")\n",
    "        print(vle_after_done)\n",
    "\n",
    "        # match rows based on 'code_module', 'code_presentation', and 'id_student'\n",
    "        matching_rows = model_final[model_final[['code_module', 'code_presentation', 'id_student']].isin(vle_after_done).all(axis=1)]\n",
    "\n",
    "        # remove the matching rows from 'model_final'\n",
    "        model_final = model_final[~model_final.index.isin(matching_rows.index)]\n",
    "\n",
    "    # aggregations for each column\n",
    "    aggregations = {\n",
    "        'id_site': 'count',\n",
    "        'activity_type': 'nunique',\n",
    "        'sum_click': 'sum',\n",
    "        'date': lambda x: x.nunique()\n",
    "    }\n",
    "\n",
    "    # group and apply the aggregations\n",
    "    grouped_stu_vle = all_stu_vle.groupby(['code_module', 'code_presentation', 'id_student']).agg(aggregations).reset_index()\n",
    "\n",
    "    # rename the columns\n",
    "    grouped_stu_vle.rename(columns={\n",
    "        'id_site': 'stu_activity_count',\n",
    "        'activity_type': 'stu_activity_type_count',\n",
    "        'sum_click': 'stu_total_clicks',\n",
    "        'date': 'stu_days_active'\n",
    "    }, inplace=True)\n",
    "\n",
    "    # number of vle types per module_presentation\n",
    "    group_vle = vle.groupby(['code_module', 'code_presentation'])['activity_type'].nunique().reset_index()\n",
    "    group_vle.rename(columns={'activity_type': 'mod_pres_vle_type_count'}, inplace=True)\n",
    "\n",
    "    # merge 'grouped_stu_vle' and 'group_vle' on 'code_module' and 'code_presentation'\n",
    "    merged_vle_summary = grouped_stu_vle.merge(group_vle, on=['code_module', 'code_presentation'], how='left')\n",
    "\n",
    "    # merge with 'model_final'\n",
    "    model_final = model_final.merge(merged_vle_summary, on=['id_student', 'code_module', 'code_presentation'], how='inner')\n",
    "\n",
    "    return model_final\n"
   ]
  },
  {
   "cell_type": "code",
   "execution_count": 11,
   "metadata": {},
   "outputs": [],
   "source": [
    "def tidy_up_model_final(model_final):\n",
    "    '''Returns updated model_final dataframe:\n",
    "    - deleted unnecessary columns\n",
    "    - reordered columns\n",
    "    - added subject, year, month columns\n",
    "    \n",
    "    '''\n",
    "    # new columns for module_presentation - subject, year, month\n",
    "    model_final['year'] = model_final['code_presentation'].str[:4].astype(int)\n",
    "    model_final['month'] = model_final['code_presentation'].str[-1].map({'J': 'Oct', 'B': 'Feb'})\n",
    "\n",
    "    # module subject mapping\n",
    "    code_module_mapping = {\n",
    "        'AAA': 'SocSci',\n",
    "        'BBB': 'SocSci',\n",
    "        'GGG': 'SocSci',\n",
    "        'CCC': 'Stem',\n",
    "        'DDD': 'Stem',\n",
    "        'EEE': 'Stem',\n",
    "        'FFF': 'Stem'\n",
    "    }\n",
    "    model_final['subject'] = model_final['code_module'].map(code_module_mapping)\n",
    "\n",
    "    # rename 'module_presentation_length' to 'course_length'\n",
    "    model_final.rename(columns={'module_presentation_length': 'course_length'}, inplace=True)\n",
    "\n",
    "    # combine 'code_module', 'code_presentation', and 'id_student' into 'mod_pres_stu'\n",
    "    model_final['mod_pres_stu'] = model_final['code_module'] + '-' + model_final['code_presentation'] + '-' + model_final['id_student'].astype(str)\n",
    "\n",
    "    # drop the separate columns 'code_module', 'code_presentation', and 'id_student'\n",
    "    model_final.drop(columns=['code_module', 'code_presentation', 'id_student'], inplace=True)\n",
    "\n",
    "    # move 'final_result' to the last column\n",
    "    final_result_column = model_final.pop('final_result')\n",
    "    model_final['final_result'] = final_result_column\n",
    "\n",
    "    # insert 'mod_pres_stu' as the first column\n",
    "    mod_pres_stu_column = model_final.pop('mod_pres_stu')\n",
    "    model_final.insert(0, 'mod_pres_stu', mod_pres_stu_column)\n",
    "\n",
    "    # drop columns: 'count_id_assessment', 'sum_score', 'sum_date', 'exp_sub_count', 'exp_sub_date_sum'\n",
    "    model_final.drop(columns=['count_id_assessment', 'sum_score', 'sum_date', 'exp_sub_count', 'exp_sub_date_sum'], inplace=True)\n",
    "\n",
    "    return model_final\n"
   ]
  },
  {
   "cell_type": "code",
   "execution_count": 15,
   "metadata": {},
   "outputs": [],
   "source": [
    "\n",
    "zipfile_ou = '../data/anonymisedData.zip'\n",
    "prediction_point = 200\n",
    "\n",
    "import pandas as pd\n",
    "import numpy as np\n",
    "import zipfile\n",
    "import matplotlib.pyplot as plt"
   ]
  },
  {
   "cell_type": "code",
   "execution_count": 30,
   "metadata": {},
   "outputs": [],
   "source": [
    "def process_data(zip_file, prediction_point):\n",
    "    # Load data from the zip file\n",
    "    registrations, courses, students, student_vle, vle, student_assessments, assessments = load_data(zip_file)\n",
    "\n",
    "    # Process student data\n",
    "    model_final = student_data(students, courses, registrations, prediction_point)\n",
    "\n",
    "    # Add assessments to model_final\n",
    "    model_final = add_assessments(model_final, student_assessments, assessments, courses, prediction_point)\n",
    "\n",
    "    # Add VLE data to model_final\n",
    "    model_final = add_vle_data(model_final, student_vle, vle, courses, prediction_point)\n",
    "\n",
    "    # Tidy up model_final\n",
    "    model_final = tidy_up_model_final(model_final)\n",
    "\n",
    "    return model_final\n",
    "\n",
    "\n"
   ]
  },
  {
   "cell_type": "code",
   "execution_count": 31,
   "metadata": {},
   "outputs": [
    {
     "ename": "ValueError",
     "evalue": "max() arg is an empty sequence",
     "output_type": "error",
     "traceback": [
      "\u001b[1;31m---------------------------------------------------------------------------\u001b[0m",
      "\u001b[1;31mValueError\u001b[0m                                Traceback (most recent call last)",
      "\u001b[1;32mc:\\Users\\zoona\\OneDrive - UWE Bristol\\Modules\\ML_CW\\Machine_Learning_Analytics\\code\\data_v1_1.ipynb Cell 10\u001b[0m in \u001b[0;36m1\n\u001b[1;32m----> <a href='vscode-notebook-cell:/c%3A/Users/zoona/OneDrive%20-%20UWE%20Bristol/Modules/ML_CW/Machine_Learning_Analytics/code/data_v1_1.ipynb#X10sZmlsZQ%3D%3D?line=0'>1</a>\u001b[0m process_data(zipfile_ou, prediction_point)\n",
      "\u001b[1;32mc:\\Users\\zoona\\OneDrive - UWE Bristol\\Modules\\ML_CW\\Machine_Learning_Analytics\\code\\data_v1_1.ipynb Cell 10\u001b[0m in \u001b[0;36m6\n\u001b[0;32m      <a href='vscode-notebook-cell:/c%3A/Users/zoona/OneDrive%20-%20UWE%20Bristol/Modules/ML_CW/Machine_Learning_Analytics/code/data_v1_1.ipynb#X10sZmlsZQ%3D%3D?line=2'>3</a>\u001b[0m registrations, courses, students, student_vle, vle, student_assessments, assessments \u001b[39m=\u001b[39m load_data(zip_file)\n\u001b[0;32m      <a href='vscode-notebook-cell:/c%3A/Users/zoona/OneDrive%20-%20UWE%20Bristol/Modules/ML_CW/Machine_Learning_Analytics/code/data_v1_1.ipynb#X10sZmlsZQ%3D%3D?line=4'>5</a>\u001b[0m \u001b[39m# Process student data\u001b[39;00m\n\u001b[1;32m----> <a href='vscode-notebook-cell:/c%3A/Users/zoona/OneDrive%20-%20UWE%20Bristol/Modules/ML_CW/Machine_Learning_Analytics/code/data_v1_1.ipynb#X10sZmlsZQ%3D%3D?line=5'>6</a>\u001b[0m model_final \u001b[39m=\u001b[39m student_data(students, courses, registrations, prediction_point)\n\u001b[0;32m      <a href='vscode-notebook-cell:/c%3A/Users/zoona/OneDrive%20-%20UWE%20Bristol/Modules/ML_CW/Machine_Learning_Analytics/code/data_v1_1.ipynb#X10sZmlsZQ%3D%3D?line=7'>8</a>\u001b[0m \u001b[39m# Add assessments to model_final\u001b[39;00m\n\u001b[0;32m      <a href='vscode-notebook-cell:/c%3A/Users/zoona/OneDrive%20-%20UWE%20Bristol/Modules/ML_CW/Machine_Learning_Analytics/code/data_v1_1.ipynb#X10sZmlsZQ%3D%3D?line=8'>9</a>\u001b[0m model_final \u001b[39m=\u001b[39m add_assessments(model_final, student_assessments, assessments, courses, prediction_point)\n",
      "\u001b[1;32mc:\\Users\\zoona\\OneDrive - UWE Bristol\\Modules\\ML_CW\\Machine_Learning_Analytics\\code\\data_v1_1.ipynb Cell 10\u001b[0m in \u001b[0;36m3\n\u001b[0;32m     <a href='vscode-notebook-cell:/c%3A/Users/zoona/OneDrive%20-%20UWE%20Bristol/Modules/ML_CW/Machine_Learning_Analytics/code/data_v1_1.ipynb#X10sZmlsZQ%3D%3D?line=33'>34</a>\u001b[0m student_regist \u001b[39m=\u001b[39m student_regist[student_regist[\u001b[39m'\u001b[39m\u001b[39mdate_unregistration\u001b[39m\u001b[39m'\u001b[39m] \u001b[39m<\u001b[39m student_regist[\u001b[39m'\u001b[39m\u001b[39mdate_registration\u001b[39m\u001b[39m'\u001b[39m]]\n\u001b[0;32m     <a href='vscode-notebook-cell:/c%3A/Users/zoona/OneDrive%20-%20UWE%20Bristol/Modules/ML_CW/Machine_Learning_Analytics/code/data_v1_1.ipynb#X10sZmlsZQ%3D%3D?line=35'>36</a>\u001b[0m \u001b[39m# prediction point must be less than course length, integer, and greater than 0\u001b[39;00m\n\u001b[1;32m---> <a href='vscode-notebook-cell:/c%3A/Users/zoona/OneDrive%20-%20UWE%20Bristol/Modules/ML_CW/Machine_Learning_Analytics/code/data_v1_1.ipynb#X10sZmlsZQ%3D%3D?line=36'>37</a>\u001b[0m \u001b[39mif\u001b[39;00m \u001b[39mnot\u001b[39;00m \u001b[39misinstance\u001b[39m(prediction_point, \u001b[39mint\u001b[39m) \u001b[39mor\u001b[39;00m prediction_point \u001b[39m<\u001b[39m\u001b[39m=\u001b[39m \u001b[39m0\u001b[39m \u001b[39mor\u001b[39;00m prediction_point \u001b[39m>\u001b[39m\u001b[39m=\u001b[39m \u001b[39mmax\u001b[39;49m(student_regist[\u001b[39m'\u001b[39;49m\u001b[39mmodule_presentation_length\u001b[39;49m\u001b[39m'\u001b[39;49m]):\n\u001b[0;32m     <a href='vscode-notebook-cell:/c%3A/Users/zoona/OneDrive%20-%20UWE%20Bristol/Modules/ML_CW/Machine_Learning_Analytics/code/data_v1_1.ipynb#X10sZmlsZQ%3D%3D?line=37'>38</a>\u001b[0m     \u001b[39mprint\u001b[39m(\u001b[39m\"\u001b[39m\u001b[39mError: Invalid prediction point. \u001b[39m\u001b[39m\\n\u001b[39;00m\u001b[39m\\n\u001b[39;00m\u001b[39mPlease provide an integer value greater than 0 and less than the maximum course length. \u001b[39m\u001b[39m\\n\u001b[39;00m\u001b[39m\\n\u001b[39;00m\u001b[39mThis is the number of days from the start of the course for which you want to predict the outcome.\u001b[39m\u001b[39m\"\u001b[39m)\n\u001b[0;32m     <a href='vscode-notebook-cell:/c%3A/Users/zoona/OneDrive%20-%20UWE%20Bristol/Modules/ML_CW/Machine_Learning_Analytics/code/data_v1_1.ipynb#X10sZmlsZQ%3D%3D?line=38'>39</a>\u001b[0m \u001b[39melse\u001b[39;00m:\n\u001b[0;32m     <a href='vscode-notebook-cell:/c%3A/Users/zoona/OneDrive%20-%20UWE%20Bristol/Modules/ML_CW/Machine_Learning_Analytics/code/data_v1_1.ipynb#X10sZmlsZQ%3D%3D?line=39'>40</a>\u001b[0m     \u001b[39m# withdrawn or failed before prediction point - remove\u001b[39;00m\n",
      "\u001b[1;31mValueError\u001b[0m: max() arg is an empty sequence"
     ]
    }
   ],
   "source": [
    "process_data(zipfile_ou, prediction_point)"
   ]
  },
  {
   "attachments": {},
   "cell_type": "markdown",
   "metadata": {},
   "source": [
    "add default for prediction point, ie. if none"
   ]
  }
 ],
 "metadata": {
  "kernelspec": {
   "display_name": "Python 3",
   "language": "python",
   "name": "python3"
  },
  "language_info": {
   "codemirror_mode": {
    "name": "ipython",
    "version": 3
   },
   "file_extension": ".py",
   "mimetype": "text/x-python",
   "name": "python",
   "nbconvert_exporter": "python",
   "pygments_lexer": "ipython3",
   "version": "3.11.0"
  },
  "orig_nbformat": 4
 },
 "nbformat": 4,
 "nbformat_minor": 2
}
