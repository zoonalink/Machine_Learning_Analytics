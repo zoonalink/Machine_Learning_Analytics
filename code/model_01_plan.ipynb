{
 "cells": [
  {
   "attachments": {},
   "cell_type": "markdown",
   "metadata": {},
   "source": [
    "# Data Modelling (Pseudo Plan)\n"
   ]
  },
  {
   "attachments": {},
   "cell_type": "markdown",
   "metadata": {},
   "source": [
    "1. Data Splitting\n",
    "* Split into training and test\n",
    "    * Train:\n",
    "        * More detaile EDA (maybe - so no bias introduced)\n",
    "        * Training models\n",
    "        * Hyperparameter tuning with cross-validation\n",
    "\n",
    "2. Data Scaling\n",
    "* In order to take out effect of different scales (e.g. number of clicks v dates)\n",
    "* Applied to Train and then use same paramaters on Test (to avoid data leakage)\n",
    "\n",
    "3. Unsupervised Clustering / EDA (optional - to consider)\n",
    "* Explore student profiles through unsupervised clustering\n",
    "* K-means clustering, hierarchical clustering\n",
    "\n",
    "4. Supervised Prediction Model:\n",
    "* Predict student outcome (`final_result`) - so classifier, classfication models\n",
    "    * E.g. Random Forest, Decision Trees, Support Vector Machines, Naive Bayes\n",
    "* Prepare feature matrix:\n",
    "    * Consider feature reduction, selection\n",
    "    * Encode categorical variables - one-hot encoding, label encoding\n",
    "\n",
    "5. Feature Selection / Dimensionality Reduction (optional)\n",
    "* Consider reducing/simplifying features by selection or dimensionality reduction\n",
    "* Correlation analysis, mutual information, feature importance (trees and forests?) \n",
    "* Consider PCA, LDA\n",
    "\n",
    "6. Model Training and Evaluation: \n",
    "* Train model\n",
    "* Evaluate model - metrics like accuracy, precision, recall, F1, AUC-ROC\n",
    "* Compare and select\n",
    "\n",
    "7. Variable Effects questions:\n",
    "* Signficance of different variables or categories of variables (bio, demo, study, behaviour) on prediction\n",
    "\n",
    "8. Performance over time\n",
    "* Accuracy (of model) overtime - different prediction points to compare performance"
   ]
  },
  {
   "attachments": {},
   "cell_type": "markdown",
   "metadata": {},
   "source": [
    "## Split dataset\n",
    "\n",
    "I decided to split the dataset into three -  `train` and `test` on a 75/25 split with stratification to ensure that the proportions remain the same within each subset.\n",
    "\n",
    "* `train` - model training, hyperparameter tuning with k-fold cross validation\n",
    "* `test` - final model evaluation, remains unseen."
   ]
  },
  {
   "attachments": {},
   "cell_type": "markdown",
   "metadata": {},
   "source": [
    "### Data and Libraries"
   ]
  },
  {
   "cell_type": "code",
   "execution_count": 1,
   "metadata": {},
   "outputs": [],
   "source": [
    "# load libraries\n",
    "import pandas as pd\n",
    "import matplotlib as plt\n",
    "from sklearn.model_selection import train_test_split\n",
    "\n"
   ]
  },
  {
   "cell_type": "code",
   "execution_count": 17,
   "metadata": {},
   "outputs": [],
   "source": [
    "# load preprocessed data from csv file\n",
    "model = pd.read_csv('../data/final_model_ALL_20230525.csv')"
   ]
  },
  {
   "cell_type": "code",
   "execution_count": 18,
   "metadata": {},
   "outputs": [
    {
     "name": "stdout",
     "output_type": "stream",
     "text": [
      "<class 'pandas.core.frame.DataFrame'>\n",
      "RangeIndex: 31437 entries, 0 to 31436\n",
      "Data columns (total 25 columns):\n",
      " #   Column                   Non-Null Count  Dtype  \n",
      "---  ------                   --------------  -----  \n",
      " 0   code_module              31437 non-null  object \n",
      " 1   code_presentation        31437 non-null  object \n",
      " 2   gender                   31437 non-null  object \n",
      " 3   region                   31437 non-null  object \n",
      " 4   highest_education        31437 non-null  object \n",
      " 5   imd_band                 31437 non-null  object \n",
      " 6   age_band                 31437 non-null  object \n",
      " 7   num_of_prev_attempts     31437 non-null  int64  \n",
      " 8   studied_credits          31437 non-null  int64  \n",
      " 9   disability               31437 non-null  object \n",
      " 10  course_length            31437 non-null  int64  \n",
      " 11  date_registration        31437 non-null  float64\n",
      " 12  date_unregistration      31437 non-null  float64\n",
      " 13  prop_submissions         31437 non-null  float64\n",
      " 14  avg_score                31437 non-null  float64\n",
      " 15  submission_distance      31437 non-null  float64\n",
      " 16  stu_activity_count       31437 non-null  float64\n",
      " 17  stu_activity_type_count  31437 non-null  float64\n",
      " 18  stu_total_clicks         31437 non-null  float64\n",
      " 19  stu_days_active          31437 non-null  float64\n",
      " 20  mod_pres_vle_type_count  31437 non-null  float64\n",
      " 21  year                     31437 non-null  int64  \n",
      " 22  month                    31437 non-null  object \n",
      " 23  subject                  31437 non-null  object \n",
      " 24  final_result             31437 non-null  object \n",
      "dtypes: float64(10), int64(4), object(11)\n",
      "memory usage: 6.0+ MB\n"
     ]
    }
   ],
   "source": [
    "\n",
    "# drop 'id_student' column\n",
    "model = model.drop('id_student', axis=1)\n",
    "\n"
   ]
  },
  {
   "cell_type": "code",
   "execution_count": 30,
   "metadata": {},
   "outputs": [
    {
     "name": "stdout",
     "output_type": "stream",
     "text": [
      "<class 'pandas.core.frame.DataFrame'>\n",
      "RangeIndex: 31437 entries, 0 to 31436\n",
      "Data columns (total 25 columns):\n",
      " #   Column                   Non-Null Count  Dtype  \n",
      "---  ------                   --------------  -----  \n",
      " 0   code_module              31437 non-null  object \n",
      " 1   code_presentation        31437 non-null  object \n",
      " 2   gender                   31437 non-null  object \n",
      " 3   region                   31437 non-null  object \n",
      " 4   highest_education        31437 non-null  object \n",
      " 5   imd_band                 31437 non-null  object \n",
      " 6   age_band                 31437 non-null  object \n",
      " 7   num_of_prev_attempts     31437 non-null  int64  \n",
      " 8   studied_credits          31437 non-null  int64  \n",
      " 9   disability               31437 non-null  object \n",
      " 10  course_length            31437 non-null  int64  \n",
      " 11  date_registration        31437 non-null  float64\n",
      " 12  date_unregistration      31437 non-null  float64\n",
      " 13  prop_submissions         31437 non-null  float64\n",
      " 14  avg_score                31437 non-null  float64\n",
      " 15  submission_distance      31437 non-null  float64\n",
      " 16  stu_activity_count       31437 non-null  float64\n",
      " 17  stu_activity_type_count  31437 non-null  float64\n",
      " 18  stu_total_clicks         31437 non-null  float64\n",
      " 19  stu_days_active          31437 non-null  float64\n",
      " 20  mod_pres_vle_type_count  31437 non-null  float64\n",
      " 21  year                     31437 non-null  object \n",
      " 22  month                    31437 non-null  object \n",
      " 23  subject                  31437 non-null  object \n",
      " 24  final_result             31437 non-null  object \n",
      "dtypes: float64(10), int64(3), object(12)\n",
      "memory usage: 6.0+ MB\n"
     ]
    }
   ],
   "source": [
    "# drop 'status' - should have been dropped in function (now fixed)\n",
    "#model = model.drop('status', axis=1)\n",
    "\n",
    "#change year to str (object) - not fixed in function\n",
    "#model['year'] = model['year'].astype(str)\n",
    "\n",
    "\n",
    "model.info()"
   ]
  },
  {
   "cell_type": "code",
   "execution_count": 31,
   "metadata": {},
   "outputs": [],
   "source": [
    "\n",
    "\n",
    "# drop target from X, save target to y\n",
    "X = model.drop('final_result', axis=1)  \n",
    "y = model['final_result']  \n",
    "\n",
    "# split data into train and test sets with stratification\n",
    "X_train, X_test, y_train, y_test = train_test_split(X, y, test_size=0.2, stratify=y, random_state=567)\n"
   ]
  },
  {
   "attachments": {},
   "cell_type": "markdown",
   "metadata": {},
   "source": [
    "### check proportions - stratification\n",
    "\n",
    "It works!"
   ]
  },
  {
   "cell_type": "code",
   "execution_count": 32,
   "metadata": {},
   "outputs": [
    {
     "name": "stdout",
     "output_type": "stream",
     "text": [
      "Original Proportions:\n",
      "final_result\n",
      "Pass           0.376276\n",
      "Withdrawn      0.314311\n",
      "Fail           0.219550\n",
      "Distinction    0.089862\n",
      "Name: proportion, dtype: float64\n",
      "\n",
      "Train Set Proportions:\n",
      "final_result\n",
      "Pass           0.376277\n",
      "Withdrawn      0.314327\n",
      "Fail           0.219532\n",
      "Distinction    0.089864\n",
      "Name: proportion, dtype: float64\n",
      "\n",
      "Test Set Proportions:\n",
      "final_result\n",
      "Pass           0.376272\n",
      "Withdrawn      0.314249\n",
      "Fail           0.219625\n",
      "Distinction    0.089854\n",
      "Name: proportion, dtype: float64\n"
     ]
    }
   ],
   "source": [
    "# proportions of target variable in original data\n",
    "original_proportions = model['final_result'].value_counts(normalize=True)\n",
    "\n",
    "# proportions of target variable in train and test sets\n",
    "train_proportions = y_train.value_counts(normalize=True)\n",
    "test_proportions = y_test.value_counts(normalize=True)\n",
    "\n",
    "# results\n",
    "print(\"Original Proportions:\")\n",
    "print(original_proportions)\n",
    "\n",
    "print(\"\\nTrain Set Proportions:\")\n",
    "print(train_proportions)\n",
    "\n",
    "print(\"\\nTest Set Proportions:\")\n",
    "print(test_proportions)\n"
   ]
  },
  {
   "attachments": {},
   "cell_type": "markdown",
   "metadata": {},
   "source": [
    "### Variable preparation - Scaling and One-Hot Encoding / Ordinal\n",
    "\n",
    "Because the variables are in different units and scales - i.e. average score (0-100) v number_of_clicks (000s), the dataset needs to be scaled/normalised.  The `train` dataset is scaled and the same transformation (i.e. the same parameters) are applied to the `test` set.  This way there is no 'data leakage' - we have not accessed `test` in any way.\n",
    "\n",
    "Scaling only applies to 'numeric' variables - that is variables which can be, for example, means-centred (which is what I apply below).\n",
    "\n",
    "Categorical variables need to be excluded from this process, but they also require transformation.\n",
    "\n",
    "* One-hot encoding - converts categorical variables into binary vectors.  That is - it creates new binary columns for each category.  For example, module_code will have 'AAA' (Y/N) 'BBB' (Y/N) etc. for each row - where only one of the 7 columns will be a Y.  One-hot encoding is used where there is no inherent ordinal relationship between the categories.  For example, module 'AAA' cannot be ranked above or below module 'CCC'. \n",
    "\n",
    "* Ordinal encoding - is used for categorical variables which have an inherent ordinal structure, i.e. a meaningful order.  For example, 'age_band' can be ordered from lower ages to higher ages, as can 'highest_education' etc. "
   ]
  },
  {
   "cell_type": "code",
   "execution_count": 35,
   "metadata": {},
   "outputs": [
    {
     "name": "stdout",
     "output_type": "stream",
     "text": [
      "Numeric Columns:\n",
      "['num_of_prev_attempts', 'studied_credits', 'course_length', 'date_registration', 'date_unregistration', 'prop_submissions', 'avg_score', 'submission_distance', 'stu_activity_count', 'stu_activity_type_count', 'stu_total_clicks', 'stu_days_active', 'mod_pres_vle_type_count']\n",
      "\n",
      "\n",
      "Non-Numeric Columns:\n",
      "['code_module', 'code_presentation', 'gender', 'region', 'highest_education', 'imd_band', 'age_band', 'disability', 'year', 'month', 'subject']\n"
     ]
    }
   ],
   "source": [
    "numeric_columns = X_train.select_dtypes(include=['int64', 'float64']).columns.tolist()\n",
    "non_numeric_columns = X_train.select_dtypes(exclude=['int64', 'float64']).columns.tolist()\n",
    "\n",
    "print(\"Numeric Columns:\")\n",
    "print(numeric_columns)\n",
    "print(\"\\n\")\n",
    "print(\"Non-Numeric Columns:\")\n",
    "print(non_numeric_columns)\n"
   ]
  },
  {
   "cell_type": "code",
   "execution_count": 29,
   "metadata": {},
   "outputs": [
    {
     "data": {
      "text/plain": [
       "array(['55<=', '35-55', '0-35'], dtype=object)"
      ]
     },
     "execution_count": 29,
     "metadata": {},
     "output_type": "execute_result"
    }
   ],
   "source": [
    "#model['highest_education'].unique()\n",
    "#model['imd_band'].unique()\n",
    "#model['age_band'].unique()"
   ]
  },
  {
   "cell_type": "code",
   "execution_count": 37,
   "metadata": {},
   "outputs": [],
   "source": [
    "import pandas as pd\n",
    "from sklearn.preprocessing import StandardScaler, OrdinalEncoder\n",
    "\n",
    "# nominal and ordinal categorical columns\n",
    "nominal_cols = ['code_module', 'code_presentation', 'gender', 'region', 'disability', 'month', 'subject', 'year']\n",
    "ordinal_cols = ['highest_education', 'imd_band', 'age_band']\n",
    "\n",
    "# one-hot encoding for nominal variables\n",
    "X_train_nominal_encoded = pd.get_dummies(X_train[nominal_cols])\n",
    "X_test_nominal_encoded = pd.get_dummies(X_test[nominal_cols])\n",
    "\n",
    "# ordinal encoding for ordinal variables\n",
    "ordinal_mapping = {\n",
    "    'highest_education': {'No Formal quals': 0, 'Lower Than A Level': 1, 'A Level or Equivalent': 2, 'HE Qualification': 3, 'Post Graduate Qualification': 4},\n",
    "    'imd_band': {'0-10%': 0, '10-20': 1, '20-30%': 2, '30-40%': 3, '40-50%': 4, '50-60%': 5, '60-70%': 6, '70-80%': 7, '80-90%': 8, '90-100%': 9},  \n",
    "    'age_band': {'0-35': 0, '35-55': 1, '55<=': 2} \n",
    "}\n",
    "# set up OriginalEncoder\n",
    "ordinal_encoder = OrdinalEncoder(categories=[list(ordinal_mapping[col].keys()) for col in ordinal_cols])\n",
    "# fit to train, apply to test\n",
    "X_train_ordinal_encoded = pd.DataFrame(ordinal_encoder.fit_transform(X_train[ordinal_cols]), columns=ordinal_cols)\n",
    "X_test_ordinal_encoded = pd.DataFrame(ordinal_encoder.transform(X_test[ordinal_cols]), columns=ordinal_cols)\n",
    "\n",
    "\n",
    "# subset the training set and test set with the numeric columns only\n",
    "X_train_numeric = X_train[numeric_columns]\n",
    "X_test_numeric = X_test[numeric_columns]\n",
    "\n",
    "# StandardScaler object\n",
    "scaler = StandardScaler()\n",
    "\n",
    "# fit scaler on training set and transform training set\n",
    "X_train_scaled = scaler.fit_transform(X_train_numeric)\n",
    "\n",
    "# apply the same scaler transformation to the test set\n",
    "X_test_scaled = scaler.transform(X_test_numeric)\n",
    "\n",
    "# combine scaled, one-hot encoded and ordinal encoded columns\n",
    "X_train_transformed = pd.concat([X_train_nominal_encoded, X_train_ordinal_encoded, pd.DataFrame(X_train_scaled, columns=numeric_columns)], axis=1)\n",
    "X_test_transformed = pd.concat([X_test_nominal_encoded, X_test_ordinal_encoded, pd.DataFrame(X_test_scaled, columns=numeric_columns)], axis=1)\n"
   ]
  },
  {
   "cell_type": "code",
   "execution_count": 40,
   "metadata": {},
   "outputs": [
    {
     "data": {
      "text/plain": [
       "code_module_AAA                25149\n",
       "code_module_BBB                25149\n",
       "code_module_CCC                25149\n",
       "code_module_DDD                25149\n",
       "code_module_EEE                25149\n",
       "code_module_FFF                25149\n",
       "code_module_GGG                25149\n",
       "code_presentation_2013B        25149\n",
       "code_presentation_2013J        25149\n",
       "code_presentation_2014B        25149\n",
       "code_presentation_2014J        25149\n",
       "gender_F                       25149\n",
       "gender_M                       25149\n",
       "region_East Anglian Region     25149\n",
       "region_East Midlands Region    25149\n",
       "region_Ireland                 25149\n",
       "region_London Region           25149\n",
       "region_North Region            25149\n",
       "region_North Western Region    25149\n",
       "region_Scotland                25149\n",
       "region_South East Region       25149\n",
       "region_South Region            25149\n",
       "region_South West Region       25149\n",
       "region_Wales                   25149\n",
       "region_West Midlands Region    25149\n",
       "region_Yorkshire Region        25149\n",
       "disability_N                   25149\n",
       "disability_Y                   25149\n",
       "month_Feb                      25149\n",
       "month_Oct                      25149\n",
       "subject_SocSci                 25149\n",
       "subject_Stem                   25149\n",
       "year_2013                      25149\n",
       "year_2014                      25149\n",
       "highest_education              25149\n",
       "imd_band                       25149\n",
       "age_band                       25149\n",
       "num_of_prev_attempts           25149\n",
       "studied_credits                25149\n",
       "course_length                  25149\n",
       "date_registration              25149\n",
       "date_unregistration            25149\n",
       "prop_submissions               25149\n",
       "avg_score                      25149\n",
       "submission_distance            25149\n",
       "stu_activity_count             25149\n",
       "stu_activity_type_count        25149\n",
       "stu_total_clicks               25149\n",
       "stu_days_active                25149\n",
       "mod_pres_vle_type_count        25149\n",
       "dtype: int64"
      ]
     },
     "execution_count": 40,
     "metadata": {},
     "output_type": "execute_result"
    }
   ],
   "source": []
  }
 ],
 "metadata": {
  "kernelspec": {
   "display_name": "Python 3",
   "language": "python",
   "name": "python3"
  },
  "language_info": {
   "codemirror_mode": {
    "name": "ipython",
    "version": 3
   },
   "file_extension": ".py",
   "mimetype": "text/x-python",
   "name": "python",
   "nbconvert_exporter": "python",
   "pygments_lexer": "ipython3",
   "version": "3.10.4"
  },
  "orig_nbformat": 4
 },
 "nbformat": 4,
 "nbformat_minor": 2
}
