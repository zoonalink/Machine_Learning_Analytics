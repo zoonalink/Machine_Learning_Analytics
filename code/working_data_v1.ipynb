{
 "cells": [
  {
   "attachments": {},
   "cell_type": "markdown",
   "metadata": {},
   "source": [
    "Version 1 of data cleaning and feature engineering.\n",
    "\n",
    "This version is to ensure that I have a working version of the data which I can use to build and assess classification models.\n",
    "\n",
    "The general goal is to create a dataset which contains: \n",
    "\n",
    "* student biographical information (student table)\n",
    "* student's course registration information (course and registration tables)\n",
    "* student's assessment information (assessments table)\n",
    "  * this needs to be feature engineered to create a single row per student per course\n",
    "  * as each module has a different number of assessments, this dataset will engineer features which are available for all modules (i.e. average score, proportion of assessments submitted, mean distance from due date, etc.)\n",
    "* student's VLE information (VLE table)\n",
    "  * this needs to be feature engineered to create a single row per student per course\n",
    "  * as each module has a different number of VLE interactions, this dataset will engineer features which are available for all modules (i.e. average number of clicks, proportion of clicks on each resource type, etc.)\n",
    "\n",
    "Finally, the dataset needs to be sliced in relation to the prediction point:\n",
    "* students who have withdrawn at the point of prediction need to be excluded - as their outcome is known and will only confuse the model\n",
    "* more critically, a mechanism to remove assessments, vles, etc. which have 'not 'happened in relation to the prediction point needs to be implemented.  \n",
    "* this will be the enhanced version - or a future version - of the dataset which will:\n",
    "  * allow for the prediction of the outcome at any point in the course\n",
    "  * comparison between time periods\n",
    "\n",
    "\n",
    "Future versions/questions/scnenarios to explore:\n",
    "\n",
    "* predict at any point in the course, with information available up to that point\n",
    "* comparisons between modules - that is, different models per module\n",
    "* do different models perform better at different points in the course?\n",
    "* is biographical information useful?\n",
    "* are there inherent student characteristics which are predictive of outcome?\n",
    "* are there clusters (unsupervised learning) of students which are predictive of outcome?\n",
    "* can a model be built which incorporates previous predictions into the model?\n",
    "\n",
    "BUT - for this assignment, I need to first have something which works and fulfills the assignment specification.\n",
    "\n"
   ]
  },
  {
   "attachments": {},
   "cell_type": "markdown",
   "metadata": {},
   "source": [
    "## Data preparation\n",
    "\n",
    "### Libraries and zip file"
   ]
  },
  {
   "cell_type": "code",
   "execution_count": 6,
   "metadata": {},
   "outputs": [],
   "source": [
    "import pandas as pd\n",
    "import numpy as np\n",
    "import zipfile\n",
    "import matplotlib.pyplot as plt\n"
   ]
  },
  {
   "cell_type": "code",
   "execution_count": 18,
   "metadata": {},
   "outputs": [],
   "source": [
    "    \n",
    "# import zip file with csv \n",
    "ou_zip = zipfile.ZipFile('../data/anonymisedData.zip') \n",
    "\n",
    "# save separate csvs\n",
    "registrations = pd.read_csv(ou_zip.open('studentRegistration.csv'))\n",
    "courses = pd.read_csv(ou_zip.open('courses.csv'))\n",
    "students = pd.read_csv(ou_zip.open('studentInfo.csv'))\n",
    "student_vle = pd.read_csv(ou_zip.open('studentVle.csv'))\n",
    "vle = pd.read_csv(ou_zip.open('vle.csv'))\n",
    "student_assessments = pd.read_csv(ou_zip.open('studentAssessment.csv'))\n",
    "assessments = pd.read_csv(ou_zip.open('assessments.csv'))"
   ]
  },
  {
   "attachments": {},
   "cell_type": "markdown",
   "metadata": {},
   "source": [
    "### student information\n",
    "\n",
    "* base table to which all other tables will be joined\n",
    "\n",
    "\n",
    "\n",
    "TODO remove rows (students) with missing data in imd_cat\n"
   ]
  },
  {
   "cell_type": "code",
   "execution_count": 19,
   "metadata": {},
   "outputs": [
    {
     "data": {
      "text/plain": [
       "code_module             32593\n",
       "code_presentation       32593\n",
       "id_student              32593\n",
       "gender                  32593\n",
       "region                  32593\n",
       "highest_education       32593\n",
       "imd_band                31482\n",
       "age_band                32593\n",
       "num_of_prev_attempts    32593\n",
       "studied_credits         32593\n",
       "disability              32593\n",
       "final_result            32593\n",
       "dtype: int64"
      ]
     },
     "execution_count": 19,
     "metadata": {},
     "output_type": "execute_result"
    }
   ],
   "source": [
    "students.count()\n"
   ]
  },
  {
   "attachments": {},
   "cell_type": "markdown",
   "metadata": {},
   "source": [
    "### course information\n",
    "* add course information from course table - merge on code_module and code_presentation\n",
    "* TODO create new features for 'intake', 'year' and 'subject'\n"
   ]
  },
  {
   "cell_type": "code",
   "execution_count": 32,
   "metadata": {},
   "outputs": [
    {
     "data": {
      "text/plain": [
       "code_module                   32593\n",
       "code_presentation             32593\n",
       "id_student                    32593\n",
       "gender                        32593\n",
       "region                        32593\n",
       "highest_education             32593\n",
       "imd_band                      31482\n",
       "age_band                      32593\n",
       "num_of_prev_attempts          32593\n",
       "studied_credits               32593\n",
       "disability                    32593\n",
       "final_result                  32593\n",
       "module_presentation_length    32593\n",
       "dtype: int64"
      ]
     },
     "execution_count": 32,
     "metadata": {},
     "output_type": "execute_result"
    }
   ],
   "source": [
    "# merge students and courses\n",
    "final = pd.merge(students, courses, on=['code_module', 'code_presentation'], validate='many_to_one')\n",
    "\n",
    "final.count()"
   ]
  },
  {
   "attachments": {},
   "cell_type": "markdown",
   "metadata": {},
   "source": [
    "### registrations\n",
    "\n",
    "* merge registration table with student table\n"
   ]
  },
  {
   "cell_type": "code",
   "execution_count": 33,
   "metadata": {},
   "outputs": [
    {
     "data": {
      "text/plain": [
       "code_module                   32593\n",
       "code_presentation             32593\n",
       "id_student                    32593\n",
       "gender                        32593\n",
       "region                        32593\n",
       "highest_education             32593\n",
       "imd_band                      31482\n",
       "age_band                      32593\n",
       "num_of_prev_attempts          32593\n",
       "studied_credits               32593\n",
       "disability                    32593\n",
       "final_result                  32593\n",
       "module_presentation_length    32593\n",
       "date_registration             32548\n",
       "date_unregistration           10072\n",
       "dtype: int64"
      ]
     },
     "execution_count": 33,
     "metadata": {},
     "output_type": "execute_result"
    }
   ],
   "source": [
    "# merge registrations\n",
    "final = pd.merge(final, registrations, on=['code_module', 'code_presentation', 'id_student'], how = 'left', validate='1:1')\n",
    "final.count()"
   ]
  },
  {
   "cell_type": "code",
   "execution_count": 34,
   "metadata": {},
   "outputs": [
    {
     "data": {
      "text/plain": [
       "code_module                   31437\n",
       "code_presentation             31437\n",
       "id_student                    31437\n",
       "gender                        31437\n",
       "region                        31437\n",
       "highest_education             31437\n",
       "imd_band                      31437\n",
       "age_band                      31437\n",
       "num_of_prev_attempts          31437\n",
       "studied_credits               31437\n",
       "disability                    31437\n",
       "final_result                  31437\n",
       "module_presentation_length    31437\n",
       "date_registration             31437\n",
       "date_unregistration            9798\n",
       "dtype: int64"
      ]
     },
     "execution_count": 34,
     "metadata": {},
     "output_type": "execute_result"
    }
   ],
   "source": [
    "# drop missing value rows (date_registration, imd_band)\n",
    "final.dropna(subset=['date_registration', 'imd_band'], inplace=True)\n",
    "final.count()"
   ]
  },
  {
   "cell_type": "code",
   "execution_count": 35,
   "metadata": {},
   "outputs": [
    {
     "data": {
      "text/plain": [
       "array(['Pass', 'Withdrawn', 'Fail', 'Distinction'], dtype=object)"
      ]
     },
     "execution_count": 35,
     "metadata": {},
     "output_type": "execute_result"
    }
   ],
   "source": [
    "final['final_result'].unique()"
   ]
  },
  {
   "cell_type": "code",
   "execution_count": 64,
   "metadata": {},
   "outputs": [],
   "source": [
    "# prediction point = days from start of course\n",
    "prediction_point = 200\n",
    "\n",
    "# prediction point must be less than course length, integer, and greater than 0\n",
    "if not isinstance(prediction_point, int) or prediction_point <= 0 or prediction_point >= max(final['module_presentation_length']):\n",
    "    print(\"Error: Invalid prediction point. \\n\\nPlease provide an integer value greater than 0 and less than the maximum course length. \\n\\nThis is the number of days from the start of the course for which you want to predict the outcome.\")\n",
    "else:\n",
    "    # withdrawn or failed before prediction point - remove\n",
    "    withdrawn_fail_condition = (final['final_result'].isin(['Withdrawn', 'Fail'])) & (final['date_unregistration'] <= prediction_point)\n",
    "    final.loc[withdrawn_fail_condition, 'status'] = 'remove_outcome_known'\n",
    "    # if unregister after prediction point - keep\n",
    "    unregister_after_condition = final['date_unregistration'] > prediction_point\n",
    "    final.loc[unregister_after_condition, 'status'] = 'keep'\n",
    "    # if no unregistration date - keep\n",
    "    no_unregistration_condition = final['date_unregistration'].isna()\n",
    "    final.loc[no_unregistration_condition, 'status'] = 'keep'\n",
    "    # default case\n",
    "    final.loc[~(withdrawn_fail_condition | unregister_after_condition | no_unregistration_condition), 'status'] = 'query'\n",
    "\n",
    "\n",
    "\n",
    "\n"
   ]
  },
  {
   "cell_type": "code",
   "execution_count": 87,
   "metadata": {},
   "outputs": [
    {
     "name": "stdout",
     "output_type": "stream",
     "text": [
      "Empty DataFrame\n",
      "Columns: [code_module, code_presentation, id_student, gender, region, highest_education, imd_band, age_band, num_of_prev_attempts, studied_credits, disability, final_result, module_presentation_length, date_registration, date_unregistration, status]\n",
      "Index: []\n"
     ]
    }
   ],
   "source": [
    "# check if any weird results\n",
    "query_rows = final[final['status'] == 'query'] | final[final['status'].isna()]\n",
    "print(query_rows)\n"
   ]
  },
  {
   "attachments": {},
   "cell_type": "markdown",
   "metadata": {},
   "source": [
    "following the above steps, the missing values in date_unregistration should be populated with the max of the course end date, for now...\n",
    "\n"
   ]
  },
  {
   "cell_type": "code",
   "execution_count": 66,
   "metadata": {},
   "outputs": [
    {
     "data": {
      "text/plain": [
       "code_module                   31437\n",
       "code_presentation             31437\n",
       "id_student                    31437\n",
       "gender                        31437\n",
       "region                        31437\n",
       "highest_education             31437\n",
       "imd_band                      31437\n",
       "age_band                      31437\n",
       "num_of_prev_attempts          31437\n",
       "studied_credits               31437\n",
       "disability                    31437\n",
       "final_result                  31437\n",
       "module_presentation_length    31437\n",
       "date_registration             31437\n",
       "date_unregistration           31437\n",
       "status                        31437\n",
       "dtype: int64"
      ]
     },
     "execution_count": 66,
     "metadata": {},
     "output_type": "execute_result"
    }
   ],
   "source": [
    "# replace missing date_unreg with module_presentation_length\n",
    "final['date_unregistration'] = final['date_unregistration'].fillna(final['module_presentation_length'])\n",
    "final.count()"
   ]
  },
  {
   "attachments": {},
   "cell_type": "markdown",
   "metadata": {},
   "source": [
    "now the table to use can be created by filtering on status which takes into account the prediction point, if there is one....\n",
    "\n",
    "need a default value - maybe max of course end date?"
   ]
  },
  {
   "cell_type": "code",
   "execution_count": 70,
   "metadata": {},
   "outputs": [
    {
     "data": {
      "text/plain": [
       "code_module                   22149\n",
       "code_presentation             22149\n",
       "id_student                    22149\n",
       "gender                        22149\n",
       "region                        22149\n",
       "highest_education             22149\n",
       "imd_band                      22149\n",
       "age_band                      22149\n",
       "num_of_prev_attempts          22149\n",
       "studied_credits               22149\n",
       "disability                    22149\n",
       "final_result                  22149\n",
       "module_presentation_length    22149\n",
       "date_registration             22149\n",
       "date_unregistration           22149\n",
       "status                        22149\n",
       "dtype: int64"
      ]
     },
     "execution_count": 70,
     "metadata": {},
     "output_type": "execute_result"
    }
   ],
   "source": [
    "model_final = final[final['status'] != 'remove_outcome_known']\n",
    "model_final.count()\n",
    "#model_final.head(20)"
   ]
  },
  {
   "attachments": {},
   "cell_type": "markdown",
   "metadata": {},
   "source": [
    "### assessments\n",
    "\n",
    "* prep assessments table first\n",
    "* merge assessments table with student table\n",
    "* "
   ]
  },
  {
   "cell_type": "code",
   "execution_count": 158,
   "metadata": {},
   "outputs": [],
   "source": [
    "# merge 'assessments' and 'courses' on 'code_module' and 'code_presentation'\n",
    "course_assess = assessments.merge(courses[['code_module', 'code_presentation', 'module_presentation_length']], on=['code_module', 'code_presentation'], how='left')\n",
    "\n",
    "# fill in the missing 'date' values with course final week (as per literature)\n",
    "value_to_fill = course_assess['module_presentation_length'] - 3\n",
    "course_assess['date'] = course_assess['date'].fillna(value_to_fill)"
   ]
  },
  {
   "cell_type": "code",
   "execution_count": 159,
   "metadata": {},
   "outputs": [
    {
     "data": {
      "text/plain": [
       "code_module                   206\n",
       "code_presentation             206\n",
       "id_assessment                 206\n",
       "assessment_type               206\n",
       "date                          206\n",
       "weight                        206\n",
       "module_presentation_length    206\n",
       "dtype: int64"
      ]
     },
     "execution_count": 159,
     "metadata": {},
     "output_type": "execute_result"
    }
   ],
   "source": [
    "course_assess.count()\n",
    "#student_assessments.count()"
   ]
  },
  {
   "cell_type": "code",
   "execution_count": 160,
   "metadata": {},
   "outputs": [],
   "source": [
    "merged_assess = pd.merge(student_assessments, course_assess, on=['id_assessment'], how='left')"
   ]
  },
  {
   "cell_type": "code",
   "execution_count": 161,
   "metadata": {},
   "outputs": [
    {
     "name": "stdout",
     "output_type": "stream",
     "text": [
      "Missing values:\n",
      " id_assessment                   0\n",
      "id_student                      0\n",
      "date_submitted                  0\n",
      "is_banked                       0\n",
      "score                         173\n",
      "code_module                     0\n",
      "code_presentation               0\n",
      "assessment_type                 0\n",
      "date                            0\n",
      "weight                          0\n",
      "module_presentation_length      0\n",
      "dtype: int64 \n",
      "\n"
     ]
    }
   ],
   "source": [
    "missing_values = merged_assess.isnull().sum()\n",
    "print(\"Missing values:\\n\", missing_values, \"\\n\")"
   ]
  },
  {
   "cell_type": "code",
   "execution_count": 162,
   "metadata": {},
   "outputs": [
    {
     "name": "stdout",
     "output_type": "stream",
     "text": [
      "        id_assessment  id_student  date_submitted  is_banked  score  \\\n",
      "215              1752      721259              22          0    NaN   \n",
      "937              1754      260355             127          0    NaN   \n",
      "2364             1760     2606802             180          0    NaN   \n",
      "3358            14984      186780              77          0    NaN   \n",
      "3914            14984      531205              26          0    NaN   \n",
      "...               ...         ...             ...        ...    ...   \n",
      "148929          34903      582670             241          0    NaN   \n",
      "159251          37415      610738              87          0    NaN   \n",
      "166390          37427      631786             221          0    NaN   \n",
      "169725          37435      648110              62          0    NaN   \n",
      "170103          37435      480914              49          0    NaN   \n",
      "\n",
      "       code_module code_presentation assessment_type   date  weight  \\\n",
      "215            AAA             2013J             TMA   19.0    10.0   \n",
      "937            AAA             2013J             TMA  117.0    20.0   \n",
      "2364           AAA             2014J             TMA  117.0    20.0   \n",
      "3358           BBB             2013B             TMA   19.0     5.0   \n",
      "3914           BBB             2013B             TMA   19.0     5.0   \n",
      "...            ...               ...             ...    ...     ...   \n",
      "148929         FFF             2014J             TMA  199.0    25.0   \n",
      "159251         GGG             2013J             TMA   61.0     0.0   \n",
      "166390         GGG             2014B             TMA  166.0     0.0   \n",
      "169725         GGG             2014J             TMA   61.0     0.0   \n",
      "170103         GGG             2014J             TMA   61.0     0.0   \n",
      "\n",
      "        module_presentation_length  \n",
      "215                            268  \n",
      "937                            268  \n",
      "2364                           269  \n",
      "3358                           240  \n",
      "3914                           240  \n",
      "...                            ...  \n",
      "148929                         269  \n",
      "159251                         261  \n",
      "166390                         241  \n",
      "169725                         269  \n",
      "170103                         269  \n",
      "\n",
      "[173 rows x 11 columns]\n",
      "160\n"
     ]
    },
    {
     "data": {
      "text/plain": [
       "array([ 721259,  260355, 2606802,  186780,  531205,  534151,  549713,\n",
       "        554393,   33666,  511527,  554818,  484039,  262294,  478317,\n",
       "        502717,  515497,  501208,  308703,  342685,  420724,  507279,\n",
       "        525877,  242893,  583473,  476278,  352688,  606501,  260955,\n",
       "        271467,  591547,  291844,  588039,  593345,  615173,  190565,\n",
       "        394331,  487543,  613205,  625383,  628982,  630549,  654422,\n",
       "        678578,  693871,  602448,  506679,  173163,  632722, 1723749,\n",
       "        688167, 2410544,  471018,  629500,  193163,  413083,  548764,\n",
       "        511350,  570671,  610537, 2500064,  546634,  572783,  168243,\n",
       "        235428,  555297,  357576,  535707,  305702,  510530,  518097,\n",
       "        412731,  554773,  556308,  560260,  191896,  241771,  252489,\n",
       "        413934,  415695,  427248,  557247,  588293,  603498,   77241,\n",
       "        571765,  607854, 2261142,  505854,  524109,  546299,  614217,\n",
       "        630401,  502207,  607462,  616542,  646391,  652292,  676642,\n",
       "        687765,  526699,  468386,  562100,  636875,  574347,  684305,\n",
       "        431136, 2025589,  578725,  597573,  518116,  624469,  694548,\n",
       "        691701,  928248,  174436,  544930,  545791,  545944,  546164,\n",
       "        556492, 2054019,  303288,  379558,  185496,  550435,  553325,\n",
       "        599994, 2299682,  126074,  575822, 2463282,  568184,  581253,\n",
       "        371133,  581307,  603733,  610258,  622899, 2525633,  567681,\n",
       "        614083,  616453,  626539,  592939,  628143,  439896,  625075,\n",
       "        632114,  680222,  542550,  656360,  683772,  653857,  136944,\n",
       "        489553,  582670,  610738,  631786,  648110,  480914], dtype=int64)"
      ]
     },
     "execution_count": 162,
     "metadata": {},
     "output_type": "execute_result"
    }
   ],
   "source": [
    "\n",
    "missing_score_rows = merged_assess[merged_assess['score'].isna()]\n",
    "print(missing_score_rows)\n",
    "\n",
    "print(missing_score_rows['id_student'].nunique())\n",
    "missing_score_rows['id_student'].unique()"
   ]
  },
  {
   "attachments": {},
   "cell_type": "markdown",
   "metadata": {},
   "source": [
    "173 assessments have no score, from 160 students. \n",
    "\n",
    "Decision is to remove them - I don't know why they have no score; I don't have anything to impute them with and don't want to introduce bias into this dataset.\n",
    "\n",
    "It may be legitimate information - e.g. that students with no score are more likely to withdraw, but it could be administrative error, or a data issue.  I don't know, so I'm going to remove them. \n",
    "\n",
    "If there has been a submission, then there ought to be a score, even if that is 0.  \n",
    "\n",
    "I don't want to impute (0, 50, mean, median, etc.) - I think it makes things more murky.\n",
    "\n",
    "remove rows with missing scores\n",
    "\n"
   ]
  },
  {
   "cell_type": "code",
   "execution_count": 163,
   "metadata": {},
   "outputs": [
    {
     "data": {
      "text/plain": [
       "code_module                   21447\n",
       "code_presentation             21447\n",
       "id_student                    21447\n",
       "gender                        21447\n",
       "region                        21447\n",
       "highest_education             21447\n",
       "imd_band                      21447\n",
       "age_band                      21447\n",
       "num_of_prev_attempts          21447\n",
       "studied_credits               21447\n",
       "disability                    21447\n",
       "final_result                  21447\n",
       "module_presentation_length    21447\n",
       "date_registration             21447\n",
       "date_unregistration           21447\n",
       "status                        21447\n",
       "dtype: int64"
      ]
     },
     "execution_count": 163,
     "metadata": {},
     "output_type": "execute_result"
    }
   ],
   "source": [
    "# drop students who have no score for any assessment\n",
    "\n",
    "unique_ids = missing_score_rows['id_student'].unique()\n",
    "model_final = model_final[~model_final['id_student'].isin(unique_ids)]\n",
    "model_final.count()"
   ]
  },
  {
   "cell_type": "code",
   "execution_count": 164,
   "metadata": {},
   "outputs": [
    {
     "data": {
      "text/plain": [
       "id_assessment                 173739\n",
       "id_student                    173739\n",
       "date_submitted                173739\n",
       "is_banked                     173739\n",
       "score                         173739\n",
       "code_module                   173739\n",
       "code_presentation             173739\n",
       "assessment_type               173739\n",
       "date                          173739\n",
       "weight                        173739\n",
       "module_presentation_length    173739\n",
       "dtype: int64"
      ]
     },
     "execution_count": 164,
     "metadata": {},
     "output_type": "execute_result"
    }
   ],
   "source": [
    "# drop rows with missing score\n",
    "merged_assess.dropna(subset=['score'], inplace=True)\n",
    "merged_assess.count()"
   ]
  },
  {
   "cell_type": "code",
   "execution_count": 131,
   "metadata": {},
   "outputs": [
    {
     "name": "stdout",
     "output_type": "stream",
     "text": [
      "Date Range: 12.0 to 266.0\n"
     ]
    },
    {
     "data": {
      "image/png": "[encoded data removed]",
      "text/plain": [
       "<Figure size 640x480 with 1 Axes>"
      ]
     },
     "metadata": {},
     "output_type": "display_data"
    }
   ],
   "source": [
    "# assessment date range check\n",
    "date_values = merged_assess['date']\n",
    "print('Date Range:', date_values.min(), 'to', date_values.max())\n",
    "\n",
    "\n",
    "# plotting the distribution\n",
    "plt.hist(date_values, bins='auto', alpha=0.7, rwidth=0.85)\n",
    "plt.xlabel('Date')\n",
    "plt.ylabel('Frequency')\n",
    "plt.title('Distribution of Dates')\n",
    "plt.grid(True)\n",
    "plt.show()\n"
   ]
  },
  {
   "attachments": {},
   "cell_type": "markdown",
   "metadata": {},
   "source": [
    "investigate submission dates\n",
    "* expecting submissions to fall within course date (0 and max of end date)\n",
    "* having negative submission dates does not make sense - these will be removed, as well as the students who have made these submissions. \n",
    "* the later submission dates - will not be considered as they are outside the length of the course -> so will not be predicted on\n",
    "  * it seems that module FFF has some issues with submission dates - probably a data issue, but I don't know what the correct dates should be, so I'm going to remove them."
   ]
  },
  {
   "cell_type": "code",
   "execution_count": 165,
   "metadata": {},
   "outputs": [
    {
     "name": "stdout",
     "output_type": "stream",
     "text": [
      "Date Range: -11 to 608\n"
     ]
    },
    {
     "data": {
      "image/png": "[encoded data removed]",
      "text/plain": [
       "<Figure size 640x480 with 1 Axes>"
      ]
     },
     "metadata": {},
     "output_type": "display_data"
    }
   ],
   "source": [
    "# assessment date range check\n",
    "stu_date_values = merged_assess['date_submitted']\n",
    "print('Date Range:', stu_date_values.min(), 'to', stu_date_values.max())\n",
    "\n",
    "\n",
    "# plotting the distribution\n",
    "plt.hist(stu_date_values, bins='auto', alpha=0.7, rwidth=0.85)\n",
    "plt.xlabel('Date')\n",
    "plt.ylabel('Frequency')\n",
    "plt.title('Distribution of Dates')\n",
    "plt.grid(True)\n",
    "plt.show()"
   ]
  },
  {
   "cell_type": "code",
   "execution_count": 166,
   "metadata": {},
   "outputs": [
    {
     "data": {
      "text/plain": [
       "code_module  code_presentation\n",
       "CCC          2014B                 3\n",
       "             2014J                 1\n",
       "DDD          2013B                 4\n",
       "             2014B                 3\n",
       "             2014J                 1\n",
       "FFF          2013B                25\n",
       "             2013J                26\n",
       "             2014B                17\n",
       "             2014J                 2\n",
       "Name: id_student, dtype: int64"
      ]
     },
     "execution_count": 166,
     "metadata": {},
     "output_type": "execute_result"
    }
   ],
   "source": [
    "\n",
    "greater_than_max_length = merged_assess[merged_assess['date_submitted'] > merged_assess['module_presentation_length']]\n",
    "greater_than_max_length.groupby(['code_module', 'code_presentation']).count()['id_student']\n",
    "\n"
   ]
  },
  {
   "cell_type": "code",
   "execution_count": null,
   "metadata": {},
   "outputs": [],
   "source": [
    "# removing students with negative or extreme date_submitted values\n",
    "# removing rows from merged_assess\n",
    "\n",
    "# get max module length\n",
    "max_module_length = merged_assess['module_presentation_length'].max()\n",
    "\n",
    "# get students with negative or extreme date_submitted values\n",
    "greater_than_max_length = merged_assess[merged_assess['date_submitted'] > max_module_length]['id_student'].unique()\n",
    "less_than_zero = merged_assess[merged_assess['date_submitted'] < 0]['id_student'].unique()\n",
    "\n",
    "# remove students from model_final\n",
    "students_to_remove = set(greater_than_max_length) | set(less_than_zero)\n",
    "model_final = model_final[~model_final['id_student'].isin(students_to_remove)]\n",
    "\n",
    "# remove rows from merged_assess\n",
    "merged_assess = merged_assess[~merged_assess['id_student'].isin(students_to_remove)]\n",
    "\n"
   ]
  },
  {
   "cell_type": "code",
   "execution_count": 169,
   "metadata": {},
   "outputs": [
    {
     "name": "stdout",
     "output_type": "stream",
     "text": [
      "code_module                   21447\n",
      "code_presentation             21447\n",
      "id_student                    21447\n",
      "gender                        21447\n",
      "region                        21447\n",
      "highest_education             21447\n",
      "imd_band                      21447\n",
      "age_band                      21447\n",
      "num_of_prev_attempts          21447\n",
      "studied_credits               21447\n",
      "disability                    21447\n",
      "final_result                  21447\n",
      "module_presentation_length    21447\n",
      "date_registration             21447\n",
      "date_unregistration           21447\n",
      "status                        21447\n",
      "dtype: int64\n",
      "id_assessment                 167942\n",
      "id_student                    167942\n",
      "date_submitted                167942\n",
      "is_banked                     167942\n",
      "score                         167942\n",
      "code_module                   167942\n",
      "code_presentation             167942\n",
      "assessment_type               167942\n",
      "date                          167942\n",
      "weight                        167942\n",
      "module_presentation_length    167942\n",
      "dtype: int64\n"
     ]
    }
   ],
   "source": [
    "\n",
    "print(model_final.count())\n",
    "print(merged_assess.count())"
   ]
  },
  {
   "attachments": {},
   "cell_type": "markdown",
   "metadata": {},
   "source": [
    "reduce dataset"
   ]
  },
  {
   "cell_type": "markdown",
   "metadata": {},
   "source": [
    "reduce dataset to match 'prediction point' value - i.e. remove assessments which have not happened yet\n",
    "\n",
    "make sure that assessment date is used, not submission date.  if submission date is used, then only students who submitted on time are included in the model - while late submission can be a feature. \n",
    "\n"
   ]
  },
  {
   "cell_type": "code",
   "execution_count": 175,
   "metadata": {},
   "outputs": [
    {
     "name": "stdout",
     "output_type": "stream",
     "text": [
      "Date Range: 12.0 to 200.0\n",
      "Date Range: 0 to 240\n"
     ]
    }
   ],
   "source": [
    "# reduce data by prediction point\n",
    "model_student_assess = merged_assess[merged_assess['date'] <= prediction_point]\n",
    "\n",
    "# assessment date range check\n",
    "mod_date_values = model_student_assess['date']\n",
    "print('Date Range:', mod_date_values.min(), 'to', mod_date_values.max())\n",
    "\n",
    "# submission date range check\n",
    "sub_date_values = model_student_assess['date_submitted']\n",
    "print('Date Range:', sub_date_values.min(), 'to', sub_date_values.max())"
   ]
  },
  {
   "cell_type": "code",
   "execution_count": 172,
   "metadata": {},
   "outputs": [
    {
     "data": {
      "text/plain": [
       "id_assessment                 116804\n",
       "id_student                    116804\n",
       "date_submitted                116804\n",
       "is_banked                     116804\n",
       "score                         116804\n",
       "code_module                   116804\n",
       "code_presentation             116804\n",
       "assessment_type               116804\n",
       "date                          116804\n",
       "weight                        116804\n",
       "module_presentation_length    116804\n",
       "dtype: int64"
      ]
     },
     "execution_count": 172,
     "metadata": {},
     "output_type": "execute_result"
    }
   ],
   "source": [
    "model_student_assess.count()"
   ]
  },
  {
   "cell_type": "code",
   "execution_count": 174,
   "metadata": {},
   "outputs": [
    {
     "data": {
      "image/png": "[encoded data removed]",
      "text/plain": [
       "<Figure size 640x480 with 1 Axes>"
      ]
     },
     "metadata": {},
     "output_type": "display_data"
    }
   ],
   "source": [
    "\n",
    "\n",
    "# plotting the distribution\n",
    "plt.hist(mod_date_values, bins='auto', alpha=0.7, rwidth=0.85)\n",
    "plt.hist(sub_date_values, bins='auto', alpha=0.7, rwidth=0.85, color='red')\n",
    "plt.xlabel('Date')\n",
    "plt.ylabel('Frequency')\n",
    "plt.title('Distribution of Dates')\n",
    "plt.grid(True)\n",
    "plt.show()"
   ]
  },
  {
   "attachments": {},
   "cell_type": "markdown",
   "metadata": {},
   "source": [
    "now - create some new features: \n",
    "\n",
    "* number of assessments submitted / total number of assessments expected\n",
    "* average score across all assessments (expected)\n",
    "* total difference between due date and submission date"
   ]
  },
  {
   "cell_type": "code",
   "execution_count": 180,
   "metadata": {},
   "outputs": [
    {
     "data": {
      "text/plain": [
       "code_module                   126\n",
       "code_presentation             126\n",
       "id_assessment                 126\n",
       "assessment_type               126\n",
       "date                          126\n",
       "weight                        126\n",
       "module_presentation_length    126\n",
       "dtype: int64"
      ]
     },
     "execution_count": 180,
     "metadata": {},
     "output_type": "execute_result"
    }
   ],
   "source": [
    "model_course_assess.count()"
   ]
  },
  {
   "cell_type": "code",
   "execution_count": 191,
   "metadata": {},
   "outputs": [
    {
     "data": {
      "text/plain": [
       "code_module          22\n",
       "code_presentation    22\n",
       "exp_sub_count        22\n",
       "exp_sub_date_sum     22\n",
       "dtype: int64"
      ]
     },
     "execution_count": 191,
     "metadata": {},
     "output_type": "execute_result"
    }
   ],
   "source": [
    "# get expected assessment details\n",
    "\n",
    "model_course_assess = course_assess[course_assess['date'] <= prediction_point]\n",
    "#model_course_assess.count()\n",
    "\n",
    "# expected assessment count per module_presentation\n",
    "expected_ass = model_course_assess.groupby(['code_module', 'code_presentation'])['id_assessment'].count().reset_index()\n",
    "expected_ass = expected_ass.rename(columns={'id_assessment': 'exp_sub_count'})\n",
    "\n",
    "# excpeted assessment date sum\n",
    "date_sum = model_course_assess.groupby(['code_module', 'code_presentation'])['date'].sum().reset_index()\n",
    "expected_ass = expected_ass.merge(date_sum, on=['code_module', 'code_presentation'], how='left')\n",
    "expected_ass = expected_ass.rename(columns={'date': 'exp_sub_date_sum'})\n",
    "\n",
    "expected_ass.count()"
   ]
  },
  {
   "attachments": {},
   "cell_type": "markdown",
   "metadata": {},
   "source": [
    "student assessments in wide format - one row per student per course\n",
    "\n",
    "this will be merged with model_student table"
   ]
  },
  {
   "cell_type": "code",
   "execution_count": 179,
   "metadata": {},
   "outputs": [
    {
     "data": {
      "text/plain": [
       "id_assessment                 116804\n",
       "id_student                    116804\n",
       "date_submitted                116804\n",
       "is_banked                     116804\n",
       "score                         116804\n",
       "code_module                   116804\n",
       "code_presentation             116804\n",
       "assessment_type               116804\n",
       "date                          116804\n",
       "weight                        116804\n",
       "module_presentation_length    116804\n",
       "dtype: int64"
      ]
     },
     "execution_count": 179,
     "metadata": {},
     "output_type": "execute_result"
    }
   ],
   "source": [
    "model_student_assess.head()\n",
    "model_student_assess.count()\n"
   ]
  },
  {
   "cell_type": "code",
   "execution_count": 190,
   "metadata": {},
   "outputs": [
    {
     "data": {
      "text/plain": [
       "id_student             24668\n",
       "code_module            24668\n",
       "code_presentation      24668\n",
       "count_id_assessment    24668\n",
       "sum_score              24668\n",
       "sum_date               24668\n",
       "dtype: int64"
      ]
     },
     "execution_count": 190,
     "metadata": {},
     "output_type": "execute_result"
    }
   ],
   "source": [
    "student_assessment_summary = model_student_assess.groupby(['id_student', 'code_module', 'code_presentation']).agg(\n",
    "    count_id_assessment=('id_assessment', 'count'),\n",
    "    sum_score=('score', 'sum'),\n",
    "    sum_date=('date', 'sum')\n",
    ").reset_index()\n",
    "student_assessment_summary.count()"
   ]
  },
  {
   "attachments": {},
   "cell_type": "markdown",
   "metadata": {},
   "source": [
    "combine the tables "
   ]
  },
  {
   "cell_type": "code",
   "execution_count": 194,
   "metadata": {},
   "outputs": [],
   "source": [
    "# merge student_assessment_summary and expected_ass on code_module and code_presentation\n",
    "merged_summary = student_assessment_summary.merge(expected_ass, on=['code_module', 'code_presentation'])\n",
    "\n",
    "# calculate the new features\n",
    "merged_summary['prop_submissions'] = merged_summary['count_id_assessment'] / merged_summary['exp_sub_count']\n",
    "merged_summary['avg_score'] = merged_summary['sum_score'] / merged_summary['exp_sub_count']\n",
    "merged_summary['submission_distance'] = merged_summary['exp_sub_date_sum'] - merged_summary['sum_date']\n"
   ]
  },
  {
   "cell_type": "code",
   "execution_count": 196,
   "metadata": {},
   "outputs": [
    {
     "data": {
      "text/html": [
       "<div>\n",
       "<style scoped>\n",
       "    .dataframe tbody tr th:only-of-type {\n",
       "        vertical-align: middle;\n",
       "    }\n",
       "\n",
       "    .dataframe tbody tr th {\n",
       "        vertical-align: top;\n",
       "    }\n",
       "\n",
       "    .dataframe thead th {\n",
       "        text-align: right;\n",
       "    }\n",
       "</style>\n",
       "<table border=\"1\" class=\"dataframe\">\n",
       "  <thead>\n",
       "    <tr style=\"text-align: right;\">\n",
       "      <th></th>\n",
       "      <th>id_student</th>\n",
       "      <th>code_module</th>\n",
       "      <th>code_presentation</th>\n",
       "      <th>count_id_assessment</th>\n",
       "      <th>sum_score</th>\n",
       "      <th>sum_date</th>\n",
       "      <th>exp_sub_count</th>\n",
       "      <th>exp_sub_date_sum</th>\n",
       "      <th>prop_submissions</th>\n",
       "      <th>avg_score</th>\n",
       "      <th>submission_distance</th>\n",
       "    </tr>\n",
       "  </thead>\n",
       "  <tbody>\n",
       "    <tr>\n",
       "      <th>14</th>\n",
       "      <td>79403</td>\n",
       "      <td>AAA</td>\n",
       "      <td>2014J</td>\n",
       "      <td>3</td>\n",
       "      <td>182.0</td>\n",
       "      <td>190.0</td>\n",
       "      <td>4</td>\n",
       "      <td>356.0</td>\n",
       "      <td>0.75</td>\n",
       "      <td>45.50</td>\n",
       "      <td>166.0</td>\n",
       "    </tr>\n",
       "    <tr>\n",
       "      <th>15</th>\n",
       "      <td>85092</td>\n",
       "      <td>AAA</td>\n",
       "      <td>2014J</td>\n",
       "      <td>3</td>\n",
       "      <td>174.0</td>\n",
       "      <td>302.0</td>\n",
       "      <td>4</td>\n",
       "      <td>356.0</td>\n",
       "      <td>0.75</td>\n",
       "      <td>43.50</td>\n",
       "      <td>54.0</td>\n",
       "    </tr>\n",
       "    <tr>\n",
       "      <th>18</th>\n",
       "      <td>87431</td>\n",
       "      <td>AAA</td>\n",
       "      <td>2014J</td>\n",
       "      <td>3</td>\n",
       "      <td>150.0</td>\n",
       "      <td>190.0</td>\n",
       "      <td>4</td>\n",
       "      <td>356.0</td>\n",
       "      <td>0.75</td>\n",
       "      <td>37.50</td>\n",
       "      <td>166.0</td>\n",
       "    </tr>\n",
       "    <tr>\n",
       "      <th>19</th>\n",
       "      <td>95755</td>\n",
       "      <td>AAA</td>\n",
       "      <td>2014J</td>\n",
       "      <td>2</td>\n",
       "      <td>90.0</td>\n",
       "      <td>73.0</td>\n",
       "      <td>4</td>\n",
       "      <td>356.0</td>\n",
       "      <td>0.50</td>\n",
       "      <td>22.50</td>\n",
       "      <td>283.0</td>\n",
       "    </tr>\n",
       "    <tr>\n",
       "      <th>39</th>\n",
       "      <td>141506</td>\n",
       "      <td>AAA</td>\n",
       "      <td>2014J</td>\n",
       "      <td>1</td>\n",
       "      <td>75.0</td>\n",
       "      <td>19.0</td>\n",
       "      <td>4</td>\n",
       "      <td>356.0</td>\n",
       "      <td>0.25</td>\n",
       "      <td>18.75</td>\n",
       "      <td>337.0</td>\n",
       "    </tr>\n",
       "    <tr>\n",
       "      <th>...</th>\n",
       "      <td>...</td>\n",
       "      <td>...</td>\n",
       "      <td>...</td>\n",
       "      <td>...</td>\n",
       "      <td>...</td>\n",
       "      <td>...</td>\n",
       "      <td>...</td>\n",
       "      <td>...</td>\n",
       "      <td>...</td>\n",
       "      <td>...</td>\n",
       "      <td>...</td>\n",
       "    </tr>\n",
       "    <tr>\n",
       "      <th>24651</th>\n",
       "      <td>2538792</td>\n",
       "      <td>EEE</td>\n",
       "      <td>2014J</td>\n",
       "      <td>3</td>\n",
       "      <td>272.0</td>\n",
       "      <td>232.0</td>\n",
       "      <td>4</td>\n",
       "      <td>398.0</td>\n",
       "      <td>0.75</td>\n",
       "      <td>68.00</td>\n",
       "      <td>166.0</td>\n",
       "    </tr>\n",
       "    <tr>\n",
       "      <th>24654</th>\n",
       "      <td>2579558</td>\n",
       "      <td>EEE</td>\n",
       "      <td>2014J</td>\n",
       "      <td>1</td>\n",
       "      <td>54.0</td>\n",
       "      <td>33.0</td>\n",
       "      <td>4</td>\n",
       "      <td>398.0</td>\n",
       "      <td>0.25</td>\n",
       "      <td>13.50</td>\n",
       "      <td>365.0</td>\n",
       "    </tr>\n",
       "    <tr>\n",
       "      <th>24660</th>\n",
       "      <td>2637000</td>\n",
       "      <td>EEE</td>\n",
       "      <td>2014J</td>\n",
       "      <td>3</td>\n",
       "      <td>178.0</td>\n",
       "      <td>232.0</td>\n",
       "      <td>4</td>\n",
       "      <td>398.0</td>\n",
       "      <td>0.75</td>\n",
       "      <td>44.50</td>\n",
       "      <td>166.0</td>\n",
       "    </tr>\n",
       "    <tr>\n",
       "      <th>24665</th>\n",
       "      <td>2681277</td>\n",
       "      <td>EEE</td>\n",
       "      <td>2014J</td>\n",
       "      <td>1</td>\n",
       "      <td>95.0</td>\n",
       "      <td>33.0</td>\n",
       "      <td>4</td>\n",
       "      <td>398.0</td>\n",
       "      <td>0.25</td>\n",
       "      <td>23.75</td>\n",
       "      <td>365.0</td>\n",
       "    </tr>\n",
       "    <tr>\n",
       "      <th>24667</th>\n",
       "      <td>2686712</td>\n",
       "      <td>EEE</td>\n",
       "      <td>2014J</td>\n",
       "      <td>2</td>\n",
       "      <td>194.0</td>\n",
       "      <td>101.0</td>\n",
       "      <td>4</td>\n",
       "      <td>398.0</td>\n",
       "      <td>0.50</td>\n",
       "      <td>48.50</td>\n",
       "      <td>297.0</td>\n",
       "    </tr>\n",
       "  </tbody>\n",
       "</table>\n",
       "<p>10185 rows × 11 columns</p>\n",
       "</div>"
      ],
      "text/plain": [
       "       id_student code_module code_presentation  count_id_assessment  \\\n",
       "14          79403         AAA             2014J                    3   \n",
       "15          85092         AAA             2014J                    3   \n",
       "18          87431         AAA             2014J                    3   \n",
       "19          95755         AAA             2014J                    2   \n",
       "39         141506         AAA             2014J                    1   \n",
       "...           ...         ...               ...                  ...   \n",
       "24651     2538792         EEE             2014J                    3   \n",
       "24654     2579558         EEE             2014J                    1   \n",
       "24660     2637000         EEE             2014J                    3   \n",
       "24665     2681277         EEE             2014J                    1   \n",
       "24667     2686712         EEE             2014J                    2   \n",
       "\n",
       "       sum_score  sum_date  exp_sub_count  exp_sub_date_sum  prop_submissions  \\\n",
       "14         182.0     190.0              4             356.0              0.75   \n",
       "15         174.0     302.0              4             356.0              0.75   \n",
       "18         150.0     190.0              4             356.0              0.75   \n",
       "19          90.0      73.0              4             356.0              0.50   \n",
       "39          75.0      19.0              4             356.0              0.25   \n",
       "...          ...       ...            ...               ...               ...   \n",
       "24651      272.0     232.0              4             398.0              0.75   \n",
       "24654       54.0      33.0              4             398.0              0.25   \n",
       "24660      178.0     232.0              4             398.0              0.75   \n",
       "24665       95.0      33.0              4             398.0              0.25   \n",
       "24667      194.0     101.0              4             398.0              0.50   \n",
       "\n",
       "       avg_score  submission_distance  \n",
       "14         45.50                166.0  \n",
       "15         43.50                 54.0  \n",
       "18         37.50                166.0  \n",
       "19         22.50                283.0  \n",
       "39         18.75                337.0  \n",
       "...          ...                  ...  \n",
       "24651      68.00                166.0  \n",
       "24654      13.50                365.0  \n",
       "24660      44.50                166.0  \n",
       "24665      23.75                365.0  \n",
       "24667      48.50                297.0  \n",
       "\n",
       "[10185 rows x 11 columns]"
      ]
     },
     "execution_count": 196,
     "metadata": {},
     "output_type": "execute_result"
    }
   ],
   "source": [
    "merged_summary.head(10)\n",
    "merged_summary[merged_summary['prop_submissions'] != 1.0]"
   ]
  },
  {
   "cell_type": "code",
   "execution_count": 202,
   "metadata": {},
   "outputs": [
    {
     "data": {
      "text/plain": [
       "id_student             3963\n",
       "code_module            3963\n",
       "code_presentation      3963\n",
       "count_id_assessment    3963\n",
       "sum_score              3963\n",
       "sum_date               3963\n",
       "exp_sub_count          3963\n",
       "exp_sub_date_sum       3963\n",
       "prop_submissions       3963\n",
       "avg_score              3963\n",
       "submission_distance    3963\n",
       "dtype: int64"
      ]
     },
     "execution_count": 202,
     "metadata": {},
     "output_type": "execute_result"
    }
   ],
   "source": [
    "duplicate_students = merged_summary[merged_summary.duplicated(subset='id_student', keep=False)]['id_student'].unique()\n",
    "\n",
    "duplicate_rows = merged_summary[merged_summary['id_student'].isin(duplicate_students)]\n",
    "duplicate_rows.sort_values('id_student')\n",
    "duplicate_rows.count()"
   ]
  },
  {
   "attachments": {},
   "cell_type": "markdown",
   "metadata": {},
   "source": [
    "so...it turns out that there are students who are registered on more than one module.  of course, I should have thought about this...this means that the assumption each row is independent is violated.  \n",
    "\n",
    "I can think of a few ways to deal with this:\n",
    "\n",
    "* remove all students who are registered on more than one module\n",
    "  * this seems unfortunate, as it is a lot of data to lose\n",
    "\n",
    "* create a model per module\n",
    "  * this seems like a lot of work, and I'm not sure that it will be worth it\n",
    "  * it was also part of a future version to explore\n",
    "\n",
    "* combine id_student, code_module and code_presentation into a single id\n",
    "  * this is the approach I will take, initially\n",
    "  * it means that student on module intake is independent\n",
    "  * this is how I imagine a distance learning student may approach their studies - i.e. focus on one module, potentially, if things are not going well. \n",
    "\n",
    "\n",
    "Remaining steps: \n",
    "\n",
    "* tidy merged_summary - delete unnecessary columns (keep features to be used and linking columns)\n",
    "* look at vle data (do something similar to assessments)\n",
    "* merge the above with the vle data\n",
    "* merge vle & assessment to student data\n",
    "  * merge id columns\n",
    "  * drop separate columns\n",
    "  * check for duplicate ids\n",
    "  * check for missing values\n",
    "\n",
    "consider putting it together into a function??!\n",
    "* "
   ]
  },
  {
   "attachments": {},
   "cell_type": "markdown",
   "metadata": {},
   "source": [
    "remove cols not going to use (iteration 1, weight, is_banked)\n",
    "\n",
    "\n",
    "\n",
    "   ~~get number of assessments per course (expected number)~~\n",
    "   get number of assessments perstudent row (actual number)\n",
    "   get sum of scores per student row (sum actual score)\n",
    "   feature = actual/expected\n",
    "   feature = sum actual score/actual number * 100\n",
    "   consider:\n",
    "   get sum of submission dates (actual submission dates)\n",
    "   ~~get sum of submission dates (expected submission dates)~~\n",
    "   feature = expected submission dates - actual submission dates\n",
    "   \n",
    "drop unused, unneeded, columns (type, dates,etc.)\n",
    "merge with final student table - left join (only active students)"
   ]
  },
  {
   "cell_type": "code",
   "execution_count": null,
   "metadata": {},
   "outputs": [],
   "source": [
    "## to be made into a function?? with a prediction point splitter??\n",
    "\n",
    "# step 1 merge 'student' with 'course'\n",
    "final_student = pd.merge(students, courses, on=['code_module', 'code_presentation'], validate='many_to_one')\n",
    "final_student.head()\n",
    "\n",
    "# step 2 merge registrations with final_student\n",
    "final_student = pd.merge(final_student, registrations, on=['code_module','code_presentation','id_student'], validate=\"1:1\")\n",
    "\n",
    "# step 3 drop imd_band, date_reg nulls and replace NaN for unreg date with the length of the course\n",
    "final_student.dropna(subset=['date_registration', 'imd_band'], inplace=True)\n",
    "final_student['date_unregistration'] = final_student['date_unregistration'].fillna(final_student['module_presentation_length'])\n",
    "\n",
    "# step 4 drop rows where withdrew before started - may want to add cool off buffer 7-14 days? (as earlier)\n",
    "final_student = final_student[final_student['date_unregistration'] < final_student['date_registration']]\n",
    "\n",
    "# step 5 split code_presentation into year and month and add subject from code_module\n",
    "final_student['year'] = final_student['code_presentation'].str[:4].astype(int)\n",
    "final_student['month'] = final_student['code_presentation'].str[-1].map({'J': 'Oct', 'B': 'Feb'})\n",
    "\n",
    "# Module subject mapping\n",
    "code_module_mapping = {\n",
    "    'AAA': 'SocSci',\n",
    "    'BBB': 'SocSci',\n",
    "    'GGG': 'SocSci',\n",
    "    'CCC': 'Stem',\n",
    "    'DDD': 'Stem',\n",
    "    'EEE': 'Stem',\n",
    "    'FFF': 'Stem'\n",
    "}\n",
    "final_student['subject'] = final_student['code_module'].map(code_module_mapping)\n",
    "\n",
    "#final_student.head()\n",
    "\n",
    "# step 6 prep assessments - fill missing dates with length of course - 3 days (last week of course)\n",
    "\n",
    "# merge 'assessments' and 'courses' on 'code_module' and 'code_presentation'\n",
    "merged_assess = assessments.merge(courses[['code_module', 'code_presentation', 'module_presentation_length']], on=['code_module', 'code_presentation'], how='left')\n",
    "\n",
    "# value to fill in the missing 'date' values\n",
    "value_to_fill = merged_assess['module_presentation_length'] - 3\n",
    "\n",
    "# missing values in 'date' column \n",
    "merged_assess['date'] = merged_assess['date'].fillna(value_to_fill)\n",
    "\n",
    "# update 'assessments' with filled 'date' column\n",
    "assessments['date'] = merged_assess['date']\n",
    "\n",
    "\n",
    "# step 7 merge assessments with final_student\n",
    "\n",
    "## remove cols - is_banked, score = null\n"
   ]
  }
 ],
 "metadata": {
  "kernelspec": {
   "display_name": "Python 3",
   "language": "python",
   "name": "python3"
  },
  "language_info": {
   "codemirror_mode": {
    "name": "ipython",
    "version": 3
   },
   "file_extension": ".py",
   "mimetype": "text/x-python",
   "name": "python",
   "nbconvert_exporter": "python",
   "pygments_lexer": "ipython3",
   "version": "3.11.0"
  },
  "orig_nbformat": 4
 },
 "nbformat": 4,
 "nbformat_minor": 2
}
