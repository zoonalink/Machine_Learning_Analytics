{
 "cells": [
  {
   "attachments": {},
   "cell_type": "markdown",
   "metadata": {},
   "source": [
    "Version 1 of data cleaning and feature engineering.\n",
    "\n",
    "This version is to ensure that I have a working version of the data which I can use to build and assess classification models.\n",
    "\n",
    "The general goal is to create a dataset which contains: \n",
    "\n",
    "* student biographical information (student table)\n",
    "* student's course registration information (course and registration tables)\n",
    "* student's assessment information (assessments table)\n",
    "  * this needs to be feature engineered to create a single row per student per course\n",
    "  * as each module has a different number of assessments, this dataset will engineer features which are available for all modules (i.e. average score, proportion of assessments submitted, mean distance from due date, etc.)\n",
    "* student's VLE information (VLE table)\n",
    "  * this needs to be feature engineered to create a single row per student per course\n",
    "  * as each module has a different number of VLE interactions, this dataset will engineer features which are available for all modules (i.e. average number of clicks, proportion of clicks on each resource type, etc.)\n",
    "\n",
    "Finally, the dataset needs to be sliced in relation to the prediction point:\n",
    "* students who have withdrawn at the point of prediction need to be excluded - as their outcome is known and will only confuse the model\n",
    "* more critically, a mechanism to remove assessments, vles, etc. which have 'not 'happened in relation to the prediction point needs to be implemented.  \n",
    "* this will be the enhanced version - or a future version - of the dataset which will:\n",
    "  * allow for the prediction of the outcome at any point in the course\n",
    "  * comparison between time periods\n",
    "\n",
    "\n",
    "Future versions/questions/scnenarios to explore:\n",
    "\n",
    "* predict at any point in the course, with information available up to that point\n",
    "* comparisons between modules - that is, different models per module\n",
    "* do different models perform better at different points in the course?\n",
    "* is biographical information useful?\n",
    "* are there inherent student characteristics which are predictive of outcome?\n",
    "* are there clusters (unsupervised learning) of students which are predictive of outcome?\n",
    "* can a model be built which incorporates previous predictions into the model?\n",
    "\n",
    "BUT - for this assignment, I need to first have something which works and fulfills the assignment specification.\n",
    "\n"
   ]
  },
  {
   "attachments": {},
   "cell_type": "markdown",
   "metadata": {},
   "source": [
    "## Data preparation\n",
    "\n",
    "### Libraries and zip file"
   ]
  },
  {
   "cell_type": "code",
   "execution_count": 6,
   "metadata": {},
   "outputs": [],
   "source": [
    "import pandas as pd\n",
    "import numpy as np\n",
    "import zipfile\n",
    "import matplotlib.pyplot as plt\n"
   ]
  },
  {
   "cell_type": "code",
   "execution_count": 18,
   "metadata": {},
   "outputs": [],
   "source": [
    "    \n",
    "# import zip file with csv \n",
    "ou_zip = zipfile.ZipFile('../data/anonymisedData.zip') \n",
    "\n",
    "# save separate csvs\n",
    "registrations = pd.read_csv(ou_zip.open('studentRegistration.csv'))\n",
    "courses = pd.read_csv(ou_zip.open('courses.csv'))\n",
    "students = pd.read_csv(ou_zip.open('studentInfo.csv'))\n",
    "student_vle = pd.read_csv(ou_zip.open('studentVle.csv'))\n",
    "vle = pd.read_csv(ou_zip.open('vle.csv'))\n",
    "student_assessments = pd.read_csv(ou_zip.open('studentAssessment.csv'))\n",
    "assessments = pd.read_csv(ou_zip.open('assessments.csv'))"
   ]
  },
  {
   "attachments": {},
   "cell_type": "markdown",
   "metadata": {},
   "source": [
    "### student information\n",
    "\n",
    "* base table to which all other tables will be joined\n",
    "\n",
    "\n",
    "\n",
    "TODO remove rows (students) with missing data in imd_cat\n"
   ]
  },
  {
   "cell_type": "code",
   "execution_count": 19,
   "metadata": {},
   "outputs": [
    {
     "data": {
      "text/plain": [
       "code_module             32593\n",
       "code_presentation       32593\n",
       "id_student              32593\n",
       "gender                  32593\n",
       "region                  32593\n",
       "highest_education       32593\n",
       "imd_band                31482\n",
       "age_band                32593\n",
       "num_of_prev_attempts    32593\n",
       "studied_credits         32593\n",
       "disability              32593\n",
       "final_result            32593\n",
       "dtype: int64"
      ]
     },
     "execution_count": 19,
     "metadata": {},
     "output_type": "execute_result"
    }
   ],
   "source": [
    "students.count()\n"
   ]
  },
  {
   "attachments": {},
   "cell_type": "markdown",
   "metadata": {},
   "source": [
    "### course information\n",
    "* add course information from course table - merge on code_module and code_presentation\n",
    "* TODO create new features for 'intake', 'year' and 'subject'\n"
   ]
  },
  {
   "cell_type": "code",
   "execution_count": 32,
   "metadata": {},
   "outputs": [
    {
     "data": {
      "text/plain": [
       "code_module                   32593\n",
       "code_presentation             32593\n",
       "id_student                    32593\n",
       "gender                        32593\n",
       "region                        32593\n",
       "highest_education             32593\n",
       "imd_band                      31482\n",
       "age_band                      32593\n",
       "num_of_prev_attempts          32593\n",
       "studied_credits               32593\n",
       "disability                    32593\n",
       "final_result                  32593\n",
       "module_presentation_length    32593\n",
       "dtype: int64"
      ]
     },
     "execution_count": 32,
     "metadata": {},
     "output_type": "execute_result"
    }
   ],
   "source": [
    "# merge students and courses\n",
    "final = pd.merge(students, courses, on=['code_module', 'code_presentation'], validate='many_to_one')\n",
    "\n",
    "final.count()"
   ]
  },
  {
   "attachments": {},
   "cell_type": "markdown",
   "metadata": {},
   "source": [
    "### registrations\n",
    "\n",
    "* merge registration table with student table\n"
   ]
  },
  {
   "cell_type": "code",
   "execution_count": 33,
   "metadata": {},
   "outputs": [
    {
     "data": {
      "text/plain": [
       "code_module                   32593\n",
       "code_presentation             32593\n",
       "id_student                    32593\n",
       "gender                        32593\n",
       "region                        32593\n",
       "highest_education             32593\n",
       "imd_band                      31482\n",
       "age_band                      32593\n",
       "num_of_prev_attempts          32593\n",
       "studied_credits               32593\n",
       "disability                    32593\n",
       "final_result                  32593\n",
       "module_presentation_length    32593\n",
       "date_registration             32548\n",
       "date_unregistration           10072\n",
       "dtype: int64"
      ]
     },
     "execution_count": 33,
     "metadata": {},
     "output_type": "execute_result"
    }
   ],
   "source": [
    "# merge registrations\n",
    "final = pd.merge(final, registrations, on=['code_module', 'code_presentation', 'id_student'], how = 'left', validate='1:1')\n",
    "final.count()"
   ]
  },
  {
   "cell_type": "code",
   "execution_count": 34,
   "metadata": {},
   "outputs": [
    {
     "data": {
      "text/plain": [
       "code_module                   31437\n",
       "code_presentation             31437\n",
       "id_student                    31437\n",
       "gender                        31437\n",
       "region                        31437\n",
       "highest_education             31437\n",
       "imd_band                      31437\n",
       "age_band                      31437\n",
       "num_of_prev_attempts          31437\n",
       "studied_credits               31437\n",
       "disability                    31437\n",
       "final_result                  31437\n",
       "module_presentation_length    31437\n",
       "date_registration             31437\n",
       "date_unregistration            9798\n",
       "dtype: int64"
      ]
     },
     "execution_count": 34,
     "metadata": {},
     "output_type": "execute_result"
    }
   ],
   "source": [
    "# drop missing value rows (date_registration, imd_band)\n",
    "final.dropna(subset=['date_registration', 'imd_band'], inplace=True)\n",
    "final.count()"
   ]
  },
  {
   "cell_type": "code",
   "execution_count": 35,
   "metadata": {},
   "outputs": [
    {
     "data": {
      "text/plain": [
       "array(['Pass', 'Withdrawn', 'Fail', 'Distinction'], dtype=object)"
      ]
     },
     "execution_count": 35,
     "metadata": {},
     "output_type": "execute_result"
    }
   ],
   "source": [
    "final['final_result'].unique()"
   ]
  },
  {
   "cell_type": "code",
   "execution_count": 64,
   "metadata": {},
   "outputs": [],
   "source": [
    "# prediction point = days from start of course\n",
    "prediction_point = 200\n",
    "\n",
    "# prediction point must be less than course length, integer, and greater than 0\n",
    "if not isinstance(prediction_point, int) or prediction_point <= 0 or prediction_point >= max(final['module_presentation_length']):\n",
    "    print(\"Error: Invalid prediction point. \\n\\nPlease provide an integer value greater than 0 and less than the maximum course length. \\n\\nThis is the number of days from the start of the course for which you want to predict the outcome.\")\n",
    "else:\n",
    "    # withdrawn or failed before prediction point - remove\n",
    "    withdrawn_fail_condition = (final['final_result'].isin(['Withdrawn', 'Fail'])) & (final['date_unregistration'] <= prediction_point)\n",
    "    final.loc[withdrawn_fail_condition, 'status'] = 'remove_outcome_known'\n",
    "    # if unregister after prediction point - keep\n",
    "    unregister_after_condition = final['date_unregistration'] > prediction_point\n",
    "    final.loc[unregister_after_condition, 'status'] = 'keep'\n",
    "    # if no unregistration date - keep\n",
    "    no_unregistration_condition = final['date_unregistration'].isna()\n",
    "    final.loc[no_unregistration_condition, 'status'] = 'keep'\n",
    "    # default case\n",
    "    final.loc[~(withdrawn_fail_condition | unregister_after_condition | no_unregistration_condition), 'status'] = 'query'\n",
    "\n",
    "\n",
    "\n",
    "\n"
   ]
  },
  {
   "cell_type": "code",
   "execution_count": 65,
   "metadata": {},
   "outputs": [
    {
     "name": "stdout",
     "output_type": "stream",
     "text": [
      "Empty DataFrame\n",
      "Columns: [code_module, code_presentation, id_student, gender, region, highest_education, imd_band, age_band, num_of_prev_attempts, studied_credits, disability, final_result, module_presentation_length, date_registration, date_unregistration, status]\n",
      "Index: []\n"
     ]
    }
   ],
   "source": [
    "# Assuming 'final' is the DataFrame containing the relevant data\n",
    "query_rows = final[final['status'] == 'query']\n",
    "print(query_rows)\n"
   ]
  },
  {
   "attachments": {},
   "cell_type": "markdown",
   "metadata": {},
   "source": [
    "following the above steps, the missing values in date_unregistration should be populated with the max of the course end date, for now...\n",
    "\n"
   ]
  },
  {
   "cell_type": "code",
   "execution_count": 66,
   "metadata": {},
   "outputs": [
    {
     "data": {
      "text/plain": [
       "code_module                   31437\n",
       "code_presentation             31437\n",
       "id_student                    31437\n",
       "gender                        31437\n",
       "region                        31437\n",
       "highest_education             31437\n",
       "imd_band                      31437\n",
       "age_band                      31437\n",
       "num_of_prev_attempts          31437\n",
       "studied_credits               31437\n",
       "disability                    31437\n",
       "final_result                  31437\n",
       "module_presentation_length    31437\n",
       "date_registration             31437\n",
       "date_unregistration           31437\n",
       "status                        31437\n",
       "dtype: int64"
      ]
     },
     "execution_count": 66,
     "metadata": {},
     "output_type": "execute_result"
    }
   ],
   "source": [
    "# replace missing date_unreg with module_presentation_length\n",
    "final['date_unregistration'] = final['date_unregistration'].fillna(final['module_presentation_length'])\n",
    "final.count()"
   ]
  },
  {
   "attachments": {},
   "cell_type": "markdown",
   "metadata": {},
   "source": [
    "now the table to use can be created by filtering on status which takes into account the prediction point, if there is one....\n",
    "\n",
    "need a default value - maybe max of course end date?"
   ]
  },
  {
   "cell_type": "code",
   "execution_count": 70,
   "metadata": {},
   "outputs": [
    {
     "data": {
      "text/plain": [
       "code_module                   22149\n",
       "code_presentation             22149\n",
       "id_student                    22149\n",
       "gender                        22149\n",
       "region                        22149\n",
       "highest_education             22149\n",
       "imd_band                      22149\n",
       "age_band                      22149\n",
       "num_of_prev_attempts          22149\n",
       "studied_credits               22149\n",
       "disability                    22149\n",
       "final_result                  22149\n",
       "module_presentation_length    22149\n",
       "date_registration             22149\n",
       "date_unregistration           22149\n",
       "status                        22149\n",
       "dtype: int64"
      ]
     },
     "execution_count": 70,
     "metadata": {},
     "output_type": "execute_result"
    }
   ],
   "source": [
    "model_final = final[final['status'] != 'remove_outcome_known']\n",
    "model_final.count()\n",
    "#model_final.head(20)"
   ]
  },
  {
   "attachments": {},
   "cell_type": "markdown",
   "metadata": {},
   "source": [
    "   \n",
    "\n",
    "\n",
    "1. merge student_asssements with assessments table - merge on code_module and code_presentation and id_assessment\n",
    "   remove missing scores? - investigate? impute?  could be useful?\n",
    "   remove cols not going to use (iteration 1, weight, is_banked)\n",
    "\n",
    "   reduce to only keep those relevant to prediction point - i.e. those which have happened before the prediction point\n",
    "\n",
    "   assessments = assessemts_combined[date] <= prediction point\n",
    "   don't use date_submitted as this is student specific; use dates re course assessments\n",
    "   get number of assessments per course (expected number)\n",
    "   get number of assessments perstudent row (actual number)\n",
    "   get sum of scores per student row (sum actual score)\n",
    "   feature = actual/expected\n",
    "   feature = sum actual score/actual number * 100\n",
    "   consider:\n",
    "   get sum of submission dates (actual submission dates)\n",
    "   get sum of submission dates (expected submission dates)\n",
    "   feature = expected submission dates - actual submission dates\n",
    "   \n",
    "drop unused, unneeded, columns (type, dates,etc.)\n",
    "merge with final student table - left join (only active students)"
   ]
  },
  {
   "cell_type": "code",
   "execution_count": 5,
   "metadata": {},
   "outputs": [
    {
     "data": {
      "text/html": [
       "<div>\n",
       "<style scoped>\n",
       "    .dataframe tbody tr th:only-of-type {\n",
       "        vertical-align: middle;\n",
       "    }\n",
       "\n",
       "    .dataframe tbody tr th {\n",
       "        vertical-align: top;\n",
       "    }\n",
       "\n",
       "    .dataframe thead th {\n",
       "        text-align: right;\n",
       "    }\n",
       "</style>\n",
       "<table border=\"1\" class=\"dataframe\">\n",
       "  <thead>\n",
       "    <tr style=\"text-align: right;\">\n",
       "      <th></th>\n",
       "      <th>code_module</th>\n",
       "      <th>code_presentation</th>\n",
       "      <th>id_student</th>\n",
       "      <th>gender</th>\n",
       "      <th>region</th>\n",
       "      <th>highest_education</th>\n",
       "      <th>imd_band</th>\n",
       "      <th>age_band</th>\n",
       "      <th>num_of_prev_attempts</th>\n",
       "      <th>studied_credits</th>\n",
       "      <th>disability</th>\n",
       "      <th>final_result</th>\n",
       "      <th>module_presentation_length</th>\n",
       "      <th>date_registration</th>\n",
       "      <th>date_unregistration</th>\n",
       "    </tr>\n",
       "  </thead>\n",
       "  <tbody>\n",
       "    <tr>\n",
       "      <th>0</th>\n",
       "      <td>AAA</td>\n",
       "      <td>2013J</td>\n",
       "      <td>11391</td>\n",
       "      <td>M</td>\n",
       "      <td>East Anglian Region</td>\n",
       "      <td>HE Qualification</td>\n",
       "      <td>90-100%</td>\n",
       "      <td>55&lt;=</td>\n",
       "      <td>0</td>\n",
       "      <td>240</td>\n",
       "      <td>N</td>\n",
       "      <td>Pass</td>\n",
       "      <td>268</td>\n",
       "      <td>-159.0</td>\n",
       "      <td>NaN</td>\n",
       "    </tr>\n",
       "    <tr>\n",
       "      <th>1</th>\n",
       "      <td>AAA</td>\n",
       "      <td>2013J</td>\n",
       "      <td>28400</td>\n",
       "      <td>F</td>\n",
       "      <td>Scotland</td>\n",
       "      <td>HE Qualification</td>\n",
       "      <td>20-30%</td>\n",
       "      <td>35-55</td>\n",
       "      <td>0</td>\n",
       "      <td>60</td>\n",
       "      <td>N</td>\n",
       "      <td>Pass</td>\n",
       "      <td>268</td>\n",
       "      <td>-53.0</td>\n",
       "      <td>NaN</td>\n",
       "    </tr>\n",
       "    <tr>\n",
       "      <th>2</th>\n",
       "      <td>AAA</td>\n",
       "      <td>2013J</td>\n",
       "      <td>30268</td>\n",
       "      <td>F</td>\n",
       "      <td>North Western Region</td>\n",
       "      <td>A Level or Equivalent</td>\n",
       "      <td>30-40%</td>\n",
       "      <td>35-55</td>\n",
       "      <td>0</td>\n",
       "      <td>60</td>\n",
       "      <td>Y</td>\n",
       "      <td>Withdrawn</td>\n",
       "      <td>268</td>\n",
       "      <td>-92.0</td>\n",
       "      <td>12.0</td>\n",
       "    </tr>\n",
       "    <tr>\n",
       "      <th>3</th>\n",
       "      <td>AAA</td>\n",
       "      <td>2013J</td>\n",
       "      <td>31604</td>\n",
       "      <td>F</td>\n",
       "      <td>South East Region</td>\n",
       "      <td>A Level or Equivalent</td>\n",
       "      <td>50-60%</td>\n",
       "      <td>35-55</td>\n",
       "      <td>0</td>\n",
       "      <td>60</td>\n",
       "      <td>N</td>\n",
       "      <td>Pass</td>\n",
       "      <td>268</td>\n",
       "      <td>-52.0</td>\n",
       "      <td>NaN</td>\n",
       "    </tr>\n",
       "    <tr>\n",
       "      <th>4</th>\n",
       "      <td>AAA</td>\n",
       "      <td>2013J</td>\n",
       "      <td>32885</td>\n",
       "      <td>F</td>\n",
       "      <td>West Midlands Region</td>\n",
       "      <td>Lower Than A Level</td>\n",
       "      <td>50-60%</td>\n",
       "      <td>0-35</td>\n",
       "      <td>0</td>\n",
       "      <td>60</td>\n",
       "      <td>N</td>\n",
       "      <td>Pass</td>\n",
       "      <td>268</td>\n",
       "      <td>-176.0</td>\n",
       "      <td>NaN</td>\n",
       "    </tr>\n",
       "  </tbody>\n",
       "</table>\n",
       "</div>"
      ],
      "text/plain": [
       "  code_module code_presentation  id_student gender                region  \\\n",
       "0         AAA             2013J       11391      M   East Anglian Region   \n",
       "1         AAA             2013J       28400      F              Scotland   \n",
       "2         AAA             2013J       30268      F  North Western Region   \n",
       "3         AAA             2013J       31604      F     South East Region   \n",
       "4         AAA             2013J       32885      F  West Midlands Region   \n",
       "\n",
       "       highest_education imd_band age_band  num_of_prev_attempts  \\\n",
       "0       HE Qualification  90-100%     55<=                     0   \n",
       "1       HE Qualification   20-30%    35-55                     0   \n",
       "2  A Level or Equivalent   30-40%    35-55                     0   \n",
       "3  A Level or Equivalent   50-60%    35-55                     0   \n",
       "4     Lower Than A Level   50-60%     0-35                     0   \n",
       "\n",
       "   studied_credits disability final_result  module_presentation_length  \\\n",
       "0              240          N         Pass                         268   \n",
       "1               60          N         Pass                         268   \n",
       "2               60          Y    Withdrawn                         268   \n",
       "3               60          N         Pass                         268   \n",
       "4               60          N         Pass                         268   \n",
       "\n",
       "   date_registration  date_unregistration  \n",
       "0             -159.0                  NaN  \n",
       "1              -53.0                  NaN  \n",
       "2              -92.0                 12.0  \n",
       "3              -52.0                  NaN  \n",
       "4             -176.0                  NaN  "
      ]
     },
     "execution_count": 5,
     "metadata": {},
     "output_type": "execute_result"
    }
   ],
   "source": [
    "# step 1 merge 'student' with 'course'\n",
    "final_student = pd.merge(students, courses, on=['code_module', 'code_presentation'], validate='many_to_one')\n",
    "#final_student.head()\n",
    "\n",
    "# step 2 merge registrations with final_student\n",
    "final_student = pd.merge(final_student, registrations, on=['code_module','code_presentation','id_student'], validate=\"1:1\")\n",
    "\n",
    "final_student.head()"
   ]
  },
  {
   "cell_type": "code",
   "execution_count": null,
   "metadata": {},
   "outputs": [],
   "source": []
  },
  {
   "cell_type": "code",
   "execution_count": null,
   "metadata": {},
   "outputs": [],
   "source": [
    "## to be made into a function?? with a prediction point splitter??\n",
    "\n",
    "# step 1 merge 'student' with 'course'\n",
    "final_student = pd.merge(students, courses, on=['code_module', 'code_presentation'], validate='many_to_one')\n",
    "final_student.head()\n",
    "\n",
    "# step 2 merge registrations with final_student\n",
    "final_student = pd.merge(final_student, registrations, on=['code_module','code_presentation','id_student'], validate=\"1:1\")\n",
    "\n",
    "# step 3 drop imd_band, date_reg nulls and replace NaN for unreg date with the length of the course\n",
    "final_student.dropna(subset=['date_registration', 'imd_band'], inplace=True)\n",
    "final_student['date_unregistration'] = final_student['date_unregistration'].fillna(final_student['module_presentation_length'])\n",
    "\n",
    "# step 4 drop rows where withdrew before started - may want to add cool off buffer 7-14 days? (as earlier)\n",
    "final_student = final_student[final_student['date_unregistration'] < final_student['date_registration']]\n",
    "\n",
    "# step 5 split code_presentation into year and month and add subject from code_module\n",
    "final_student['year'] = final_student['code_presentation'].str[:4].astype(int)\n",
    "final_student['month'] = final_student['code_presentation'].str[-1].map({'J': 'Oct', 'B': 'Feb'})\n",
    "\n",
    "# Module subject mapping\n",
    "code_module_mapping = {\n",
    "    'AAA': 'SocSci',\n",
    "    'BBB': 'SocSci',\n",
    "    'GGG': 'SocSci',\n",
    "    'CCC': 'Stem',\n",
    "    'DDD': 'Stem',\n",
    "    'EEE': 'Stem',\n",
    "    'FFF': 'Stem'\n",
    "}\n",
    "final_student['subject'] = final_student['code_module'].map(code_module_mapping)\n",
    "\n",
    "#final_student.head()\n",
    "\n",
    "# step 6 prep assessments - fill missing dates with length of course - 3 days (last week of course)\n",
    "\n",
    "# merge 'assessments' and 'courses' on 'code_module' and 'code_presentation'\n",
    "merged_assess = assessments.merge(courses[['code_module', 'code_presentation', 'module_presentation_length']], on=['code_module', 'code_presentation'], how='left')\n",
    "\n",
    "# value to fill in the missing 'date' values\n",
    "value_to_fill = merged_assess['module_presentation_length'] - 3\n",
    "\n",
    "# missing values in 'date' column \n",
    "merged_assess['date'] = merged_assess['date'].fillna(value_to_fill)\n",
    "\n",
    "# update 'assessments' with filled 'date' column\n",
    "assessments['date'] = merged_assess['date']\n",
    "\n",
    "\n",
    "# step 7 merge assessments with final_student\n",
    "\n",
    "## remove cols - is_banked, score = null\n"
   ]
  }
 ],
 "metadata": {
  "kernelspec": {
   "display_name": "Python 3",
   "language": "python",
   "name": "python3"
  },
  "language_info": {
   "codemirror_mode": {
    "name": "ipython",
    "version": 3
   },
   "file_extension": ".py",
   "mimetype": "text/x-python",
   "name": "python",
   "nbconvert_exporter": "python",
   "pygments_lexer": "ipython3",
   "version": "3.11.0"
  },
  "orig_nbformat": 4
 },
 "nbformat": 4,
 "nbformat_minor": 2
}
