{
 "cells": [
  {
   "attachments": {},
   "cell_type": "markdown",
   "metadata": {},
   "source": [
    "## Open University Learning Analytics dataset"
   ]
  },
  {
   "attachments": {},
   "cell_type": "markdown",
   "metadata": {},
   "source": [
    "### Links\n",
    "\n",
    "* https://analyse.kmi.open.ac.uk/\n",
    "* https://analyse.kmi.open.ac.uk/#open-dataset\n",
    "* https://analyse.kmi.open.ac.uk/#dashboard\n"
   ]
  },
  {
   "attachments": {},
   "cell_type": "markdown",
   "metadata": {},
   "source": [
    "\n",
    "### Dataset\n",
    "\n",
    "https://analyse.kmi.open.ac.uk/open_dataset\n",
    "\n",
    "This dataset contains several linkable tables: \n",
    "\n",
    "* student biographical/demographical data \n",
    "* student registration data\n",
    "* student assessment data\n",
    "* student VLE (virtual learning environment) activity data\n",
    "* student course data \n",
    "\n",
    "The dataset contains anonymised student interaction and demographic data for 7 modules which ran in 2013 and 2014, with intakes in February and October.  \n",
    "\n",
    "More details can be found here: [OU Dataset Preparation](https://www.nature.com/articles/sdata2017171#Sec2)\n",
    "\n",
    "The Open University is one of the world's largest distance learning providers, with over 170,000 students.  This dataset contains more than 30,000 students.\n",
    "\n"
   ]
  },
  {
   "attachments": {},
   "cell_type": "markdown",
   "metadata": {},
   "source": [
    "### Data model\n",
    "\n",
    "![OU data model](../../_images/OU_data_model.png)\n",
    "\n"
   ]
  },
  {
   "attachments": {},
   "cell_type": "markdown",
   "metadata": {},
   "source": [
    "### Data schema\n",
    "\n",
    "![OU data schema](../_images/OU_data_schema.png)\n",
    "\n"
   ]
  },
  {
   "attachments": {},
   "cell_type": "markdown",
   "metadata": {},
   "source": [
    "### Student Data \n",
    "\n",
    "The dataset includes the following columns about students: \n",
    "\n",
    "* gender - male / female\n",
    "* region - UK region, e.g. East Anglian Region\n",
    "* highest_education - highest student education level on entry to the module, e.g. A Level or equivalent\n",
    "* imd_band - Index of Multiple Deprivation band of student location, e.g. 90-100%\n",
    "* age_band - age band of student, e.g. 35-55\n",
    "* num_of_prev_attempts - number of times the student has attempted this module\n",
    "* studied_credits - the total number of credits for the modules the student is currently studying\n",
    "* disability - Y/N whether the student has declared a disability\n",
    "* final_result - final result of the module, e.g. Withdraw, Pass, Fail, Distinction"
   ]
  },
  {
   "attachments": {},
   "cell_type": "markdown",
   "metadata": {},
   "source": []
  },
  {
   "attachments": {},
   "cell_type": "markdown",
   "metadata": {},
   "source": [
    "### Further information\n",
    "\n",
    "#### OU Dataset Preparation\n",
    "\n",
    "More information about how the dataset was prepared available here: [OU Dataset Preparation](https://www.nature.com/articles/sdata2017171#Sec2)\n",
    "\n",
    "[Open University Learning Analytics dataset](https://www.nature.com/articles/sdata2017171) \n",
    "\n",
    "Kuzilek, J. et al. Open University Learning Analytics dataset. Sci. Data 4:170171 doi: 10.1038/sdata.2017.171 (2017).\n",
    "\n",
    "#### IMD Band\n",
    "\n",
    "The English Indices of Deprivation 2019 : technical report\n",
    "McLennan, David and Noble, Stefan and Noble, Michael and Plunkett, Emma and Wright, Gemma and Gutacker, Nils, Ministry of Housing, Communities and Local Government (MHCLG), corp creator. (2019) The English Indices of Deprivation 2019 : technical report. [ Guidance ]\n",
    "\n",
    "URI:\thttps://dera.ioe.ac.uk//id/eprint/34259\n",
    "\n",
    "https://www.gov.uk/government/statistics/english-indices-of-deprivation-2019\n",
    "\n",
    "[IMD Infographic](https://assets.publishing.service.gov.uk/government/uploads/system/uploads/attachment_data/file/833959/IoD2019_Infographic.pdf)\n"
   ]
  }
 ],
 "metadata": {
  "language_info": {
   "name": "python"
  },
  "orig_nbformat": 4
 },
 "nbformat": 4,
 "nbformat_minor": 2
}
