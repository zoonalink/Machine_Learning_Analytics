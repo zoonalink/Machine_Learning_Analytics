{
 "cells": [
  {
   "attachments": {},
   "cell_type": "markdown",
   "metadata": {},
   "source": [
    "## Introduction to Sideshow"
   ]
  },
  {
   "attachments": {},
   "cell_type": "markdown",
   "metadata": {},
   "source": [
    "Besides notebooks and files associated with the coursework for `Machine Learning and Predictive Analytics` (UFCFMJ-15-M), this repository also contains notebooks and files supporting my journey through this coursework. \n",
    "\n",
    "These notebooks are not part of the coursework, but are included here for completeness and to provide a record of my learning process.\n",
    "\n",
    "They are not intended to serve any purpose; they have not been polished for publication or presentation or sharing.  \n",
    "\n",
    "They are in note form, and are likely to contain errors, omissions, and other imperfections but should be sufficiently annotated to describe my thought process, decision-making and learning.  \n",
    "\n",
    "The coursework element of this repository is contained in the [coursework](./coursework) folder.    "
   ]
  },
  {
   "attachments": {},
   "cell_type": "markdown",
   "metadata": {},
   "source": [
    "### Change of tack"
   ]
  },
  {
   "attachments": {},
   "cell_type": "markdown",
   "metadata": {},
   "source": [
    "My original intention turned out to be more than I could achieve given the time available to me and my current level of knowledge and skill.\n",
    "\n",
    "That did not prevent me from trying... see notebooks in the [V1 folder](../V1).\n",
    "\n",
    "I was ambitious but also naive and confused - trying to do too much too soon and all at once.  But I knew this of myself and the effort put into the data exploration is not wasted as much will be replicated in the V2 notebooks.\n",
    "\n",
    "The main difference is that in this version - the notebooks which will inform the final coursework submission - I am keeping the focus much tighter and the scope much narrower.  I am also trying to be more systematic and methodical in my approach."
   ]
  },
  {
   "attachments": {},
   "cell_type": "markdown",
   "metadata": {},
   "source": [
    "### Next\n",
    "#### Data Exploration\n",
    "\n",
    "See: [01_data](./01_data.ipynb)"
   ]
  }
 ],
 "metadata": {
  "language_info": {
   "name": "python"
  },
  "orig_nbformat": 4
 },
 "nbformat": 4,
 "nbformat_minor": 2
}
