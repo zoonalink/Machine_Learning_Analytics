{
 "cells": [
  {
   "cell_type": "markdown",
   "metadata": {},
   "source": []
  },
  {
   "cell_type": "markdown",
   "metadata": {},
   "source": [
    "## Data preparation\n",
    "\n",
    "### Libraries and zip file"
   ]
  },
  {
   "cell_type": "code",
   "execution_count": 1,
   "metadata": {},
   "outputs": [],
   "source": [
    "import pandas as pd\n",
    "import numpy as np\n",
    "import zipfile\n",
    "import matplotlib.pyplot as plt\n"
   ]
  },
  {
   "cell_type": "code",
   "execution_count": 2,
   "metadata": {},
   "outputs": [],
   "source": [
    "    \n",
    "# import zip file with csv \n",
    "ou_zip = zipfile.ZipFile('../data/anonymisedData.zip') \n",
    "\n",
    "# save separate csvs\n",
    "registrations = pd.read_csv(ou_zip.open('studentRegistration.csv'))\n",
    "courses = pd.read_csv(ou_zip.open('courses.csv'))\n",
    "students = pd.read_csv(ou_zip.open('studentInfo.csv'))\n",
    "student_vle = pd.read_csv(ou_zip.open('studentVle.csv'))\n",
    "vle = pd.read_csv(ou_zip.open('vle.csv'))\n",
    "student_assessments = pd.read_csv(ou_zip.open('studentAssessment.csv'))\n",
    "assessments = pd.read_csv(ou_zip.open('assessments.csv'))"
   ]
  },
  {
   "attachments": {},
   "cell_type": "markdown",
   "metadata": {},
   "source": [
    "### course information\n",
    "* merge course information from course table - merge on code_module and code_presentation\n",
    "\n"
   ]
  },
  {
   "cell_type": "code",
   "execution_count": 15,
   "metadata": {},
   "outputs": [],
   "source": [
    "# merge students and courses\n",
    "student_regist = pd.merge(students, courses, on=['code_module', 'code_presentation'], validate='many_to_one')\n",
    "\n",
    "#final.count()"
   ]
  },
  {
   "attachments": {},
   "cell_type": "markdown",
   "metadata": {},
   "source": [
    "### registrations\n",
    "\n",
    "* merge registration table with student table\n",
    "* drop rows with missing 'imd_band' and 'date_registration'\n",
    "\n",
    "\n",
    "NOTE: some students have more than one registration, but not on the same module_presentation (code_module, code_presentation)\n"
   ]
  },
  {
   "cell_type": "code",
   "execution_count": 16,
   "metadata": {},
   "outputs": [],
   "source": [
    "# merge registrations\n",
    "student_regist = pd.merge(student_regist, registrations, on=['code_module', 'code_presentation', 'id_student'], how = 'left', validate='1:1')\n",
    "#final.count()"
   ]
  },
  {
   "cell_type": "code",
   "execution_count": 17,
   "metadata": {},
   "outputs": [],
   "source": [
    "# drop missing value rows (date_registration, imd_band)\n",
    "student_regist.dropna(subset=['date_registration', 'imd_band'], inplace=True)\n",
    "#final.count()"
   ]
  },
  {
   "attachments": {},
   "cell_type": "markdown",
   "metadata": {},
   "source": [
    "### prediction point\n",
    "\n",
    "* one main goal of predicting outcome is to understand whether 'intervention' is needed - thus early identification and action is valuable.\n",
    "* therefore predictions need to be made as early as possible, or at variable points in time.\n",
    "* it would not make sense to make an early preediction using information that is not avaialable at that point in time - so the data needs to be subset based on a prediction point.\n",
    "* `prediction_point` is the point in time from the start of the course (in days) at which the prediction - it removes:\n",
    "  * students who have already unregistered - their outcome is already known\n",
    "  * information that is not available at that point in time (assessments, vle)"
   ]
  },
  {
   "cell_type": "code",
   "execution_count": 29,
   "metadata": {},
   "outputs": [],
   "source": [
    "# prediction point = days from start of course\n",
    "prediction_point = 200\n",
    "\n",
    "# prediction point must be less than course length, integer, and greater than 0\n",
    "if not isinstance(prediction_point, int) or prediction_point <= 0 or prediction_point >= max(student_regist['module_presentation_length']):\n",
    "    print(\"Error: Invalid prediction point. \\n\\nPlease provide an integer value greater than 0 and less than the maximum course length. \\n\\nThis is the number of days from the start of the course for which you want to predict the outcome.\")\n",
    "else:\n",
    "    # withdrawn or failed before prediction point - remove\n",
    "    withdrawn_fail_condition = (student_regist['final_result'].isin(['Withdrawn', 'Fail'])) & (student_regist['date_unregistration'] <= prediction_point)\n",
    "    student_regist.loc[withdrawn_fail_condition, 'status'] = 'remove_outcome_known'\n",
    "    # if unregister after prediction point - keep\n",
    "    unregister_after_condition = student_regist['date_unregistration'] > prediction_point\n",
    "    student_regist.loc[unregister_after_condition, 'status'] = 'keep'\n",
    "    # if no unregistration date - keep\n",
    "    no_unregistration_condition = student_regist['date_unregistration'].isna()\n",
    "    student_regist.loc[no_unregistration_condition, 'status'] = 'keep'\n",
    "    # default case\n",
    "    student_regist.loc[~(withdrawn_fail_condition | unregister_after_condition | no_unregistration_condition), 'status'] = 'query'\n",
    "\n",
    "query_rows = student_regist[student_regist['status'] == 'query'] | student_regist[student_regist['status'].isna()]\n",
    "\n",
    "\n",
    "if not query_rows.empty:\n",
    "    print(\"The following rows need investigation.  They are excluded from the following analysis: \\n\")\n",
    "    print(query_rows)\n",
    "    final = student_regist[~student_regist.isin(query_rows)].dropna()\n",
    "\n",
    "    \n",
    "\n"
   ]
  },
  {
   "attachments": {},
   "cell_type": "markdown",
   "metadata": {},
   "source": [
    "date_unregistration blanks need to be populated with the end date of the course - these students are still registered"
   ]
  },
  {
   "cell_type": "code",
   "execution_count": 30,
   "metadata": {},
   "outputs": [],
   "source": [
    "# replace missing date_unreg with module_presentation_length\n",
    "student_regist['date_unregistration'] = student_regist['date_unregistration'].fillna(student_regist['module_presentation_length'])\n",
    "#final.count()"
   ]
  },
  {
   "attachments": {},
   "cell_type": "markdown",
   "metadata": {},
   "source": [
    "### dataset for the model - adding engagement data\n",
    "\n"
   ]
  },
  {
   "cell_type": "code",
   "execution_count": 38,
   "metadata": {},
   "outputs": [
    {
     "data": {
      "text/plain": [
       "code_module                   22149\n",
       "code_presentation             22149\n",
       "id_student                    22149\n",
       "gender                        22149\n",
       "region                        22149\n",
       "highest_education             22149\n",
       "imd_band                      22149\n",
       "age_band                      22149\n",
       "num_of_prev_attempts          22149\n",
       "studied_credits               22149\n",
       "disability                    22149\n",
       "final_result                  22149\n",
       "module_presentation_length    22149\n",
       "date_registration             22149\n",
       "date_unregistration           22149\n",
       "status                        22149\n",
       "dtype: int64"
      ]
     },
     "execution_count": 38,
     "metadata": {},
     "output_type": "execute_result"
    }
   ],
   "source": [
    "# remove rows from final student df which are not needed\n",
    "model_final = student_regist[student_regist['status'] != 'remove_outcome_known']\n",
    "model_final.count()\n",
    "#model_final.head(20)"
   ]
  },
  {
   "attachments": {},
   "cell_type": "markdown",
   "metadata": {},
   "source": [
    "### assessments in time - add to table\n",
    "\n",
    "prepare assessments data"
   ]
  },
  {
   "cell_type": "code",
   "execution_count": 42,
   "metadata": {},
   "outputs": [],
   "source": [
    "# merge 'assessments' and 'courses' on 'code_module' and 'code_presentation'\n",
    "course_assess = assessments.merge(courses[['code_module', 'code_presentation', 'module_presentation_length']], on=['code_module', 'code_presentation'], how='left')\n",
    "\n",
    "# fill in the missing 'date' values with course final week (as per literature)\n",
    "value_to_fill = course_assess['module_presentation_length'] - 3\n",
    "course_assess['date'] = course_assess['date'].fillna(value_to_fill)"
   ]
  },
  {
   "cell_type": "code",
   "execution_count": 43,
   "metadata": {},
   "outputs": [
    {
     "data": {
      "text/plain": [
       "id_assessment                 173912\n",
       "id_student                    173912\n",
       "date_submitted                173912\n",
       "is_banked                     173912\n",
       "score                         173739\n",
       "code_module                   173912\n",
       "code_presentation             173912\n",
       "assessment_type               173912\n",
       "date                          173912\n",
       "weight                        173912\n",
       "module_presentation_length    173912\n",
       "dtype: int64"
      ]
     },
     "execution_count": 43,
     "metadata": {},
     "output_type": "execute_result"
    }
   ],
   "source": [
    "# merge student_assessments with course_assess\n",
    "stu_assess = pd.merge(student_assessments, course_assess, on=['id_assessment'], how='left')\n",
    "stu_assess.count()\n"
   ]
  },
  {
   "cell_type": "code",
   "execution_count": 37,
   "metadata": {},
   "outputs": [
    {
     "data": {
      "text/plain": [
       "code_module                   22023\n",
       "code_presentation             22023\n",
       "id_student                    22023\n",
       "gender                        22023\n",
       "region                        22023\n",
       "highest_education             22023\n",
       "imd_band                      22023\n",
       "age_band                      22023\n",
       "num_of_prev_attempts          22023\n",
       "studied_credits               22023\n",
       "disability                    22023\n",
       "final_result                  22023\n",
       "module_presentation_length    22023\n",
       "date_registration             22023\n",
       "date_unregistration           22023\n",
       "status                        22023\n",
       "dtype: int64"
      ]
     },
     "execution_count": 37,
     "metadata": {},
     "output_type": "execute_result"
    }
   ],
   "source": [
    "# drop students who have no score for an assessment\n",
    "\n",
    "# rows with a missing scoare\n",
    "missing_score_rows = stu_assess[stu_assess['score'].isna()]\n",
    "\n",
    "# student ids with missing score\n",
    "unique_ids_missing = missing_score_rows['id_student'].unique()\n",
    "\n",
    "# remove students with missing score from student df\n",
    "model_final = model_final[~model_final['id_student'].isin(unique_ids_missing)]\n",
    "#model_final.count()\n",
    "\n"
   ]
  },
  {
   "cell_type": "code",
   "execution_count": 44,
   "metadata": {},
   "outputs": [
    {
     "data": {
      "text/plain": [
       "id_assessment                 173739\n",
       "id_student                    173739\n",
       "date_submitted                173739\n",
       "is_banked                     173739\n",
       "score                         173739\n",
       "code_module                   173739\n",
       "code_presentation             173739\n",
       "assessment_type               173739\n",
       "date                          173739\n",
       "weight                        173739\n",
       "module_presentation_length    173739\n",
       "dtype: int64"
      ]
     },
     "execution_count": 44,
     "metadata": {},
     "output_type": "execute_result"
    }
   ],
   "source": [
    "# drop rows with missing score\n",
    "stu_assess.dropna(subset=['score'], inplace=True)\n",
    "#stu_assess.count()"
   ]
  },
  {
   "attachments": {},
   "cell_type": "markdown",
   "metadata": {},
   "source": [
    "fixing date issues - see other file for details"
   ]
  },
  {
   "cell_type": "code",
   "execution_count": 45,
   "metadata": {},
   "outputs": [],
   "source": [
    "# removing students with negative or extreme date_submitted values\n",
    "# removing rows from merged_assess\n",
    "\n",
    "# get max module length\n",
    "max_module_length = stu_assess['module_presentation_length'].max()\n",
    "\n",
    "# get students with negative or extreme date_submitted values\n",
    "greater_than_max_length = stu_assess[stu_assess['date_submitted'] > max_module_length]['id_student'].unique()\n",
    "less_than_zero = stu_assess[stu_assess['date_submitted'] < 0]['id_student'].unique()\n",
    "\n",
    "# remove students from model_final\n",
    "students_to_remove = set(greater_than_max_length) | set(less_than_zero)\n",
    "model_final = model_final[~model_final['id_student'].isin(students_to_remove)]\n",
    "\n",
    "# remove rows from merged_assess\n",
    "merged_assess = stu_assess[~stu_assess['id_student'].isin(students_to_remove)]\n",
    "\n"
   ]
  },
  {
   "attachments": {},
   "cell_type": "markdown",
   "metadata": {},
   "source": [
    "removing extreme submission dates"
   ]
  },
  {
   "cell_type": "code",
   "execution_count": 49,
   "metadata": {},
   "outputs": [],
   "source": [
    "# removing students with negative or extreme date_submitted values\n",
    "# removing rows from merged_assess\n",
    "\n",
    "# get max module length\n",
    "max_module_length = stu_assess['module_presentation_length'].max()\n",
    "\n",
    "# get students with negative or extreme date_submitted values\n",
    "greater_than_max_length = stu_assess[stu_assess['date_submitted'] > max_module_length]['id_student'].unique()\n",
    "less_than_zero = stu_assess[stu_assess['date_submitted'] < 0]['id_student'].unique()\n",
    "\n",
    "# remove students from model_final\n",
    "students_to_remove = set(greater_than_max_length) | set(less_than_zero)\n",
    "model_final = model_final[~model_final['id_student'].isin(students_to_remove)]\n",
    "\n",
    "# remove rows from merged_assess\n",
    "stu_assess = stu_assess[~stu_assess['id_student'].isin(students_to_remove)]\n",
    "\n"
   ]
  },
  {
   "attachments": {},
   "cell_type": "markdown",
   "metadata": {},
   "source": [
    "reduce stu_ssess to `prediction_point` value"
   ]
  },
  {
   "cell_type": "code",
   "execution_count": null,
   "metadata": {},
   "outputs": [],
   "source": [
    "# reduce data by prediction point\n",
    "model_student_assess = stu_assess[stu_assess['date'] <= prediction_point]\n",
    "\n"
   ]
  },
  {
   "attachments": {},
   "cell_type": "markdown",
   "metadata": {},
   "source": [
    "create new assessment features - suitable for all modules"
   ]
  },
  {
   "cell_type": "code",
   "execution_count": 51,
   "metadata": {},
   "outputs": [
    {
     "data": {
      "text/plain": [
       "code_module          22\n",
       "code_presentation    22\n",
       "exp_sub_count        22\n",
       "exp_sub_date_sum     22\n",
       "dtype: int64"
      ]
     },
     "execution_count": 51,
     "metadata": {},
     "output_type": "execute_result"
    }
   ],
   "source": [
    "# get expected assessment details\n",
    "\n",
    "model_course_assess = course_assess[course_assess['date'] <= prediction_point]\n",
    "#model_course_assess.count()\n",
    "\n",
    "# expected assessment count per module_presentation\n",
    "expected_ass = model_course_assess.groupby(['code_module', 'code_presentation'])['id_assessment'].count().reset_index()\n",
    "expected_ass = expected_ass.rename(columns={'id_assessment': 'exp_sub_count'})\n",
    "\n",
    "# excpeted assessment date sum\n",
    "date_sum = model_course_assess.groupby(['code_module', 'code_presentation'])['date'].sum().reset_index()\n",
    "expected_ass = expected_ass.merge(date_sum, on=['code_module', 'code_presentation'], how='left')\n",
    "expected_ass = expected_ass.rename(columns={'date': 'exp_sub_date_sum'})\n",
    "\n",
    "#expected_ass.count()"
   ]
  },
  {
   "cell_type": "code",
   "execution_count": 52,
   "metadata": {},
   "outputs": [],
   "source": [
    "# summarise students assessments by module_presentation\n",
    "student_assessment_summary = model_student_assess.groupby(['id_student', 'code_module', 'code_presentation']).agg(\n",
    "    count_id_assessment=('id_assessment', 'count'),\n",
    "    sum_score=('score', 'sum'),\n",
    "    sum_date=('date', 'sum')\n",
    ").reset_index()\n",
    "#student_assessment_summary.count()"
   ]
  },
  {
   "cell_type": "code",
   "execution_count": 55,
   "metadata": {},
   "outputs": [],
   "source": [
    "# merge student_assessment_summary and expected_ass on code_module and code_presentation\n",
    "merged_assess_summary = student_assessment_summary.merge(expected_ass, on=['code_module', 'code_presentation'])\n",
    "\n",
    "# calculate the new features\n",
    "merged_assess_summary['prop_submissions'] = merged_assess_summary['count_id_assessment'] / merged_assess_summary['exp_sub_count']\n",
    "merged_assess_summary['avg_score'] = merged_assess_summary['sum_score'] / merged_assess_summary['exp_sub_count']\n",
    "merged_assess_summary['submission_distance'] = merged_assess_summary['exp_sub_date_sum'] - merged_assess_summary['sum_date']\n"
   ]
  },
  {
   "attachments": {},
   "cell_type": "markdown",
   "metadata": {},
   "source": [
    "### VLE data\n",
    "\n",
    "steps:\n",
    "\n",
    "\n",
    "* merge vle with courses - maybe?\n",
    "* \n",
    "* merge vle with student_vle\n",
    "* assess missing values - these still need to be kept, probably as 0\n",
    "* assess vle against dates\n",
    "* reduce vle to `prediction_point` value\n",
    "* create new features - tbd\n",
    "* summary_vle df\n",
    "* check for duplicates - group on stu_id, mod_presenation\n",
    "* "
   ]
  },
  {
   "attachments": {},
   "cell_type": "markdown",
   "metadata": {},
   "source": [
    "this merge may not be needed - only if I use course_length"
   ]
  },
  {
   "cell_type": "code",
   "execution_count": 66,
   "metadata": {},
   "outputs": [],
   "source": [
    "# merge 'vle' and 'courses' on 'code_module' and 'code_presentation'\n",
    "course_vle = vle.merge(courses, on=['code_module', 'code_presentation'], how='left')\n",
    "\n",
    "#missing_values = course_vle.isnull().sum()\n",
    "#print(\"Missing values:\\n\", missing_values, \"\\n\")\n",
    "\n",
    "# drop week_from and week_to columns\n",
    "course_vle = course_vle.drop(['week_from', 'week_to'], axis=1)\n",
    "\n",
    "#missing_values = course_vle.isnull().sum()\n",
    "#print(\"Missing values:\\n\", missing_values, \"\\n\")"
   ]
  },
  {
   "cell_type": "code",
   "execution_count": 64,
   "metadata": {},
   "outputs": [
    {
     "name": "stdout",
     "output_type": "stream",
     "text": [
      "   code_module code_presentation  type_count\n",
      "0          AAA             2013J           9\n",
      "1          AAA             2014J           9\n",
      "2          BBB             2013B          10\n",
      "3          BBB             2013J          10\n",
      "4          BBB             2014B          10\n",
      "5          BBB             2014J          10\n",
      "6          CCC             2014B           9\n",
      "7          CCC             2014J           9\n",
      "8          DDD             2013B          11\n",
      "9          DDD             2013J          10\n",
      "10         DDD             2014B          10\n",
      "11         DDD             2014J          10\n",
      "12         EEE             2013J          11\n",
      "13         EEE             2014B          11\n",
      "14         EEE             2014J          11\n",
      "15         FFF             2013B          14\n",
      "16         FFF             2013J          16\n",
      "17         FFF             2014B          15\n",
      "18         FFF             2014J          16\n",
      "19         GGG             2013J           7\n",
      "20         GGG             2014B           7\n",
      "21         GGG             2014J           7\n"
     ]
    }
   ],
   "source": [
    "# number of vle types per module_presentation - potential feature\n",
    "\n",
    "group_vle = vle.groupby(['code_module', 'code_presentation'])['activity_type'].nunique().reset_index()\n",
    "group_vle.rename(columns={'activity_type': 'type_count'}, inplace=True)\n",
    "\n",
    "# prints\n",
    "print(group_vle)\n"
   ]
  },
  {
   "attachments": {},
   "cell_type": "markdown",
   "metadata": {},
   "source": [
    "this merge may not be needed."
   ]
  },
  {
   "cell_type": "code",
   "execution_count": 73,
   "metadata": {},
   "outputs": [
    {
     "data": {
      "text/plain": [
       "269"
      ]
     },
     "execution_count": 73,
     "metadata": {},
     "output_type": "execute_result"
    }
   ],
   "source": [
    "#merge vle with student_vle\n",
    "all_stu_vle = pd.merge(student_vle, course_vle, on=['id_site', 'code_module', 'code_presentation'], how='left')\n",
    "\n"
   ]
  },
  {
   "cell_type": "code",
   "execution_count": 72,
   "metadata": {},
   "outputs": [
    {
     "name": "stdout",
     "output_type": "stream",
     "text": [
      "Empty DataFrame\n",
      "Columns: [code_module, code_presentation, id_student, id_site, date, sum_click, activity_type, module_presentation_length]\n",
      "Index: []\n"
     ]
    }
   ],
   "source": [
    "# Filter the rows where 'date' is greater than 'module_presentation_length'\n",
    "filtered_data = all_stu_vle[all_stu_vle['date'] > all_stu_vle['module_presentation_length']]\n",
    "\n",
    "# Print the resulting DataFrame\n",
    "print(filtered_data)\n"
   ]
  },
  {
   "cell_type": "code",
   "execution_count": 71,
   "metadata": {},
   "outputs": [
    {
     "name": "stdout",
     "output_type": "stream",
     "text": [
      "  code_module code_presentation  id_student  stu_activity_count  \\\n",
      "0         AAA             2013J       11391                 196   \n",
      "1         AAA             2013J       28400                 430   \n",
      "2         AAA             2013J       30268                  76   \n",
      "3         AAA             2013J       31604                 663   \n",
      "4         AAA             2013J       32885                 352   \n",
      "\n",
      "   stu_activity_type_count  stu_total_clicks  stu_days_active  \n",
      "0                        6               934               40  \n",
      "1                        7              1435               80  \n",
      "2                        6               281               12  \n",
      "3                        8              2158              123  \n",
      "4                        7              1034               70  \n"
     ]
    }
   ],
   "source": [
    "\n",
    "\n",
    "# aggregations for each column\n",
    "aggregations = {\n",
    "    'id_site': 'count',\n",
    "    'activity_type': 'nunique',\n",
    "    'sum_click': 'sum',\n",
    "    'date': lambda x: x.nunique()\n",
    "}\n",
    "\n",
    "# group and apply the aggregations\n",
    "grouped_data = all_stu_vle.groupby(['code_module', 'code_presentation', 'id_student']).agg(aggregations).reset_index()\n",
    "\n",
    "# rename the columns\n",
    "grouped_data.rename(columns={\n",
    "    'id_site': 'stu_activity_count',\n",
    "    'activity_type': 'stu_activity_type_count',\n",
    "    'sum_click': 'stu_total_clicks',\n",
    "    'date': 'stu_days_active'\n",
    "}, inplace=True)\n",
    "\n",
    "# print\n",
    "print(grouped_data.head())\n",
    "\n"
   ]
  },
  {
   "cell_type": "code",
   "execution_count": null,
   "metadata": {},
   "outputs": [],
   "source": []
  },
  {
   "cell_type": "code",
   "execution_count": 62,
   "metadata": {},
   "outputs": [
    {
     "data": {
      "text/html": [
       "<div>\n",
       "<style scoped>\n",
       "    .dataframe tbody tr th:only-of-type {\n",
       "        vertical-align: middle;\n",
       "    }\n",
       "\n",
       "    .dataframe tbody tr th {\n",
       "        vertical-align: top;\n",
       "    }\n",
       "\n",
       "    .dataframe thead th {\n",
       "        text-align: right;\n",
       "    }\n",
       "</style>\n",
       "<table border=\"1\" class=\"dataframe\">\n",
       "  <thead>\n",
       "    <tr style=\"text-align: right;\">\n",
       "      <th></th>\n",
       "      <th>id_student</th>\n",
       "      <th>code_module</th>\n",
       "      <th>code_presentation</th>\n",
       "      <th>id_site</th>\n",
       "      <th>date</th>\n",
       "      <th>sum_click</th>\n",
       "      <th>activity_type</th>\n",
       "      <th>module_presentation_length</th>\n",
       "    </tr>\n",
       "  </thead>\n",
       "  <tbody>\n",
       "    <tr>\n",
       "      <th>0</th>\n",
       "      <td>6516</td>\n",
       "      <td>AAA</td>\n",
       "      <td>2014J</td>\n",
       "      <td>662</td>\n",
       "      <td>662</td>\n",
       "      <td>662</td>\n",
       "      <td>662</td>\n",
       "      <td>662</td>\n",
       "    </tr>\n",
       "    <tr>\n",
       "      <th>1</th>\n",
       "      <td>8462</td>\n",
       "      <td>DDD</td>\n",
       "      <td>2013J</td>\n",
       "      <td>300</td>\n",
       "      <td>300</td>\n",
       "      <td>300</td>\n",
       "      <td>300</td>\n",
       "      <td>300</td>\n",
       "    </tr>\n",
       "    <tr>\n",
       "      <th>2</th>\n",
       "      <td>8462</td>\n",
       "      <td>DDD</td>\n",
       "      <td>2014J</td>\n",
       "      <td>4</td>\n",
       "      <td>4</td>\n",
       "      <td>4</td>\n",
       "      <td>4</td>\n",
       "      <td>4</td>\n",
       "    </tr>\n",
       "    <tr>\n",
       "      <th>3</th>\n",
       "      <td>11391</td>\n",
       "      <td>AAA</td>\n",
       "      <td>2013J</td>\n",
       "      <td>196</td>\n",
       "      <td>196</td>\n",
       "      <td>196</td>\n",
       "      <td>196</td>\n",
       "      <td>196</td>\n",
       "    </tr>\n",
       "    <tr>\n",
       "      <th>4</th>\n",
       "      <td>23629</td>\n",
       "      <td>BBB</td>\n",
       "      <td>2013B</td>\n",
       "      <td>59</td>\n",
       "      <td>59</td>\n",
       "      <td>59</td>\n",
       "      <td>59</td>\n",
       "      <td>59</td>\n",
       "    </tr>\n",
       "    <tr>\n",
       "      <th>...</th>\n",
       "      <td>...</td>\n",
       "      <td>...</td>\n",
       "      <td>...</td>\n",
       "      <td>...</td>\n",
       "      <td>...</td>\n",
       "      <td>...</td>\n",
       "      <td>...</td>\n",
       "      <td>...</td>\n",
       "    </tr>\n",
       "    <tr>\n",
       "      <th>29223</th>\n",
       "      <td>2698257</td>\n",
       "      <td>AAA</td>\n",
       "      <td>2013J</td>\n",
       "      <td>267</td>\n",
       "      <td>267</td>\n",
       "      <td>267</td>\n",
       "      <td>267</td>\n",
       "      <td>267</td>\n",
       "    </tr>\n",
       "    <tr>\n",
       "      <th>29224</th>\n",
       "      <td>2698535</td>\n",
       "      <td>CCC</td>\n",
       "      <td>2014B</td>\n",
       "      <td>190</td>\n",
       "      <td>190</td>\n",
       "      <td>190</td>\n",
       "      <td>190</td>\n",
       "      <td>190</td>\n",
       "    </tr>\n",
       "    <tr>\n",
       "      <th>29225</th>\n",
       "      <td>2698535</td>\n",
       "      <td>EEE</td>\n",
       "      <td>2013J</td>\n",
       "      <td>709</td>\n",
       "      <td>709</td>\n",
       "      <td>709</td>\n",
       "      <td>709</td>\n",
       "      <td>709</td>\n",
       "    </tr>\n",
       "    <tr>\n",
       "      <th>29226</th>\n",
       "      <td>2698577</td>\n",
       "      <td>BBB</td>\n",
       "      <td>2014J</td>\n",
       "      <td>237</td>\n",
       "      <td>237</td>\n",
       "      <td>237</td>\n",
       "      <td>237</td>\n",
       "      <td>237</td>\n",
       "    </tr>\n",
       "    <tr>\n",
       "      <th>29227</th>\n",
       "      <td>2698588</td>\n",
       "      <td>BBB</td>\n",
       "      <td>2014J</td>\n",
       "      <td>226</td>\n",
       "      <td>226</td>\n",
       "      <td>226</td>\n",
       "      <td>226</td>\n",
       "      <td>226</td>\n",
       "    </tr>\n",
       "  </tbody>\n",
       "</table>\n",
       "<p>29228 rows × 8 columns</p>\n",
       "</div>"
      ],
      "text/plain": [
       "       id_student code_module code_presentation  id_site  date  sum_click  \\\n",
       "0            6516         AAA             2014J      662   662        662   \n",
       "1            8462         DDD             2013J      300   300        300   \n",
       "2            8462         DDD             2014J        4     4          4   \n",
       "3           11391         AAA             2013J      196   196        196   \n",
       "4           23629         BBB             2013B       59    59         59   \n",
       "...           ...         ...               ...      ...   ...        ...   \n",
       "29223     2698257         AAA             2013J      267   267        267   \n",
       "29224     2698535         CCC             2014B      190   190        190   \n",
       "29225     2698535         EEE             2013J      709   709        709   \n",
       "29226     2698577         BBB             2014J      237   237        237   \n",
       "29227     2698588         BBB             2014J      226   226        226   \n",
       "\n",
       "       activity_type  module_presentation_length  \n",
       "0                662                         662  \n",
       "1                300                         300  \n",
       "2                  4                           4  \n",
       "3                196                         196  \n",
       "4                 59                          59  \n",
       "...              ...                         ...  \n",
       "29223            267                         267  \n",
       "29224            190                         190  \n",
       "29225            709                         709  \n",
       "29226            237                         237  \n",
       "29227            226                         226  \n",
       "\n",
       "[29228 rows x 8 columns]"
      ]
     },
     "execution_count": 62,
     "metadata": {},
     "output_type": "execute_result"
    }
   ],
   "source": [
    "all_stu_vle.groupby(['id_student', 'code_module', 'code_presentation']).count().reset_index()"
   ]
  },
  {
   "attachments": {},
   "cell_type": "markdown",
   "metadata": {},
   "source": [
    "TODO\n",
    "\n",
    "vle data\n",
    "\n",
    "\n",
    "Merge:\n",
    "merged_assess_summary with final student\n",
    "\n",
    "Final table:\n",
    "* create new features for 'intake', 'year' and 'subject' from code_module and code_presentation\n",
    "* rename cols\n",
    "* reorder cols\n",
    "* check and drop nulls\n",
    "* create new id and drop separate ids"
   ]
  }
 ],
 "metadata": {
  "kernelspec": {
   "display_name": "Python 3",
   "language": "python",
   "name": "python3"
  },
  "language_info": {
   "codemirror_mode": {
    "name": "ipython",
    "version": 3
   },
   "file_extension": ".py",
   "mimetype": "text/x-python",
   "name": "python",
   "nbconvert_exporter": "python",
   "pygments_lexer": "ipython3",
   "version": "3.11.0"
  },
  "orig_nbformat": 4
 },
 "nbformat": 4,
 "nbformat_minor": 2
}
