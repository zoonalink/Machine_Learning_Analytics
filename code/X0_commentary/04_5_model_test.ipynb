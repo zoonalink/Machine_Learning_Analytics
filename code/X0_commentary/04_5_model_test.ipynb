{
 "cells": [
  {
   "attachments": {},
   "cell_type": "markdown",
   "metadata": {},
   "source": [
    "## Final Test"
   ]
  },
  {
   "cell_type": "code",
   "execution_count": null,
   "metadata": {},
   "outputs": [],
   "source": [
    "import pandas as pd\n",
    "\n",
    "X_train_transformed = pd.read_csv('../../data/X_train_transformed.csv')\n",
    "X_test_transformed = pd.read_csv('../../data/X_test_transformed.csv')\n",
    "#X_val_transformed = pd.read_csv('../../data/X_val_transformed.csv')\n",
    "#X_train_pca = pd.read_csv('../../data/X_train_pca.csv')\n",
    "#X_test_pca = pd.read_csv('../../data/X_test_pca.csv')\n",
    "#X_val_pca = pd.read_csv('../../data/X_val_pca.csv')\n",
    "\n",
    "\n",
    "y_train = pd.read_csv('../../data/y_train.csv')\n",
    "y_test = pd.read_csv('../../data/y_test.csv')\n",
    "#y_val = pd.read_csv('../../data/y_val.csv')"
   ]
  },
  {
   "cell_type": "code",
   "execution_count": null,
   "metadata": {},
   "outputs": [],
   "source": [
    "# copy the data\n",
    "y_train_binary = y_train.copy()\n",
    "\n",
    "# map values to 'intervene' and 'no_intervene'\n",
    "y_train_binary.replace({'Pass': 'no_intervene', 'Distinction': 'no_intervene',\n",
    "                        'Withdrawn': 'intervene', 'Fail': 'intervene'}, inplace=True)\n",
    "\n",
    "y_test_binary = y_test.copy()\n",
    "y_test_binary.replace({'Pass': 'no_intervene', 'Distinction': 'no_intervene',\n",
    "                        'Withdrawn': 'intervene', 'Fail': 'intervene'}, inplace=True)\n"
   ]
  }
 ],
 "metadata": {
  "language_info": {
   "name": "python"
  },
  "orig_nbformat": 4
 },
 "nbformat": 4,
 "nbformat_minor": 2
}
