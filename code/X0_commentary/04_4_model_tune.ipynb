{
 "cells": [
  {
   "attachments": {},
   "cell_type": "markdown",
   "metadata": {},
   "source": [
    "## Model tuning\n",
    "\n",
    "This notebook details the process of tuning the model. \n",
    "\n",
    "From this point forward, I will be modeling with a few to predicting a binary outcome - 'intervene' or 'not_intervene' and only use the 'transformed' data - that is, I will not be looking at the PCA dataset."
   ]
  },
  {
   "attachments": {},
   "cell_type": "markdown",
   "metadata": {},
   "source": [
    "### Import libraries and datasets"
   ]
  },
  {
   "cell_type": "code",
   "execution_count": 1,
   "metadata": {},
   "outputs": [],
   "source": [
    "import pandas as pd\n",
    "\n",
    "X_train_transformed = pd.read_csv('../../data/X_train_transformed.csv')\n",
    "#X_test_transformed = pd.read_csv('../../data/X_test_transformed.csv')\n",
    "X_val_transformed = pd.read_csv('../../data/X_val_transformed.csv')\n",
    "#X_train_pca = pd.read_csv('../../data/X_train_pca.csv')\n",
    "#X_test_pca = pd.read_csv('../../data/X_test_pca.csv')\n",
    "#X_val_pca = pd.read_csv('../../data/X_val_pca.csv')\n",
    "\n",
    "\n",
    "y_train = pd.read_csv('../../data/y_train.csv')\n",
    "#y_test = pd.read_csv('../../data/y_test.csv')\n",
    "y_val = pd.read_csv('../../data/y_val.csv')"
   ]
  },
  {
   "attachments": {},
   "cell_type": "markdown",
   "metadata": {},
   "source": [
    "#### Refactoring the 'final_result' target variable"
   ]
  },
  {
   "cell_type": "code",
   "execution_count": 2,
   "metadata": {},
   "outputs": [],
   "source": [
    "# copy the data\n",
    "y_train_binary = y_train.copy()\n",
    "\n",
    "# map values to 'intervene' and 'no_intervene'\n",
    "y_train_binary.replace({'Pass': 'no_intervene', 'Distinction': 'no_intervene',\n",
    "                        'Withdrawn': 'intervene', 'Fail': 'intervene'}, inplace=True)\n",
    "\n",
    "y_val_binary = y_val.copy()\n",
    "y_val_binary.replace({'Pass': 'no_intervene', 'Distinction': 'no_intervene',\n",
    "                        'Withdrawn': 'intervene', 'Fail': 'intervene'}, inplace=True)\n"
   ]
  },
  {
   "attachments": {},
   "cell_type": "markdown",
   "metadata": {},
   "source": [
    "### Hyperparameter tuning\n",
    "\n",
    "Because I have a validation set, I have decided to use the validation set to tune the hyperparameters of the model.\n",
    "\n",
    "In future analyses, I will use cross-validation to tune the hyperparameters to make the analysis more robust but for this initial modelling, I will use the validation set."
   ]
  },
  {
   "cell_type": "code",
   "execution_count": 12,
   "metadata": {},
   "outputs": [
    {
     "name": "stdout",
     "output_type": "stream",
     "text": [
      "Model: LR\n"
     ]
    },
    {
     "name": "stderr",
     "output_type": "stream",
     "text": [
      "c:\\Users\\zoona\\AppData\\Local\\Programs\\Python\\Python311\\Lib\\site-packages\\sklearn\\model_selection\\_validation.py:378: FitFailedWarning: \n",
      "20 fits failed out of a total of 40.\n",
      "The score on these train-test partitions for these parameters will be set to nan.\n",
      "If these failures are not expected, you can try to debug them by setting error_score='raise'.\n",
      "\n",
      "Below are more details about the failures:\n",
      "--------------------------------------------------------------------------------\n",
      "20 fits failed with the following error:\n",
      "Traceback (most recent call last):\n",
      "  File \"c:\\Users\\zoona\\AppData\\Local\\Programs\\Python\\Python311\\Lib\\site-packages\\sklearn\\model_selection\\_validation.py\", line 686, in _fit_and_score\n",
      "    estimator.fit(X_train, y_train, **fit_params)\n",
      "  File \"c:\\Users\\zoona\\AppData\\Local\\Programs\\Python\\Python311\\Lib\\site-packages\\sklearn\\linear_model\\_logistic.py\", line 1162, in fit\n",
      "    solver = _check_solver(self.solver, self.penalty, self.dual)\n",
      "             ^^^^^^^^^^^^^^^^^^^^^^^^^^^^^^^^^^^^^^^^^^^^^^^^^^^\n",
      "  File \"c:\\Users\\zoona\\AppData\\Local\\Programs\\Python\\Python311\\Lib\\site-packages\\sklearn\\linear_model\\_logistic.py\", line 54, in _check_solver\n",
      "    raise ValueError(\n",
      "ValueError: Solver lbfgs supports only 'l2' or 'none' penalties, got l1 penalty.\n",
      "\n",
      "  warnings.warn(some_fits_failed_message, FitFailedWarning)\n",
      "c:\\Users\\zoona\\AppData\\Local\\Programs\\Python\\Python311\\Lib\\site-packages\\sklearn\\model_selection\\_search.py:952: UserWarning: One or more of the test scores are non-finite: [       nan 0.9186682         nan 0.9188803         nan 0.91903939\n",
      "        nan 0.91898637]\n",
      "  warnings.warn(\n"
     ]
    },
    {
     "name": "stdout",
     "output_type": "stream",
     "text": [
      "Best Parameters: {'C': 10.0, 'penalty': 'l2'}\n",
      "Best Score: 0.9190393933116898\n",
      "Validation Set Accuracy: 0.9185750636132316\n",
      "\n",
      "Model: DT\n",
      "Best Parameters: {'max_depth': 10, 'min_samples_leaf': 1, 'min_samples_split': 2}\n",
      "Best Score: 0.9235461456759095\n",
      "Validation Set Accuracy: 0.9215966921119593\n",
      "\n",
      "Model: RF\n",
      "Best Parameters: {'max_depth': None, 'min_samples_leaf': 1, 'min_samples_split': 10, 'n_estimators': 300}\n",
      "Best Score: 0.9335135734479989\n",
      "Validation Set Accuracy: 0.9328880407124682\n",
      "\n",
      "Model: SVC\n",
      "Best Parameters: {'C': 10.0, 'gamma': 'scale', 'kernel': 'rbf'}\n",
      "Best Score: 0.9241295171165105\n",
      "Validation Set Accuracy: 0.9243002544529262\n",
      "\n",
      "Model: KNN\n",
      "Best Parameters: {'metric': 'manhattan', 'n_neighbors': 7, 'weights': 'uniform'}\n",
      "Best Score: 0.9233869664432135\n",
      "Validation Set Accuracy: 0.9225508905852418\n",
      "\n",
      "Model: GNB\n",
      "Best Parameters: {}\n",
      "Best Score: 0.9120402148547235\n",
      "Validation Set Accuracy: 0.9134860050890585\n",
      "\n"
     ]
    }
   ],
   "source": [
    "from sklearn.ensemble import VotingClassifier\n",
    "from sklearn.tree import DecisionTreeClassifier\n",
    "from sklearn.neighbors import KNeighborsClassifier\n",
    "from sklearn.svm import SVC\n",
    "from sklearn.naive_bayes import GaussianNB\n",
    "from sklearn.ensemble import RandomForestClassifier\n",
    "from sklearn.linear_model import LogisticRegression\n",
    "from sklearn.model_selection import cross_val_score, RepeatedStratifiedKFold, GridSearchCV, StratifiedKFold\n",
    "from sklearn.metrics import accuracy_score\n",
    "from matplotlib import pyplot as plt\n",
    "\n",
    "\n",
    "# hyperparameter grid for each model\n",
    "lr_param_grid = {'C': [0.1, 1.0, 10.0, 100], 'penalty': ['l1', 'l2']}\n",
    "dt_param_grid = {'max_depth': [None, 2, 5, 10], 'min_samples_split': [2, 5, 10], 'min_samples_leaf': [1, 2, 4]}\n",
    "rf_param_grid = {'n_estimators': [10, 50, 100, 200, 300], 'max_depth': [None, 2, 5, 10], 'min_samples_split': [2, 5, 10], 'min_samples_leaf': [1, 2, 4]}\n",
    "svc_param_grid = {'C': [0.1, 1.0, 10.0], 'kernel': ['linear', 'poly', 'rbf'], 'gamma': ['scale', 'auto']}\n",
    "knn_param_grid = {'n_neighbors': [3, 5, 7], 'weights': ['uniform', 'distance'], 'metric': ['euclidean', 'manhattan']}\n",
    "gnb_param_grid = {}  # GaussianNB has no hyperparameters\n",
    "\n",
    "# models and their parameter grids\n",
    "models = [\n",
    "    ('LR', LogisticRegression(max_iter=10000), lr_param_grid),\n",
    "    ('DT', DecisionTreeClassifier(), dt_param_grid),\n",
    "    ('RF', RandomForestClassifier(), rf_param_grid),\n",
    "    ('SVC', SVC(), svc_param_grid),\n",
    "    ('KNN', KNeighborsClassifier(), knn_param_grid),\n",
    "    ('GNB', GaussianNB(), gnb_param_grid)\n",
    "]\n",
    "\n",
    "# number of folds for k-fold cross-validation\n",
    "n_folds = 5\n",
    "\n",
    "# hyperparameter tuning and cross-validation for each model\n",
    "accuracies = []\n",
    "model_names = []\n",
    "best_models = {}  \n",
    "\n",
    "# hyperparameter tuning and cross-validation for each model\n",
    "for model_name, model, param_grid in models:\n",
    "    print(f\"Model: {model_name}\")\n",
    "    grid_search = GridSearchCV(model, param_grid, cv=StratifiedKFold(n_splits=n_folds, shuffle=True), scoring='accuracy')\n",
    "    grid_search.fit(X_train_transformed, y_train_binary.values.ravel())  \n",
    "    print(\"Best Parameters:\", grid_search.best_params_)\n",
    "    print(\"Best Score:\", grid_search.best_score_)\n",
    "    \n",
    "    # evaluate the model on the separate validation set\n",
    "    best_model = grid_search.best_estimator_\n",
    "    y_pred = best_model.predict(X_val_transformed)\n",
    "    accuracy = accuracy_score(y_val_binary, y_pred)\n",
    "    accuracies.append(accuracy)\n",
    "    model_names.append(model_name)\n",
    "    print(\"Validation Set Accuracy:\", accuracy)\n",
    "\n",
    "    # save the best model from each classifier\n",
    "    best_models[model_name] = best_model\n",
    "\n",
    "    print()\n"
   ]
  },
  {
   "cell_type": "code",
   "execution_count": 13,
   "metadata": {},
   "outputs": [
    {
     "name": "stdout",
     "output_type": "stream",
     "text": [
      "['LR', 'DT', 'RF', 'SVC', 'KNN', 'GNB']\n",
      "[0.9185750636132316, 0.9215966921119593, 0.9328880407124682, 0.9243002544529262, 0.9225508905852418, 0.9134860050890585]\n"
     ]
    }
   ],
   "source": [
    "print(model_names)\n",
    "print(accuracies)"
   ]
  },
  {
   "cell_type": "code",
   "execution_count": 14,
   "metadata": {},
   "outputs": [
    {
     "data": {
      "image/png": "[encoded data removed]",
      "text/plain": [
       "<Figure size 800x600 with 1 Axes>"
      ]
     },
     "metadata": {},
     "output_type": "display_data"
    }
   ],
   "source": [
    "\n",
    "# plotting the accuracies\n",
    "plt.figure(figsize=(8, 6))\n",
    "plt.bar(model_names, accuracies)\n",
    "plt.xlabel('Models')\n",
    "plt.ylabel('Accuracy')\n",
    "plt.title('Validation Set Accuracies')\n",
    "plt.ylim([0, 1])\n",
    "plt.show()\n"
   ]
  },
  {
   "cell_type": "code",
   "execution_count": null,
   "metadata": {},
   "outputs": [],
   "source": [
    "# Create the ensemble model using the best models\n",
    "ensemble_models = [('DT', best_models['DT']),\n",
    "                   ('LR', best_models['LR']),\n",
    "                   ('RF', best_models['RF']),\n",
    "                   ('SVC', best_models['SVC']),\n",
    "                   ('KNN', best_models['KNN']),\n",
    "                   ('GNB', best_models['GNB'])]\n",
    "                   \n",
    "\n",
    "ensemble = VotingClassifier(estimators=ensemble_models, voting='soft', weights=[1, 2, 1, 1, 2])\n",
    "\n",
    "# Fit the ensemble model to the training data\n",
    "ensemble.fit(X_train_transformed, y_train_binary.values.ravel())\n",
    "\n",
    "# Evaluate the ensemble model on the validation set\n",
    "y_pred_ensemble = ensemble.predict(X_val_transformed)\n",
    "accuracy_ensemble = accuracy_score(y_val_binary, y_pred_ensemble)\n",
    "print(\"Ensemble Model Accuracy:\", accuracy_ensemble)"
   ]
  },
  {
   "attachments": {},
   "cell_type": "markdown",
   "metadata": {},
   "source": []
  },
  {
   "cell_type": "code",
   "execution_count": null,
   "metadata": {},
   "outputs": [],
   "source": []
  },
  {
   "attachments": {},
   "cell_type": "markdown",
   "metadata": {},
   "source": []
  },
  {
   "cell_type": "code",
   "execution_count": null,
   "metadata": {},
   "outputs": [],
   "source": [
    "# Create the ensemble model using the best models\n",
    "ensemble_models = [('DT', best_dt_model),\n",
    "                   ('Knn', best_knn_model),\n",
    "                   ('svm1', best_svm1_model),\n",
    "                   ('svm2', best_svm2_model),\n",
    "                   ('RF', best_rf_model)]\n",
    "\n",
    "ensemble = VotingClassifier(estimators=ensemble_models, voting='soft', weights=[1, 2, 1, 1, 2])\n",
    "\n",
    "# Fit the ensemble model to the training data\n",
    "ensemble.fit(X_train_transformed, y_train_binary.values.ravel())\n",
    "\n",
    "# Evaluate the ensemble model on the validation set\n",
    "y_pred_ensemble = ensemble.predict(X_val_transformed)\n",
    "accuracy_ensemble = accuracy_score(y_val_binary, y_pred_ensemble)\n",
    "print(\"Ensemble Model Accuracy:\", accuracy_ensemble)\n"
   ]
  },
  {
   "attachments": {},
   "cell_type": "markdown",
   "metadata": {},
   "source": []
  },
  {
   "attachments": {},
   "cell_type": "markdown",
   "metadata": {},
   "source": [
    "Using modified code from class..."
   ]
  },
  {
   "cell_type": "code",
   "execution_count": null,
   "metadata": {},
   "outputs": [],
   "source": [
    "\n",
    "from sklearn.ensemble import VotingClassifier\n",
    "from sklearn.tree import DecisionTreeClassifier\n",
    "from sklearn.neighbors import KNeighborsClassifier\n",
    "from sklearn.svm import SVC\n",
    "from sklearn.ensemble import RandomForestClassifier\n",
    "from sklearn.model_selection import cross_val_score, RepeatedStratifiedKFold\n",
    "\n",
    "# get a voting ensemble of models\n",
    "def get_voting():\n",
    "    # define the base models\n",
    "    models = list()\n",
    "    models.append(('DT', DecisionTreeClassifier(max_depth=4)))\n",
    "    models.append(('Knn', KNeighborsClassifier(n_neighbors=7)))\n",
    "    models.append(('svm1', SVC(gamma=.1, kernel='rbf', probability=True)))\n",
    "    models.append(('svm2', SVC(probability=True, kernel='poly', degree=1)))\n",
    "    models.append(('RF', RandomForestClassifier(n_estimators=100)))\n",
    "    # define the voting ensemble\n",
    "    ensemble = VotingClassifier(estimators=models, voting='soft', weights=[1, 2, 1, 1, 2])\n",
    "    return ensemble\n",
    "\n",
    "# get a list of models to evaluate\n",
    "def get_models():\n",
    "    models = dict()\n",
    "    models['DT'] = DecisionTreeClassifier(max_depth=4)\n",
    "    models['Knn'] = KNeighborsClassifier(n_neighbors=7)\n",
    "    models['svm1'] = SVC(gamma=.1, kernel='rbf', probability=True)\n",
    "    models['svm2'] = SVC(probability=True, kernel='poly', degree=1)\n",
    "    models['RF'] = RandomForestClassifier(n_estimators=100)\n",
    "\n",
    "    models['soft_voting'] = get_voting()\n",
    "    return models\n",
    "\n",
    "# evaluate a given model using cross-validation.\n",
    "# Note that evaluation is done with a stratified cross-validation (and repeated, 3 times here).\n",
    "def evaluate_model(model, X, y):\n",
    "    cv = RepeatedStratifiedKFold(n_splits=10, n_repeats=3, random_state=1)\n",
    "    scores = cross_val_score(model, X, y, scoring='accuracy', cv=cv, error_score='raise')\n",
    "    return scores\n"
   ]
  },
  {
   "cell_type": "code",
   "execution_count": null,
   "metadata": {},
   "outputs": [],
   "source": [
    "\n",
    "# using the provided train and validate data\n",
    "X_train = X_train_transformed\n",
    "X_val = X_val_transformed\n",
    "y_train = y_train_binary.ravel()  # reshape y_train using ravel()\n",
    "y_val = y_val_binary.ravel()  # reshape y_val using ravel()\n",
    "\n",
    "# models to evaluate\n",
    "models = get_models()\n",
    "\n",
    "# evaluate each model\n",
    "for name, model in models.items():\n",
    "    scores = evaluate_model(model, X_train, y_train)\n",
    "    print(f'{name}: Accuracy: {scores.mean():.3f}, Std: {scores.std():.3f}')\n",
    "\n",
    "\n"
   ]
  },
  {
   "cell_type": "code",
   "execution_count": null,
   "metadata": {},
   "outputs": [],
   "source": []
  }
 ],
 "metadata": {
  "kernelspec": {
   "display_name": "Python 3",
   "language": "python",
   "name": "python3"
  },
  "language_info": {
   "codemirror_mode": {
    "name": "ipython",
    "version": 3
   },
   "file_extension": ".py",
   "mimetype": "text/x-python",
   "name": "python",
   "nbconvert_exporter": "python",
   "pygments_lexer": "ipython3",
   "version": "3.11.0"
  },
  "orig_nbformat": 4
 },
 "nbformat": 4,
 "nbformat_minor": 2
}
