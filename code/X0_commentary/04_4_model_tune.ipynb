{
 "cells": [
  {
   "attachments": {},
   "cell_type": "markdown",
   "metadata": {},
   "source": [
    "## Model tuning\n",
    "\n",
    "This notebook details the process of tuning the model. \n",
    "\n",
    "From this point forward, I will be modeling with a few to predicting a binary outcome - 'intervene' or 'not_intervene' and only use the 'transformed' data - that is, I will not be looking at the PCA dataset."
   ]
  },
  {
   "attachments": {},
   "cell_type": "markdown",
   "metadata": {},
   "source": [
    "### Import libraries and datasets"
   ]
  },
  {
   "cell_type": "code",
   "execution_count": 1,
   "metadata": {},
   "outputs": [],
   "source": [
    "import pandas as pd\n",
    "\n",
    "X_train_transformed = pd.read_csv('../../data/X_train_transformed.csv')\n",
    "#X_test_transformed = pd.read_csv('../../data/X_test_transformed.csv')\n",
    "X_val_transformed = pd.read_csv('../../data/X_val_transformed.csv')\n",
    "#X_train_pca = pd.read_csv('../../data/X_train_pca.csv')\n",
    "#X_test_pca = pd.read_csv('../../data/X_test_pca.csv')\n",
    "#X_val_pca = pd.read_csv('../../data/X_val_pca.csv')\n",
    "\n",
    "\n",
    "y_train = pd.read_csv('../../data/y_train.csv')\n",
    "#y_test = pd.read_csv('../../data/y_test.csv')\n",
    "y_val = pd.read_csv('../../data/y_val.csv')"
   ]
  },
  {
   "attachments": {},
   "cell_type": "markdown",
   "metadata": {},
   "source": [
    "#### Refactoring the 'final_result' target variable"
   ]
  },
  {
   "cell_type": "code",
   "execution_count": 2,
   "metadata": {},
   "outputs": [],
   "source": [
    "# copy the data\n",
    "y_train_binary = y_train.copy()\n",
    "\n",
    "# map values to 'intervene' and 'no_intervene'\n",
    "y_train_binary.replace({'Pass': 'no_intervene', 'Distinction': 'no_intervene',\n",
    "                        'Withdrawn': 'intervene', 'Fail': 'intervene'}, inplace=True)\n",
    "\n",
    "y_val_binary = y_val.copy()\n",
    "y_val_binary.replace({'Pass': 'no_intervene', 'Distinction': 'no_intervene',\n",
    "                        'Withdrawn': 'intervene', 'Fail': 'intervene'}, inplace=True)\n"
   ]
  },
  {
   "attachments": {},
   "cell_type": "markdown",
   "metadata": {},
   "source": [
    "### Hyperparameter tuning\n",
    "\n",
    "Because I have a validation set, I have decided to use the validation set to tune the hyperparameters of the model.\n",
    "\n",
    "In future analyses, I will use cross-validation to tune the hyperparameters to make the analysis more robust but for this initial modelling, I will use the validation set."
   ]
  },
  {
   "cell_type": "code",
   "execution_count": 15,
   "metadata": {},
   "outputs": [
    {
     "name": "stdout",
     "output_type": "stream",
     "text": [
      "Model: LR\n"
     ]
    },
    {
     "name": "stderr",
     "output_type": "stream",
     "text": [
      "c:\\Users\\zoona\\AppData\\Local\\Programs\\Python\\Python311\\Lib\\site-packages\\sklearn\\model_selection\\_validation.py:378: FitFailedWarning: \n",
      "20 fits failed out of a total of 40.\n",
      "The score on these train-test partitions for these parameters will be set to nan.\n",
      "If these failures are not expected, you can try to debug them by setting error_score='raise'.\n",
      "\n",
      "Below are more details about the failures:\n",
      "--------------------------------------------------------------------------------\n",
      "20 fits failed with the following error:\n",
      "Traceback (most recent call last):\n",
      "  File \"c:\\Users\\zoona\\AppData\\Local\\Programs\\Python\\Python311\\Lib\\site-packages\\sklearn\\model_selection\\_validation.py\", line 686, in _fit_and_score\n",
      "    estimator.fit(X_train, y_train, **fit_params)\n",
      "  File \"c:\\Users\\zoona\\AppData\\Local\\Programs\\Python\\Python311\\Lib\\site-packages\\sklearn\\linear_model\\_logistic.py\", line 1162, in fit\n",
      "    solver = _check_solver(self.solver, self.penalty, self.dual)\n",
      "             ^^^^^^^^^^^^^^^^^^^^^^^^^^^^^^^^^^^^^^^^^^^^^^^^^^^\n",
      "  File \"c:\\Users\\zoona\\AppData\\Local\\Programs\\Python\\Python311\\Lib\\site-packages\\sklearn\\linear_model\\_logistic.py\", line 54, in _check_solver\n",
      "    raise ValueError(\n",
      "ValueError: Solver lbfgs supports only 'l2' or 'none' penalties, got l1 penalty.\n",
      "\n",
      "  warnings.warn(some_fits_failed_message, FitFailedWarning)\n",
      "c:\\Users\\zoona\\AppData\\Local\\Programs\\Python\\Python311\\Lib\\site-packages\\sklearn\\model_selection\\_search.py:952: UserWarning: One or more of the test scores are non-finite: [       nan 0.91925152        nan 0.91888038        nan 0.9189864\n",
      "        nan 0.91893339]\n",
      "  warnings.warn(\n"
     ]
    },
    {
     "name": "stdout",
     "output_type": "stream",
     "text": [
      "Best Parameters: {'C': 0.1, 'penalty': 'l2'}\n",
      "Best Score: 0.919251524548341\n",
      "Validation Set Accuracy: 0.9184160305343512\n",
      "\n",
      "Model: DT\n",
      "Best Parameters: {'max_depth': 10, 'min_samples_leaf': 4, 'min_samples_split': 2}\n",
      "Best Score: 0.923545878667397\n",
      "Validation Set Accuracy: 0.9184160305343512\n",
      "\n",
      "Model: RF\n",
      "Best Parameters: {'max_depth': None, 'min_samples_leaf': 1, 'min_samples_split': 10, 'n_estimators': 50}\n",
      "Best Score: 0.933725648472332\n",
      "Validation Set Accuracy: 0.9320928753180662\n",
      "\n",
      "Model: SVC\n",
      "Best Parameters: {'C': 10.0, 'gamma': 'scale', 'kernel': 'rbf'}\n",
      "Best Score: 0.9245002514095942\n",
      "Validation Set Accuracy: 0.9243002544529262\n",
      "\n",
      "Model: KNN\n",
      "Best Parameters: {'metric': 'manhattan', 'n_neighbors': 7, 'weights': 'distance'}\n",
      "Best Score: 0.923068959304811\n",
      "Validation Set Accuracy: 0.9212786259541985\n",
      "\n",
      "Model: GNB\n",
      "Best Parameters: {}\n",
      "Best Score: 0.9120407348186689\n",
      "Validation Set Accuracy: 0.9134860050890585\n",
      "\n"
     ]
    }
   ],
   "source": [
    "from sklearn.ensemble import VotingClassifier\n",
    "from sklearn.tree import DecisionTreeClassifier\n",
    "from sklearn.neighbors import KNeighborsClassifier\n",
    "from sklearn.svm import SVC\n",
    "from sklearn.naive_bayes import GaussianNB\n",
    "from sklearn.ensemble import RandomForestClassifier\n",
    "from sklearn.linear_model import LogisticRegression\n",
    "from sklearn.model_selection import cross_val_score, RepeatedStratifiedKFold, GridSearchCV, StratifiedKFold\n",
    "from sklearn.metrics import accuracy_score\n",
    "from matplotlib import pyplot as plt\n",
    "\n",
    "\n",
    "# hyperparameter grid for each model\n",
    "lr_param_grid = {'C': [0.1, 1.0, 10.0, 100], 'penalty': ['l1', 'l2']}\n",
    "dt_param_grid = {'max_depth': [None, 2, 5, 10], 'min_samples_split': [2, 5, 10], 'min_samples_leaf': [1, 2, 4]}\n",
    "rf_param_grid = {'n_estimators': [10, 50, 100, 200, 300], 'max_depth': [None, 2, 5, 10], 'min_samples_split': [2, 5, 10], 'min_samples_leaf': [1, 2, 4]}\n",
    "svc_param_grid = {'C': [0.1, 1.0, 10.0], 'kernel': ['linear', 'poly', 'rbf'], 'gamma': ['scale', 'auto']}\n",
    "knn_param_grid = {'n_neighbors': [3, 5, 7], 'weights': ['uniform', 'distance'], 'metric': ['euclidean', 'manhattan']}\n",
    "gnb_param_grid = {}  # GaussianNB has no hyperparameters\n",
    "\n",
    "# models and their parameter grids\n",
    "models = [\n",
    "    ('LR', LogisticRegression(max_iter=10000), lr_param_grid),\n",
    "    ('DT', DecisionTreeClassifier(), dt_param_grid),\n",
    "    ('RF', RandomForestClassifier(), rf_param_grid),\n",
    "    ('SVC', SVC(), svc_param_grid),\n",
    "    ('KNN', KNeighborsClassifier(), knn_param_grid),\n",
    "    ('GNB', GaussianNB(), gnb_param_grid)\n",
    "]\n",
    "\n",
    "# number of folds for k-fold cross-validation\n",
    "n_folds = 5\n",
    "\n",
    "# hyperparameter tuning and cross-validation for each model\n",
    "accuracies = []\n",
    "model_names = []\n",
    "best_models = {}  \n",
    "\n",
    "# hyperparameter tuning and cross-validation for each model\n",
    "for model_name, model, param_grid in models:\n",
    "    print(f\"Model: {model_name}\")\n",
    "    grid_search = GridSearchCV(model, param_grid, cv=StratifiedKFold(n_splits=n_folds, shuffle=True), scoring='accuracy')\n",
    "    grid_search.fit(X_train_transformed, y_train_binary.values.ravel())  \n",
    "    print(\"Best Parameters:\", grid_search.best_params_)\n",
    "    print(\"Best Score:\", grid_search.best_score_)\n",
    "    \n",
    "    # evaluate the model on the separate validation set\n",
    "    best_model = grid_search.best_estimator_\n",
    "    y_pred = best_model.predict(X_val_transformed)\n",
    "    accuracy = accuracy_score(y_val_binary, y_pred)\n",
    "    accuracies.append(accuracy)\n",
    "    model_names.append(model_name)\n",
    "    print(\"Validation Set Accuracy:\", accuracy)\n",
    "\n",
    "    # save the best model from each classifier\n",
    "    best_models[model_name] = best_model\n",
    "\n",
    "    print()\n"
   ]
  },
  {
   "cell_type": "code",
   "execution_count": 16,
   "metadata": {},
   "outputs": [
    {
     "name": "stdout",
     "output_type": "stream",
     "text": [
      "['LR', 'DT', 'RF', 'SVC', 'KNN', 'GNB']\n",
      "[0.9184160305343512, 0.9184160305343512, 0.9320928753180662, 0.9243002544529262, 0.9212786259541985, 0.9134860050890585]\n"
     ]
    }
   ],
   "source": [
    "print(model_names)\n",
    "print(accuracies)"
   ]
  },
  {
   "cell_type": "code",
   "execution_count": 17,
   "metadata": {},
   "outputs": [
    {
     "data": {
      "image/png": "[encoded data removed]",
      "text/plain": [
       "<Figure size 800x600 with 1 Axes>"
      ]
     },
     "metadata": {},
     "output_type": "display_data"
    }
   ],
   "source": [
    "\n",
    "# plotting the accuracies\n",
    "plt.figure(figsize=(8, 6))\n",
    "plt.bar(model_names, accuracies)\n",
    "plt.xlabel('Models')\n",
    "plt.ylabel('Accuracy')\n",
    "plt.title('Validation Set Accuracies')\n",
    "plt.ylim([0, 1])\n",
    "plt.show()\n"
   ]
  },
  {
   "attachments": {},
   "cell_type": "markdown",
   "metadata": {},
   "source": [
    "### Ensemble model from the best performing models"
   ]
  },
  {
   "attachments": {},
   "cell_type": "markdown",
   "metadata": {},
   "source": [
    "#### Voting classifier - Soft voting"
   ]
  },
  {
   "cell_type": "code",
   "execution_count": 28,
   "metadata": {},
   "outputs": [
    {
     "name": "stdout",
     "output_type": "stream",
     "text": [
      "Ensemble Model Accuracy: 0.9257315521628499\n"
     ]
    }
   ],
   "source": [
    "# modify to probability True\n",
    "\n",
    "best_models['SVC'].set_params(probability=True)\n",
    "\n",
    "\n",
    "# ensemble model using the best models\n",
    "ensemble_models = [('DT', best_models['DT']),\n",
    "                   ('LR', best_models['LR']),\n",
    "                   ('RF', best_models['RF']),\n",
    "                   ('SVC', best_models['SVC']),\n",
    "                   ('KNN', best_models['KNN']),\n",
    "                   ('GNB', best_models['GNB'])]\n",
    "                   \n",
    "\n",
    "ensemble = VotingClassifier(estimators=ensemble_models, voting='soft', weights=[1, 1, 3, 2, 2, 1])\n",
    "\n",
    "# fit the ensemble model \n",
    "ensemble.fit(X_train_transformed, y_train_binary.values.ravel())\n",
    "\n",
    "# evaluate the ensemble model on the validation set\n",
    "y_pred_ensemble = ensemble.predict(X_val_transformed)\n",
    "accuracy_ensemble = accuracy_score(y_val_binary, y_pred_ensemble)\n",
    "print(\"Ensemble Model Accuracy:\", accuracy_ensemble)"
   ]
  },
  {
   "attachments": {},
   "cell_type": "markdown",
   "metadata": {},
   "source": [
    "#### Voting classifier - Hard voting"
   ]
  },
  {
   "cell_type": "code",
   "execution_count": 29,
   "metadata": {},
   "outputs": [
    {
     "name": "stdout",
     "output_type": "stream",
     "text": [
      "Ensemble Model Accuracy: 0.9274809160305344\n"
     ]
    }
   ],
   "source": [
    "from sklearn.ensemble import VotingClassifier\n",
    "from sklearn.tree import DecisionTreeClassifier\n",
    "from sklearn.neighbors import KNeighborsClassifier\n",
    "from sklearn.svm import SVC\n",
    "from sklearn.naive_bayes import GaussianNB\n",
    "from sklearn.ensemble import RandomForestClassifier\n",
    "from sklearn.linear_model import LogisticRegression\n",
    "from sklearn.model_selection import cross_val_score, GridSearchCV\n",
    "from sklearn.metrics import accuracy_score\n",
    "\n",
    "# ensemble model using the best models\n",
    "ensemble_models = [('DT', best_models['DT']),\n",
    "                   ('LR', best_models['LR']),\n",
    "                   ('RF', best_models['RF']),\n",
    "                   ('SVC', best_models['SVC']),\n",
    "                   ('KNN', best_models['KNN']),\n",
    "                   ('GNB', best_models['GNB'])]\n",
    "\n",
    "ensemble = VotingClassifier(estimators=ensemble_models, voting='hard')\n",
    "\n",
    "# fit the ensemble model\n",
    "ensemble.fit(X_train_transformed, y_train_binary.values.ravel())\n",
    "\n",
    "# evaluate the ensemble model on the validation set\n",
    "y_pred_ensemble = ensemble.predict(X_val_transformed)\n",
    "accuracy_ensemble = accuracy_score(y_val_binary, y_pred_ensemble)\n",
    "print(\"Ensemble Model Accuracy:\", accuracy_ensemble)\n"
   ]
  },
  {
   "attachments": {},
   "cell_type": "markdown",
   "metadata": {},
   "source": [
    "### Stacking Classifier\n",
    "\n"
   ]
  },
  {
   "cell_type": "code",
   "execution_count": 30,
   "metadata": {},
   "outputs": [
    {
     "name": "stdout",
     "output_type": "stream",
     "text": [
      "Stacking Classifier Accuracy: 0.9317748091603053\n"
     ]
    }
   ],
   "source": [
    "from sklearn.ensemble import StackingClassifier\n",
    "from sklearn.linear_model import LogisticRegression\n",
    "from sklearn.tree import DecisionTreeClassifier\n",
    "from sklearn.ensemble import RandomForestClassifier\n",
    "from sklearn.svm import SVC\n",
    "from sklearn.neighbors import KNeighborsClassifier\n",
    "from sklearn.naive_bayes import GaussianNB\n",
    "\n",
    "# base models\n",
    "base_models = [\n",
    "    ('DT', DecisionTreeClassifier()),\n",
    "    ('LR', LogisticRegression(max_iter=10000)),\n",
    "    ('RF', RandomForestClassifier()),\n",
    "    ('SVC', SVC()),\n",
    "    ('KNN', KNeighborsClassifier()),\n",
    "    ('GNB', GaussianNB())\n",
    "]\n",
    "\n",
    "# meta-classifier\n",
    "meta_model = LogisticRegression(max_iter=10000)\n",
    "\n",
    "stacking_classifier = StackingClassifier(estimators=base_models, final_estimator=meta_model, cv=5)\n",
    "\n",
    "# fit the stacking classifier\n",
    "stacking_classifier.fit(X_train_transformed, y_train_binary.values.ravel())\n",
    "\n",
    "# evaluate the stacking classifier on the validation set\n",
    "y_pred_stacking = stacking_classifier.predict(X_val_transformed)\n",
    "accuracy_stacking = accuracy_score(y_val_binary, y_pred_stacking)\n",
    "print(\"Stacking Classifier Accuracy:\", accuracy_stacking)\n",
    "\n"
   ]
  },
  {
   "attachments": {},
   "cell_type": "markdown",
   "metadata": {},
   "source": [
    "#### Decision boundary plotting\n",
    "\n",
    "been fighting this for hours - another day, another time."
   ]
  },
  {
   "cell_type": "code",
   "execution_count": 87,
   "metadata": {},
   "outputs": [
    {
     "name": "stderr",
     "output_type": "stream",
     "text": [
      "c:\\Users\\zoona\\AppData\\Local\\Programs\\Python\\Python311\\Lib\\site-packages\\sklearn\\base.py:420: UserWarning: X does not have valid feature names, but LogisticRegression was fitted with feature names\n",
      "  warnings.warn(\n"
     ]
    },
    {
     "ename": "ValueError",
     "evalue": "could not convert string to float: 'intervene'",
     "output_type": "error",
     "traceback": [
      "\u001b[1;31m---------------------------------------------------------------------------\u001b[0m",
      "\u001b[1;31mValueError\u001b[0m                                Traceback (most recent call last)",
      "\u001b[1;32mc:\\Users\\zoona\\OneDrive - UWE Bristol\\Modules\\ML_CW\\Machine_Learning_Analytics\\code\\X0_commentary\\04_4_model_tune.ipynb Cell 18\u001b[0m in \u001b[0;36m4\n\u001b[0;32m     <a href='vscode-notebook-cell:/c%3A/Users/zoona/OneDrive%20-%20UWE%20Bristol/Modules/ML_CW/Machine_Learning_Analytics/code/X0_commentary/04_4_model_tune.ipynb#X41sZmlsZQ%3D%3D?line=41'>42</a>\u001b[0m Z \u001b[39m=\u001b[39m clf\u001b[39m.\u001b[39mpredict(np\u001b[39m.\u001b[39mc_[xx\u001b[39m.\u001b[39mravel(), yy\u001b[39m.\u001b[39mravel()])\n\u001b[0;32m     <a href='vscode-notebook-cell:/c%3A/Users/zoona/OneDrive%20-%20UWE%20Bristol/Modules/ML_CW/Machine_Learning_Analytics/code/X0_commentary/04_4_model_tune.ipynb#X41sZmlsZQ%3D%3D?line=42'>43</a>\u001b[0m Z \u001b[39m=\u001b[39m Z\u001b[39m.\u001b[39mreshape(xx\u001b[39m.\u001b[39mshape)\n\u001b[1;32m---> <a href='vscode-notebook-cell:/c%3A/Users/zoona/OneDrive%20-%20UWE%20Bristol/Modules/ML_CW/Machine_Learning_Analytics/code/X0_commentary/04_4_model_tune.ipynb#X41sZmlsZQ%3D%3D?line=44'>45</a>\u001b[0m axarr[row_idx, col_idx]\u001b[39m.\u001b[39;49mcontourf(xx, yy, Z, alpha\u001b[39m=\u001b[39;49m\u001b[39m0.4\u001b[39;49m)\n\u001b[0;32m     <a href='vscode-notebook-cell:/c%3A/Users/zoona/OneDrive%20-%20UWE%20Bristol/Modules/ML_CW/Machine_Learning_Analytics/code/X0_commentary/04_4_model_tune.ipynb#X41sZmlsZQ%3D%3D?line=45'>46</a>\u001b[0m axarr[row_idx, col_idx]\u001b[39m.\u001b[39mscatter(transformed_data[idx]\u001b[39m.\u001b[39miloc[:, \u001b[39m0\u001b[39m], transformed_data[idx]\u001b[39m.\u001b[39miloc[:, \u001b[39m1\u001b[39m],\n\u001b[0;32m     <a href='vscode-notebook-cell:/c%3A/Users/zoona/OneDrive%20-%20UWE%20Bristol/Modules/ML_CW/Machine_Learning_Analytics/code/X0_commentary/04_4_model_tune.ipynb#X41sZmlsZQ%3D%3D?line=46'>47</a>\u001b[0m                                 c\u001b[39m=\u001b[39my_train_binary, s\u001b[39m=\u001b[39m\u001b[39m20\u001b[39m, edgecolor\u001b[39m=\u001b[39m\u001b[39m'\u001b[39m\u001b[39mk\u001b[39m\u001b[39m'\u001b[39m)\n\u001b[0;32m     <a href='vscode-notebook-cell:/c%3A/Users/zoona/OneDrive%20-%20UWE%20Bristol/Modules/ML_CW/Machine_Learning_Analytics/code/X0_commentary/04_4_model_tune.ipynb#X41sZmlsZQ%3D%3D?line=47'>48</a>\u001b[0m axarr[row_idx, col_idx]\u001b[39m.\u001b[39mset_title(tt)\n",
      "File \u001b[1;32mc:\\Users\\zoona\\AppData\\Local\\Programs\\Python\\Python311\\Lib\\site-packages\\matplotlib\\__init__.py:1423\u001b[0m, in \u001b[0;36m_preprocess_data.<locals>.inner\u001b[1;34m(ax, data, *args, **kwargs)\u001b[0m\n\u001b[0;32m   1420\u001b[0m \u001b[39m@functools\u001b[39m\u001b[39m.\u001b[39mwraps(func)\n\u001b[0;32m   1421\u001b[0m \u001b[39mdef\u001b[39;00m \u001b[39minner\u001b[39m(ax, \u001b[39m*\u001b[39margs, data\u001b[39m=\u001b[39m\u001b[39mNone\u001b[39;00m, \u001b[39m*\u001b[39m\u001b[39m*\u001b[39mkwargs):\n\u001b[0;32m   1422\u001b[0m     \u001b[39mif\u001b[39;00m data \u001b[39mis\u001b[39;00m \u001b[39mNone\u001b[39;00m:\n\u001b[1;32m-> 1423\u001b[0m         \u001b[39mreturn\u001b[39;00m func(ax, \u001b[39m*\u001b[39;49m\u001b[39mmap\u001b[39;49m(sanitize_sequence, args), \u001b[39m*\u001b[39;49m\u001b[39m*\u001b[39;49mkwargs)\n\u001b[0;32m   1425\u001b[0m     bound \u001b[39m=\u001b[39m new_sig\u001b[39m.\u001b[39mbind(ax, \u001b[39m*\u001b[39margs, \u001b[39m*\u001b[39m\u001b[39m*\u001b[39mkwargs)\n\u001b[0;32m   1426\u001b[0m     auto_label \u001b[39m=\u001b[39m (bound\u001b[39m.\u001b[39marguments\u001b[39m.\u001b[39mget(label_namer)\n\u001b[0;32m   1427\u001b[0m                   \u001b[39mor\u001b[39;00m bound\u001b[39m.\u001b[39mkwargs\u001b[39m.\u001b[39mget(label_namer))\n",
      "File \u001b[1;32mc:\\Users\\zoona\\AppData\\Local\\Programs\\Python\\Python311\\Lib\\site-packages\\matplotlib\\axes\\_axes.py:6414\u001b[0m, in \u001b[0;36mAxes.contourf\u001b[1;34m(self, *args, **kwargs)\u001b[0m\n\u001b[0;32m   6405\u001b[0m \u001b[39m\"\"\"\u001b[39;00m\n\u001b[0;32m   6406\u001b[0m \u001b[39mPlot filled contours.\u001b[39;00m\n\u001b[0;32m   6407\u001b[0m \n\u001b[1;32m   (...)\u001b[0m\n\u001b[0;32m   6411\u001b[0m \u001b[39m%(contour_doc)s\u001b[39;00m\n\u001b[0;32m   6412\u001b[0m \u001b[39m\"\"\"\u001b[39;00m\n\u001b[0;32m   6413\u001b[0m kwargs[\u001b[39m'\u001b[39m\u001b[39mfilled\u001b[39m\u001b[39m'\u001b[39m] \u001b[39m=\u001b[39m \u001b[39mTrue\u001b[39;00m\n\u001b[1;32m-> 6414\u001b[0m contours \u001b[39m=\u001b[39m mcontour\u001b[39m.\u001b[39;49mQuadContourSet(\u001b[39mself\u001b[39;49m, \u001b[39m*\u001b[39;49margs, \u001b[39m*\u001b[39;49m\u001b[39m*\u001b[39;49mkwargs)\n\u001b[0;32m   6415\u001b[0m \u001b[39mself\u001b[39m\u001b[39m.\u001b[39m_request_autoscale_view()\n\u001b[0;32m   6416\u001b[0m \u001b[39mreturn\u001b[39;00m contours\n",
      "File \u001b[1;32mc:\\Users\\zoona\\AppData\\Local\\Programs\\Python\\Python311\\Lib\\site-packages\\matplotlib\\contour.py:794\u001b[0m, in \u001b[0;36mContourSet.__init__\u001b[1;34m(self, ax, levels, filled, linewidths, linestyles, hatches, alpha, origin, extent, cmap, colors, norm, vmin, vmax, extend, antialiased, nchunk, locator, transform, negative_linestyles, *args, **kwargs)\u001b[0m\n\u001b[0;32m    790\u001b[0m \u001b[39mif\u001b[39;00m \u001b[39mself\u001b[39m\u001b[39m.\u001b[39mnegative_linestyles \u001b[39mis\u001b[39;00m \u001b[39mNone\u001b[39;00m:\n\u001b[0;32m    791\u001b[0m     \u001b[39mself\u001b[39m\u001b[39m.\u001b[39mnegative_linestyles \u001b[39m=\u001b[39m \\\n\u001b[0;32m    792\u001b[0m         mpl\u001b[39m.\u001b[39mrcParams[\u001b[39m'\u001b[39m\u001b[39mcontour.negative_linestyle\u001b[39m\u001b[39m'\u001b[39m]\n\u001b[1;32m--> 794\u001b[0m kwargs \u001b[39m=\u001b[39m \u001b[39mself\u001b[39;49m\u001b[39m.\u001b[39;49m_process_args(\u001b[39m*\u001b[39;49margs, \u001b[39m*\u001b[39;49m\u001b[39m*\u001b[39;49mkwargs)\n\u001b[0;32m    795\u001b[0m \u001b[39mself\u001b[39m\u001b[39m.\u001b[39m_process_levels()\n\u001b[0;32m    797\u001b[0m \u001b[39mself\u001b[39m\u001b[39m.\u001b[39m_extend_min \u001b[39m=\u001b[39m \u001b[39mself\u001b[39m\u001b[39m.\u001b[39mextend \u001b[39min\u001b[39;00m [\u001b[39m'\u001b[39m\u001b[39mmin\u001b[39m\u001b[39m'\u001b[39m, \u001b[39m'\u001b[39m\u001b[39mboth\u001b[39m\u001b[39m'\u001b[39m]\n",
      "File \u001b[1;32mc:\\Users\\zoona\\AppData\\Local\\Programs\\Python\\Python311\\Lib\\site-packages\\matplotlib\\contour.py:1435\u001b[0m, in \u001b[0;36mQuadContourSet._process_args\u001b[1;34m(self, corner_mask, algorithm, *args, **kwargs)\u001b[0m\n\u001b[0;32m   1432\u001b[0m         corner_mask \u001b[39m=\u001b[39m mpl\u001b[39m.\u001b[39mrcParams[\u001b[39m'\u001b[39m\u001b[39mcontour.corner_mask\u001b[39m\u001b[39m'\u001b[39m]\n\u001b[0;32m   1433\u001b[0m \u001b[39mself\u001b[39m\u001b[39m.\u001b[39m_corner_mask \u001b[39m=\u001b[39m corner_mask\n\u001b[1;32m-> 1435\u001b[0m x, y, z \u001b[39m=\u001b[39m \u001b[39mself\u001b[39;49m\u001b[39m.\u001b[39;49m_contour_args(args, kwargs)\n\u001b[0;32m   1437\u001b[0m contour_generator \u001b[39m=\u001b[39m contourpy\u001b[39m.\u001b[39mcontour_generator(\n\u001b[0;32m   1438\u001b[0m     x, y, z, name\u001b[39m=\u001b[39m\u001b[39mself\u001b[39m\u001b[39m.\u001b[39m_algorithm, corner_mask\u001b[39m=\u001b[39m\u001b[39mself\u001b[39m\u001b[39m.\u001b[39m_corner_mask,\n\u001b[0;32m   1439\u001b[0m     line_type\u001b[39m=\u001b[39mcontourpy\u001b[39m.\u001b[39mLineType\u001b[39m.\u001b[39mSeparateCode,\n\u001b[0;32m   1440\u001b[0m     fill_type\u001b[39m=\u001b[39mcontourpy\u001b[39m.\u001b[39mFillType\u001b[39m.\u001b[39mOuterCode,\n\u001b[0;32m   1441\u001b[0m     chunk_size\u001b[39m=\u001b[39m\u001b[39mself\u001b[39m\u001b[39m.\u001b[39mnchunk)\n\u001b[0;32m   1443\u001b[0m t \u001b[39m=\u001b[39m \u001b[39mself\u001b[39m\u001b[39m.\u001b[39mget_transform()\n",
      "File \u001b[1;32mc:\\Users\\zoona\\AppData\\Local\\Programs\\Python\\Python311\\Lib\\site-packages\\matplotlib\\contour.py:1473\u001b[0m, in \u001b[0;36mQuadContourSet._contour_args\u001b[1;34m(self, args, kwargs)\u001b[0m\n\u001b[0;32m   1471\u001b[0m     args \u001b[39m=\u001b[39m args[\u001b[39m1\u001b[39m:]\n\u001b[0;32m   1472\u001b[0m \u001b[39melif\u001b[39;00m Nargs \u001b[39m<\u001b[39m\u001b[39m=\u001b[39m \u001b[39m4\u001b[39m:\n\u001b[1;32m-> 1473\u001b[0m     x, y, z \u001b[39m=\u001b[39m \u001b[39mself\u001b[39;49m\u001b[39m.\u001b[39;49m_check_xyz(args[:\u001b[39m3\u001b[39;49m], kwargs)\n\u001b[0;32m   1474\u001b[0m     args \u001b[39m=\u001b[39m args[\u001b[39m3\u001b[39m:]\n\u001b[0;32m   1475\u001b[0m \u001b[39melse\u001b[39;00m:\n",
      "File \u001b[1;32mc:\\Users\\zoona\\AppData\\Local\\Programs\\Python\\Python311\\Lib\\site-packages\\matplotlib\\contour.py:1498\u001b[0m, in \u001b[0;36mQuadContourSet._check_xyz\u001b[1;34m(self, args, kwargs)\u001b[0m\n\u001b[0;32m   1496\u001b[0m x \u001b[39m=\u001b[39m np\u001b[39m.\u001b[39masarray(x, dtype\u001b[39m=\u001b[39mnp\u001b[39m.\u001b[39mfloat64)\n\u001b[0;32m   1497\u001b[0m y \u001b[39m=\u001b[39m np\u001b[39m.\u001b[39masarray(y, dtype\u001b[39m=\u001b[39mnp\u001b[39m.\u001b[39mfloat64)\n\u001b[1;32m-> 1498\u001b[0m z \u001b[39m=\u001b[39m ma\u001b[39m.\u001b[39;49masarray(args[\u001b[39m2\u001b[39;49m], dtype\u001b[39m=\u001b[39;49mnp\u001b[39m.\u001b[39;49mfloat64)\n\u001b[0;32m   1500\u001b[0m \u001b[39mif\u001b[39;00m z\u001b[39m.\u001b[39mndim \u001b[39m!=\u001b[39m \u001b[39m2\u001b[39m:\n\u001b[0;32m   1501\u001b[0m     \u001b[39mraise\u001b[39;00m \u001b[39mTypeError\u001b[39;00m(\u001b[39mf\u001b[39m\u001b[39m\"\u001b[39m\u001b[39mInput z must be 2D, not \u001b[39m\u001b[39m{\u001b[39;00mz\u001b[39m.\u001b[39mndim\u001b[39m}\u001b[39;00m\u001b[39mD\u001b[39m\u001b[39m\"\u001b[39m)\n",
      "File \u001b[1;32mc:\\Users\\zoona\\AppData\\Local\\Programs\\Python\\Python311\\Lib\\site-packages\\numpy\\ma\\core.py:8003\u001b[0m, in \u001b[0;36masarray\u001b[1;34m(a, dtype, order)\u001b[0m\n\u001b[0;32m   7959\u001b[0m \u001b[39m\"\"\"\u001b[39;00m\n\u001b[0;32m   7960\u001b[0m \u001b[39mConvert the input to a masked array of the given data-type.\u001b[39;00m\n\u001b[0;32m   7961\u001b[0m \n\u001b[1;32m   (...)\u001b[0m\n\u001b[0;32m   8000\u001b[0m \n\u001b[0;32m   8001\u001b[0m \u001b[39m\"\"\"\u001b[39;00m\n\u001b[0;32m   8002\u001b[0m order \u001b[39m=\u001b[39m order \u001b[39mor\u001b[39;00m \u001b[39m'\u001b[39m\u001b[39mC\u001b[39m\u001b[39m'\u001b[39m\n\u001b[1;32m-> 8003\u001b[0m \u001b[39mreturn\u001b[39;00m masked_array(a, dtype\u001b[39m=\u001b[39;49mdtype, copy\u001b[39m=\u001b[39;49m\u001b[39mFalse\u001b[39;49;00m, keep_mask\u001b[39m=\u001b[39;49m\u001b[39mTrue\u001b[39;49;00m,\n\u001b[0;32m   8004\u001b[0m                     subok\u001b[39m=\u001b[39;49m\u001b[39mFalse\u001b[39;49;00m, order\u001b[39m=\u001b[39;49morder)\n",
      "File \u001b[1;32mc:\\Users\\zoona\\AppData\\Local\\Programs\\Python\\Python311\\Lib\\site-packages\\numpy\\ma\\core.py:2826\u001b[0m, in \u001b[0;36mMaskedArray.__new__\u001b[1;34m(cls, data, mask, dtype, copy, subok, ndmin, fill_value, keep_mask, hard_mask, shrink, order)\u001b[0m\n\u001b[0;32m   2817\u001b[0m \u001b[39m\"\"\"\u001b[39;00m\n\u001b[0;32m   2818\u001b[0m \u001b[39mCreate a new masked array from scratch.\u001b[39;00m\n\u001b[0;32m   2819\u001b[0m \n\u001b[1;32m   (...)\u001b[0m\n\u001b[0;32m   2823\u001b[0m \n\u001b[0;32m   2824\u001b[0m \u001b[39m\"\"\"\u001b[39;00m\n\u001b[0;32m   2825\u001b[0m \u001b[39m# Process data.\u001b[39;00m\n\u001b[1;32m-> 2826\u001b[0m _data \u001b[39m=\u001b[39m np\u001b[39m.\u001b[39marray(data, dtype\u001b[39m=\u001b[39mdtype, copy\u001b[39m=\u001b[39mcopy,\n\u001b[0;32m   2827\u001b[0m                  order\u001b[39m=\u001b[39morder, subok\u001b[39m=\u001b[39m\u001b[39mTrue\u001b[39;00m, ndmin\u001b[39m=\u001b[39mndmin)\n\u001b[0;32m   2828\u001b[0m _baseclass \u001b[39m=\u001b[39m \u001b[39mgetattr\u001b[39m(data, \u001b[39m'\u001b[39m\u001b[39m_baseclass\u001b[39m\u001b[39m'\u001b[39m, \u001b[39mtype\u001b[39m(_data))\n\u001b[0;32m   2829\u001b[0m \u001b[39m# Check that we're not erasing the mask.\u001b[39;00m\n",
      "\u001b[1;31mValueError\u001b[0m: could not convert string to float: 'intervene'"
     ]
    },
    {
     "data": {
      "image/png": "[encoded data removed]",
      "text/plain": [
       "<Figure size 1200x800 with 6 Axes>"
      ]
     },
     "metadata": {},
     "output_type": "display_data"
    }
   ],
   "source": [
    "import numpy as np\n",
    "import matplotlib.pyplot as plt\n",
    "from sklearn.tree import DecisionTreeClassifier\n",
    "from sklearn.neighbors import KNeighborsClassifier\n",
    "from sklearn.svm import SVC\n",
    "from sklearn.linear_model import LogisticRegression\n",
    "from sklearn.ensemble import RandomForestClassifier\n",
    "from sklearn.naive_bayes import GaussianNB\n",
    "from itertools import product\n",
    "\n",
    "# best models\n",
    "best_models = {\n",
    "    'LR': LogisticRegression(C=0.1, max_iter=10000),\n",
    "    'DT': DecisionTreeClassifier(max_depth=10, min_samples_leaf=4),\n",
    "    'RF': RandomForestClassifier(min_samples_split=10, n_estimators=50),\n",
    "    'SVC': SVC(C=10.0, probability=True),\n",
    "    'KNN': KNeighborsClassifier(metric='manhattan', n_neighbors=7, weights='distance'),\n",
    "    'GNB': GaussianNB()\n",
    "}\n",
    "\n",
    "# fit models with transformed data\n",
    "transformed_data = []\n",
    "for features in product([0, 1], [0, 1, 2, 3, 4, 5, 6, 7, 8, 9, 10]):\n",
    "    X_train_transformed_subset = X_train_transformed.iloc[:, list(features)]\n",
    "    transformed_data.append(X_train_transformed_subset)\n",
    "\n",
    "for i, (model_name, clf) in enumerate(best_models.items()):\n",
    "    clf.fit(transformed_data[i], y_train_binary.values.ravel())\n",
    "\n",
    "# decision regions\n",
    "x_min, x_max = transformed_data[0].iloc[:, 0].min() - 1, transformed_data[0].iloc[:, 0].max() + 1\n",
    "y_min, y_max = transformed_data[0].iloc[:, 1].min() - 1, transformed_data[0].iloc[:, 1].max() + 1\n",
    "xx, yy = np.meshgrid(np.arange(x_min, x_max, 0.1), np.arange(y_min, y_max, 0.1))\n",
    "\n",
    "f, axarr = plt.subplots(2, 3, sharex='col', sharey='row', figsize=(12, 8))\n",
    "\n",
    "for idx, (model_name, clf), tt in zip(range(6), best_models.items(),\n",
    "                                      ['Decision Tree (depth=4)', 'KNN (k=7)',\n",
    "                                       'Kernel SVM', 'Logistic Regression', 'Random Forest', 'Gaussian NB']):\n",
    "    row_idx, col_idx = divmod(idx, 3)  # convert the index to row and column\n",
    "\n",
    "    Z = clf.predict(np.c_[xx.ravel(), yy.ravel()])\n",
    "    Z = Z.reshape(xx.shape)\n",
    "\n",
    "    axarr[row_idx, col_idx].contourf(xx, yy, Z, alpha=0.4)\n",
    "    axarr[row_idx, col_idx].scatter(transformed_data[idx].iloc[:, 0], transformed_data[idx].iloc[:, 1],\n",
    "                                    c=y_train_binary, s=20, edgecolor='k')\n",
    "    axarr[row_idx, col_idx].set_title(tt)\n",
    "\n",
    "plt.tight_layout()\n",
    "plt.show()\n",
    "\n",
    "\n",
    "\n",
    "\n",
    "\n"
   ]
  },
  {
   "cell_type": "code",
   "execution_count": 44,
   "metadata": {},
   "outputs": [
    {
     "name": "stdout",
     "output_type": "stream",
     "text": [
      "<class 'pandas.core.frame.DataFrame'>\n",
      "RangeIndex: 18861 entries, 0 to 18860\n",
      "Data columns (total 11 columns):\n",
      " #   Column                   Non-Null Count  Dtype  \n",
      "---  ------                   --------------  -----  \n",
      " 0   subject_SocSci           18861 non-null  int64  \n",
      " 1   subject_Stem             18861 non-null  int64  \n",
      " 2   num_of_prev_attempts     18861 non-null  float64\n",
      " 3   studied_credits          18861 non-null  float64\n",
      " 4   prop_submissions         18861 non-null  float64\n",
      " 5   avg_score                18861 non-null  float64\n",
      " 6   submission_distance      18861 non-null  float64\n",
      " 7   stu_activity_count       18861 non-null  float64\n",
      " 8   stu_activity_type_count  18861 non-null  float64\n",
      " 9   stu_total_clicks         18861 non-null  float64\n",
      " 10  stu_days_active          18861 non-null  float64\n",
      "dtypes: float64(9), int64(2)\n",
      "memory usage: 1.6 MB\n",
      "None\n",
      "(18861, 1)\n"
     ]
    }
   ],
   "source": [
    "print(X_train_transformed.info())\n",
    "print(y_train_binary.shape)"
   ]
  },
  {
   "attachments": {},
   "cell_type": "markdown",
   "metadata": {},
   "source": []
  },
  {
   "attachments": {},
   "cell_type": "markdown",
   "metadata": {},
   "source": []
  },
  {
   "attachments": {},
   "cell_type": "markdown",
   "metadata": {},
   "source": []
  },
  {
   "attachments": {},
   "cell_type": "markdown",
   "metadata": {},
   "source": []
  },
  {
   "cell_type": "code",
   "execution_count": null,
   "metadata": {},
   "outputs": [],
   "source": []
  }
 ],
 "metadata": {
  "kernelspec": {
   "display_name": "Python 3",
   "language": "python",
   "name": "python3"
  },
  "language_info": {
   "codemirror_mode": {
    "name": "ipython",
    "version": 3
   },
   "file_extension": ".py",
   "mimetype": "text/x-python",
   "name": "python",
   "nbconvert_exporter": "python",
   "pygments_lexer": "ipython3",
   "version": "3.11.0"
  },
  "orig_nbformat": 4
 },
 "nbformat": 4,
 "nbformat_minor": 2
}
