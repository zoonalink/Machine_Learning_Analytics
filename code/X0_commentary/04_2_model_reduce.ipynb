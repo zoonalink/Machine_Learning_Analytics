{
 "cells": [
  {
   "attachments": {},
   "cell_type": "markdown",
   "metadata": {},
   "source": [
    "## Dimensionality Reduction - Feature Space Reduction\n",
    "### Principal Component Analysis (PCA)"
   ]
  },
  {
   "cell_type": "code",
   "execution_count": 1,
   "metadata": {},
   "outputs": [],
   "source": [
    "import pandas as pd\n",
    "from sklearn.decomposition import PCA\n",
    "from sklearn.preprocessing import StandardScaler, OneHotEncoder\n",
    "\n",
    "# load csv files \n",
    "X_train_transformed = pd.read_csv('../../data/X_train_transformed.csv')\n",
    "X_test_transformed = pd.read_csv('../../data/X_test_transformed.csv')\n",
    "y_train = pd.read_csv('../../data/y_train.csv')\n",
    "y_test = pd.read_csv('../../data/y_test.csv')\n",
    "\n",
    "## data is already preprocessed, otherwise it would not be be preprocessed here\n",
    "\n",
    "# PCA instance\n",
    "pca = PCA(n_components=5)  # Adjust the number of components as desired\n",
    "\n",
    "# fit the PCA model\n",
    "pca.fit(X_train_transformed)\n",
    "\n",
    "# apply PCA transformation to both training and test data\n",
    "X_train_pca = pca.transform(X_train_transformed)\n",
    "X_test_pca = pca.transform(X_test_transformed)\n",
    "\n",
    "\n"
   ]
  },
  {
   "attachments": {},
   "cell_type": "markdown",
   "metadata": {},
   "source": []
  },
  {
   "cell_type": "code",
   "execution_count": null,
   "metadata": {},
   "outputs": [],
   "source": []
  },
  {
   "attachments": {},
   "cell_type": "markdown",
   "metadata": {},
   "source": [
    "#### Draft PCA pipeline - uses function from 4_1_model_prep.ipynb"
   ]
  },
  {
   "cell_type": "code",
   "execution_count": null,
   "metadata": {},
   "outputs": [],
   "source": [
    "import pandas as pd\n",
    "from sklearn.decomposition import PCA\n",
    "from sklearn.preprocessing import StandardScaler, OneHotEncoder\n",
    "from sklearn.pipeline import Pipeline\n",
    "\n",
    "def apply_pca_pipeline(data, n_components=2):\n",
    "    # preprocess the data\n",
    "    processed_data = preprocess_data(data)\n",
    "\n",
    "    # PCA pipeline\n",
    "    pca_pipeline = Pipeline([\n",
    "        ('pca', PCA(n_components))  # number of components as desired\n",
    "    ])\n",
    "\n",
    "    # apply PCA transformation \n",
    "    transformed_data = pca_pipeline.fit_transform(processed_data)\n",
    "\n",
    "    return transformed_data\n"
   ]
  }
 ],
 "metadata": {
  "kernelspec": {
   "display_name": "Python 3",
   "language": "python",
   "name": "python3"
  },
  "language_info": {
   "codemirror_mode": {
    "name": "ipython",
    "version": 3
   },
   "file_extension": ".py",
   "mimetype": "text/x-python",
   "name": "python",
   "nbconvert_exporter": "python",
   "pygments_lexer": "ipython3",
   "version": "3.11.0"
  },
  "orig_nbformat": 4
 },
 "nbformat": 4,
 "nbformat_minor": 2
}
