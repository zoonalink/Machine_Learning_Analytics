{
 "cells": [
  {
   "cell_type": "code",
   "execution_count": null,
   "metadata": {},
   "outputs": [],
   "source": []
  },
  {
   "cell_type": "markdown",
   "metadata": {},
   "source": [
    "### Agglomerative Clustering (hierarchical clustering)"
   ]
  },
  {
   "cell_type": "code",
   "execution_count": null,
   "metadata": {},
   "outputs": [],
   "source": [
    "X_train_transformed.info()"
   ]
  },
  {
   "cell_type": "code",
   "execution_count": null,
   "metadata": {},
   "outputs": [
    {
     "ename": "",
     "evalue": "",
     "output_type": "error",
     "traceback": [
      "\u001b[1;31mCanceled future for execute_request message before replies were done"
     ]
    },
    {
     "ename": "",
     "evalue": "",
     "output_type": "error",
     "traceback": [
      "\u001b[1;31mThe Kernel crashed while executing code in the the current cell or a previous cell. Please review the code in the cell(s) to identify a possible cause of the failure. Click <a href='https://aka.ms/vscodeJupyterKernelCrash'>here</a> for more info. View Jupyter <a href='command:jupyter.viewOutput'>log</a> for further details."
     ]
    }
   ],
   "source": [
    "from sklearn.cluster import AgglomerativeClustering\n",
    "import matplotlib.pyplot as plt\n",
    "import scipy.cluster.hierarchy as shc\n",
    "\n",
    "# number of clusters\n",
    "n_clusters = 5\n",
    "\n",
    "# create an instance of AgglomerativeClustering\n",
    "agg_clustering = AgglomerativeClustering(n_clusters=n_clusters)\n",
    "\n",
    "# fit the hierarchical clustering model on X_train_transformed dataset\n",
    "clusters_agg = agg_clustering.fit_predict(X_train_transformed)\n"
   ]
  },
  {
   "cell_type": "code",
   "execution_count": null,
   "metadata": {},
   "outputs": [],
   "source": [
    "\n",
    "# plot the dendrogram to visualize the hierarchical clustering\n",
    "plt.figure(figsize=(10, 7))\n",
    "plt.title(\"Dendrogram\")\n",
    "dend = shc.dendrogram(shc.linkage(X_train_transformed, method='ward'))\n",
    "\n",
    "# plot the clusters\n",
    "plt.figure(figsize=(10, 7))\n",
    "plt.scatter(X_train_transformed[:, 0], X_train_transformed[:, 1], c=clusters_agg, cmap='viridis')\n",
    "plt.title(\"Agglomerative Clustering\")\n",
    "plt.xlabel(\"Feature 1\")\n",
    "plt.ylabel(\"Feature 2\")\n",
    "plt.show()\n"
   ]
  }
 ],
 "metadata": {
  "language_info": {
   "name": "python"
  },
  "orig_nbformat": 4
 },
 "nbformat": 4,
 "nbformat_minor": 2
}
