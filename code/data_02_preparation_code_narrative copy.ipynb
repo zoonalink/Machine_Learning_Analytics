{
 "cells": [
  {
   "attachments": {},
   "cell_type": "markdown",
   "metadata": {},
   "source": [
    "### Import libraries"
   ]
  },
  {
   "cell_type": "code",
   "execution_count": 2,
   "metadata": {},
   "outputs": [],
   "source": [
    "import pandas as pd\n",
    "import numpy as np\n",
    "import zipfile\n",
    "import matplotlib.pyplot as plt"
   ]
  },
  {
   "attachments": {},
   "cell_type": "markdown",
   "metadata": {},
   "source": [
    "### File and Prediction point"
   ]
  },
  {
   "cell_type": "code",
   "execution_count": 3,
   "metadata": {},
   "outputs": [],
   "source": [
    "# path to zip file\n",
    "zipfile_ou = '../data/anonymisedData.zip'\n",
    "\n",
    "# prediction point - days from start of course\n",
    "prediction_point = None"
   ]
  },
  {
   "attachments": {},
   "cell_type": "markdown",
   "metadata": {},
   "source": [
    "### Load Data\n",
    "- registrations\n",
    "- courses\n",
    "- students\n",
    "- student_vle\n",
    "- vle\n",
    "- student_assessments\n",
    "- assessments"
   ]
  },
  {
   "cell_type": "code",
   "execution_count": 4,
   "metadata": {},
   "outputs": [],
   "source": [
    "# load files\n",
    "\n",
    "def load_data(zip_file_path):\n",
    "    '''Loads the data from the Open University Learning Analytics dataset zip file.'''\n",
    "    \n",
    "    with zipfile.ZipFile(zip_file_path, 'r') as zip_file:\n",
    "        registrations = pd.read_csv(zip_file.open('studentRegistration.csv'))\n",
    "        courses = pd.read_csv(zip_file.open('courses.csv'))\n",
    "        students = pd.read_csv(zip_file.open('studentInfo.csv'))\n",
    "        student_vle = pd.read_csv(zip_file.open('studentVle.csv'))\n",
    "        vle = pd.read_csv(zip_file.open('vle.csv'))\n",
    "        student_assessments = pd.read_csv(zip_file.open('studentAssessment.csv'))\n",
    "        assessments = pd.read_csv(zip_file.open('assessments.csv'))\n",
    "    \n",
    "    return registrations, courses, students, student_vle, vle, student_assessments, assessments"
   ]
  },
  {
   "cell_type": "code",
   "execution_count": 5,
   "metadata": {},
   "outputs": [],
   "source": [
    "registrations, courses, students, student_vle, vle, student_assessments, assessments = load_data(zipfile_ou)"
   ]
  },
  {
   "attachments": {},
   "cell_type": "markdown",
   "metadata": {},
   "source": [
    "## Clean and Add Student Biographical and Registration Information\n"
   ]
  },
  {
   "cell_type": "code",
   "execution_count": 6,
   "metadata": {},
   "outputs": [],
   "source": [
    "\n",
    "# merge students and courses\n",
    "student_regist = pd.merge(students, courses, on=['code_module', 'code_presentation'], validate='many_to_one')\n",
    "\n",
    "# merge registrations\n",
    "student_regist = pd.merge(student_regist, registrations, on=['code_module', 'code_presentation', 'id_student'], how = 'left', validate='1:1')\n"
   ]
  },
  {
   "attachments": {},
   "cell_type": "markdown",
   "metadata": {},
   "source": [
    "there are 3538 students with multiple registrations"
   ]
  },
  {
   "cell_type": "code",
   "execution_count": 8,
   "metadata": {},
   "outputs": [
    {
     "name": "stdout",
     "output_type": "stream",
     "text": [
      "       id_student  registration_count\n",
      "2            8462                   2\n",
      "9           24213                   2\n",
      "16          25629                   2\n",
      "29          27417                   2\n",
      "34          27891                   2\n",
      "...           ...                 ...\n",
      "28741     2691780                   3\n",
      "28743     2692101                   2\n",
      "28772     2697921                   3\n",
      "28777     2698535                   2\n",
      "28783     2710343                   2\n",
      "\n",
      "[3538 rows x 2 columns]\n"
     ]
    }
   ],
   "source": [
    "registration_count = student_regist.groupby(['id_student']).size().reset_index(name='registration_count')\n",
    "\n",
    "# Filter the results to include only students with more than one registration\n",
    "students_with_multiple_registrations = registration_count[registration_count['registration_count'] > 1]\n",
    "\n",
    "# Print the results\n",
    "print(students_with_multiple_registrations)"
   ]
  },
  {
   "cell_type": "code",
   "execution_count": 10,
   "metadata": {},
   "outputs": [],
   "source": [
    "\n",
    "#prediction_point default\n",
    "#if prediction_point is None:\n",
    "#    prediction_point = max(student_regist['module_presentation_length'])\n"
   ]
  },
  {
   "cell_type": "code",
   "execution_count": 11,
   "metadata": {},
   "outputs": [],
   "source": [
    "\n",
    "# drop missing value rows (date_registration, imd_band)\n",
    "student_regist.dropna(subset=['date_registration', 'imd_band'], inplace=True)\n"
   ]
  },
  {
   "cell_type": "code",
   "execution_count": 12,
   "metadata": {},
   "outputs": [],
   "source": [
    "\n",
    "# prediction point must be less than course length, integer, and greater than 0\n",
    "if prediction_point is not None:\n",
    "    assert isinstance(prediction_point, int) and prediction_point > 0 and prediction_point <= (max(student_regist['module_presentation_length']) + 7), \"Error: Invalid prediction point.\\n\\nPlease provide an integer value greater than 0 and less than or equal to the maximum course length.\\n\\nThis is the number of days from the start of the course for which you want to predict the outcome.\"\n",
    "    \n",
    "    # withdrawn or failed before prediction point - remove\n",
    "    withdrawn_fail_condition = (student_regist['final_result'].isin(['Withdrawn', 'Fail'])) & (student_regist['date_unregistration'] <= prediction_point)\n",
    "    student_regist.loc[withdrawn_fail_condition, 'status'] = 'remove_outcome_known'\n",
    "    \n",
    "    # unregister after prediction point - keep\n",
    "    unregister_after_condition = student_regist['date_unregistration'] > prediction_point\n",
    "    student_regist.loc[unregister_after_condition, 'status'] = 'keep'\n",
    "    \n",
    "    # if no unregistration date - keep\n",
    "    no_unregistration_condition = student_regist['date_unregistration'].isna()\n",
    "    student_regist.loc[no_unregistration_condition, 'status'] = 'keep'\n",
    "    \n",
    "    # query case\n",
    "    student_regist.loc[~(withdrawn_fail_condition | unregister_after_condition | no_unregistration_condition), 'status'] = 'query'\n",
    "\n",
    "\n",
    "# rows which need investigation\n",
    "query_rows = student_regist[student_regist['status'] == 'query'] | student_regist[student_regist['status'].isna()]\n"
   ]
  },
  {
   "cell_type": "code",
   "execution_count": 13,
   "metadata": {},
   "outputs": [
    {
     "name": "stdout",
     "output_type": "stream",
     "text": [
      "<class 'pandas.core.frame.DataFrame'>\n",
      "Int64Index: 0 entries\n",
      "Data columns (total 16 columns):\n",
      " #   Column                      Non-Null Count  Dtype\n",
      "---  ------                      --------------  -----\n",
      " 0   code_module                 0 non-null      bool \n",
      " 1   code_presentation           0 non-null      bool \n",
      " 2   id_student                  0 non-null      int64\n",
      " 3   gender                      0 non-null      bool \n",
      " 4   region                      0 non-null      bool \n",
      " 5   highest_education           0 non-null      bool \n",
      " 6   imd_band                    0 non-null      bool \n",
      " 7   age_band                    0 non-null      bool \n",
      " 8   num_of_prev_attempts        0 non-null      int64\n",
      " 9   studied_credits             0 non-null      int64\n",
      " 10  disability                  0 non-null      bool \n",
      " 11  final_result                0 non-null      bool \n",
      " 12  module_presentation_length  0 non-null      int64\n",
      " 13  date_registration           0 non-null      bool \n",
      " 14  date_unregistration         0 non-null      bool \n",
      " 15  status                      0 non-null      bool \n",
      "dtypes: bool(12), int64(4)\n",
      "memory usage: 0.0 bytes\n"
     ]
    },
    {
     "data": {
      "text/plain": [
       "False"
      ]
     },
     "execution_count": 13,
     "metadata": {},
     "output_type": "execute_result"
    }
   ],
   "source": [
    "query_rows.info()\n",
    "not query_rows.empty"
   ]
  },
  {
   "cell_type": "code",
   "execution_count": 14,
   "metadata": {},
   "outputs": [],
   "source": [
    "\n",
    "# print rows which need investigation\n",
    "if not query_rows.empty:\n",
    "    print(\"The following rows need investigation.  They are excluded from the following analysis: \\n\")\n",
    "    print(query_rows)\n",
    "    student_regist = student_regist[~student_regist.isin(query_rows)].dropna()\n"
   ]
  },
  {
   "cell_type": "code",
   "execution_count": 15,
   "metadata": {},
   "outputs": [
    {
     "name": "stdout",
     "output_type": "stream",
     "text": [
      "<class 'pandas.core.frame.DataFrame'>\n",
      "Int64Index: 31437 entries, 0 to 32592\n",
      "Data columns (total 16 columns):\n",
      " #   Column                      Non-Null Count  Dtype  \n",
      "---  ------                      --------------  -----  \n",
      " 0   code_module                 31437 non-null  object \n",
      " 1   code_presentation           31437 non-null  object \n",
      " 2   id_student                  31437 non-null  int64  \n",
      " 3   gender                      31437 non-null  object \n",
      " 4   region                      31437 non-null  object \n",
      " 5   highest_education           31437 non-null  object \n",
      " 6   imd_band                    31437 non-null  object \n",
      " 7   age_band                    31437 non-null  object \n",
      " 8   num_of_prev_attempts        31437 non-null  int64  \n",
      " 9   studied_credits             31437 non-null  int64  \n",
      " 10  disability                  31437 non-null  object \n",
      " 11  final_result                31437 non-null  object \n",
      " 12  module_presentation_length  31437 non-null  int64  \n",
      " 13  date_registration           31437 non-null  float64\n",
      " 14  date_unregistration         9798 non-null   float64\n",
      " 15  status                      31437 non-null  object \n",
      "dtypes: float64(2), int64(4), object(10)\n",
      "memory usage: 4.1+ MB\n"
     ]
    }
   ],
   "source": [
    "student_regist.info()"
   ]
  },
  {
   "cell_type": "code",
   "execution_count": 16,
   "metadata": {},
   "outputs": [],
   "source": [
    "\n",
    "# replace missing date_unreg with module_presentation_length\n",
    "student_regist['date_unregistration'] = student_regist['date_unregistration'].fillna(student_regist['module_presentation_length'])\n"
   ]
  },
  {
   "cell_type": "code",
   "execution_count": 17,
   "metadata": {},
   "outputs": [],
   "source": [
    "\n",
    "\n",
    "\n",
    "# drop students who unregistered before starting\n",
    "student_regist = student_regist[student_regist['date_unregistration'] >= student_regist['date_registration']]\n",
    "\n"
   ]
  },
  {
   "cell_type": "code",
   "execution_count": 18,
   "metadata": {},
   "outputs": [],
   "source": [
    "\n",
    "# remove rows from final student df which are not needed\n",
    "model_final = student_regist[student_regist['status'] != 'remove_outcome_known']\n",
    "   \n",
    "\n",
    "\n",
    "\n"
   ]
  },
  {
   "cell_type": "code",
   "execution_count": 19,
   "metadata": {},
   "outputs": [
    {
     "data": {
      "text/plain": [
       "code_module                   21640\n",
       "code_presentation             21640\n",
       "id_student                    21640\n",
       "gender                        21640\n",
       "region                        21640\n",
       "highest_education             21640\n",
       "imd_band                      21640\n",
       "age_band                      21640\n",
       "num_of_prev_attempts          21640\n",
       "studied_credits               21640\n",
       "disability                    21640\n",
       "final_result                  21640\n",
       "module_presentation_length    21640\n",
       "date_registration             21640\n",
       "date_unregistration           21640\n",
       "status                        21640\n",
       "dtype: int64"
      ]
     },
     "execution_count": 19,
     "metadata": {},
     "output_type": "execute_result"
    }
   ],
   "source": [
    "model_final.count()\n",
    "#model_final['status'].unique()"
   ]
  },
  {
   "attachments": {},
   "cell_type": "markdown",
   "metadata": {},
   "source": [
    "## Clean and Add Assessment Information"
   ]
  },
  {
   "cell_type": "code",
   "execution_count": 43,
   "metadata": {},
   "outputs": [],
   "source": [
    "# merge 'assessments' and 'courses' on 'code_module' and 'code_presentation'\n",
    "course_assess = pd.merge(assessments, courses, on=['code_module', 'code_presentation'], how='left')"
   ]
  },
  {
   "cell_type": "code",
   "execution_count": 44,
   "metadata": {},
   "outputs": [
    {
     "name": "stdout",
     "output_type": "stream",
     "text": [
      "Missing values in course_assess: \n",
      "\n",
      "code_module                    0\n",
      "code_presentation              0\n",
      "id_assessment                  0\n",
      "assessment_type                0\n",
      "date                          11\n",
      "weight                         0\n",
      "module_presentation_length     0\n",
      "dtype: int64\n"
     ]
    }
   ],
   "source": [
    "# missing assessment dates\n",
    "missing_assess = course_assess.isnull().sum()\n",
    "print(\"Missing values in course_assess: \\n\\n{}\".format(missing_assess))"
   ]
  },
  {
   "cell_type": "code",
   "execution_count": 45,
   "metadata": {},
   "outputs": [],
   "source": [
    "# fill in the missing 'date' values with course final week (as per literature)\n",
    "value_to_fill = course_assess['module_presentation_length'] - 3\n",
    "course_assess['date'] = course_assess['date'].fillna(value_to_fill)\n"
   ]
  },
  {
   "cell_type": "code",
   "execution_count": 46,
   "metadata": {},
   "outputs": [],
   "source": [
    "\n",
    "# merge student_assessments with course_assess\n",
    "stu_assess = pd.merge(student_assessments, course_assess, on=['id_assessment'], how='left')\n"
   ]
  },
  {
   "cell_type": "code",
   "execution_count": 47,
   "metadata": {},
   "outputs": [
    {
     "name": "stdout",
     "output_type": "stream",
     "text": [
      "Missing values in course_assess: \n",
      "\n",
      "id_assessment                   0\n",
      "id_student                      0\n",
      "date_submitted                  0\n",
      "is_banked                       0\n",
      "score                         173\n",
      "code_module                     0\n",
      "code_presentation               0\n",
      "assessment_type                 0\n",
      "date                            0\n",
      "weight                          0\n",
      "module_presentation_length      0\n",
      "dtype: int64\n"
     ]
    }
   ],
   "source": [
    "missing_score = stu_assess.isnull().sum()\n",
    "print(\"Missing values in course_assess: \\n\\n{}\".format(missing_score))"
   ]
  },
  {
   "attachments": {},
   "cell_type": "markdown",
   "metadata": {},
   "source": [
    "173 rows with missing scores\n",
    "160 students with missing scores\n",
    "\n",
    "assessment and student rows removed\n",
    "\n",
    "It is not prudent to impute a score where they are missing.  "
   ]
  },
  {
   "cell_type": "code",
   "execution_count": 48,
   "metadata": {},
   "outputs": [
    {
     "name": "stdout",
     "output_type": "stream",
     "text": [
      "160\n"
     ]
    }
   ],
   "source": [
    "\n",
    "# students who have no score for an assessment\n",
    "missing_score_rows = stu_assess[stu_assess['score'].isna()]\n",
    "print(missing_score_rows['id_student'].nunique())\n"
   ]
  },
  {
   "cell_type": "code",
   "execution_count": 49,
   "metadata": {},
   "outputs": [
    {
     "name": "stdout",
     "output_type": "stream",
     "text": [
      "The following students have missing 'scores'. They are excluded from the following analysis: \n",
      "\n",
      "        id_assessment  id_student  date_submitted  is_banked  score  \\\n",
      "215              1752      721259              22          0    NaN   \n",
      "937              1754      260355             127          0    NaN   \n",
      "2364             1760     2606802             180          0    NaN   \n",
      "3358            14984      186780              77          0    NaN   \n",
      "3914            14984      531205              26          0    NaN   \n",
      "...               ...         ...             ...        ...    ...   \n",
      "148929          34903      582670             241          0    NaN   \n",
      "159251          37415      610738              87          0    NaN   \n",
      "166390          37427      631786             221          0    NaN   \n",
      "169725          37435      648110              62          0    NaN   \n",
      "170103          37435      480914              49          0    NaN   \n",
      "\n",
      "       code_module code_presentation assessment_type   date  weight  \\\n",
      "215            AAA             2013J             TMA   19.0    10.0   \n",
      "937            AAA             2013J             TMA  117.0    20.0   \n",
      "2364           AAA             2014J             TMA  117.0    20.0   \n",
      "3358           BBB             2013B             TMA   19.0     5.0   \n",
      "3914           BBB             2013B             TMA   19.0     5.0   \n",
      "...            ...               ...             ...    ...     ...   \n",
      "148929         FFF             2014J             TMA  199.0    25.0   \n",
      "159251         GGG             2013J             TMA   61.0     0.0   \n",
      "166390         GGG             2014B             TMA  166.0     0.0   \n",
      "169725         GGG             2014J             TMA   61.0     0.0   \n",
      "170103         GGG             2014J             TMA   61.0     0.0   \n",
      "\n",
      "        module_presentation_length  \n",
      "215                            268  \n",
      "937                            268  \n",
      "2364                           269  \n",
      "3358                           240  \n",
      "3914                           240  \n",
      "...                            ...  \n",
      "148929                         269  \n",
      "159251                         261  \n",
      "166390                         241  \n",
      "169725                         269  \n",
      "170103                         269  \n",
      "\n",
      "[173 rows x 11 columns]\n"
     ]
    }
   ],
   "source": [
    "\n",
    "if not missing_score_rows.empty:\n",
    "    print(\"The following students have missing 'scores'. They are excluded from the following analysis: \\n\")\n",
    "    print(missing_score_rows)\n",
    "\n",
    "    # student ids with missing score\n",
    "    unique_ids_missing = missing_score_rows['id_student'].unique()\n",
    "\n",
    "    # remove students with missing score from model_final\n",
    "    model_final = model_final[~model_final['id_student'].isin(unique_ids_missing)]\n",
    "\n",
    "    # drop rows with missing score\n",
    "    stu_assess.dropna(subset=['score'], inplace=True)\n"
   ]
  },
  {
   "cell_type": "code",
   "execution_count": 50,
   "metadata": {},
   "outputs": [
    {
     "name": "stdout",
     "output_type": "stream",
     "text": [
      "Date Range: 12.0 to 266.0\n"
     ]
    },
    {
     "data": {
      "image/png": "[encoded data removed]",
      "text/plain": [
       "<Figure size 640x480 with 1 Axes>"
      ]
     },
     "metadata": {},
     "output_type": "display_data"
    }
   ],
   "source": [
    "# assessment date range check\n",
    "date_values = stu_assess['date']\n",
    "print('Date Range:', date_values.min(), 'to', date_values.max())\n",
    "\n",
    "\n",
    "# plotting the distribution\n",
    "plt.hist(date_values, bins='auto', alpha=0.7, rwidth=0.85)\n",
    "plt.xlabel('Date')\n",
    "plt.ylabel('Frequency')\n",
    "plt.title('Distribution of Dates')\n",
    "plt.grid(True)\n",
    "plt.show()"
   ]
  },
  {
   "attachments": {},
   "cell_type": "markdown",
   "metadata": {},
   "source": [
    "Above are the submission dates - all within course dates (start and finish).\n",
    "Student submissions should be similar but with leeway either side of the due date.\n",
    "However, submitting before the course starts and well after the course finishes is not possible.  \n",
    "\n",
    "As can be seen - there are outliers (negative days - before course started) and signficantly after it finished. "
   ]
  },
  {
   "cell_type": "code",
   "execution_count": 51,
   "metadata": {},
   "outputs": [
    {
     "name": "stdout",
     "output_type": "stream",
     "text": [
      "Date Range: -11 to 608\n"
     ]
    },
    {
     "data": {
      "image/png": "[encoded data removed]",
      "text/plain": [
       "<Figure size 640x480 with 1 Axes>"
      ]
     },
     "metadata": {},
     "output_type": "display_data"
    }
   ],
   "source": [
    "# assessment date range check\n",
    "stu_date_values = stu_assess['date_submitted']\n",
    "print('Date Range:', stu_date_values.min(), 'to', stu_date_values.max())\n",
    "\n",
    "\n",
    "# plotting the distribution\n",
    "plt.hist(stu_date_values, bins='auto', alpha=0.7, rwidth=0.85)\n",
    "plt.xlabel('Date')\n",
    "plt.ylabel('Frequency')\n",
    "plt.title('Distribution of Dates')\n",
    "plt.grid(True)\n",
    "plt.show()"
   ]
  },
  {
   "cell_type": "code",
   "execution_count": 56,
   "metadata": {},
   "outputs": [
    {
     "data": {
      "image/png": "[encoded data removed]",
      "text/plain": [
       "<Figure size 640x480 with 1 Axes>"
      ]
     },
     "metadata": {},
     "output_type": "display_data"
    }
   ],
   "source": [
    "# plotting the distribution\n",
    "plt.hist(stu_assess['date'], bins='auto', alpha=0.7, rwidth=0.85)\n",
    "plt.hist(stu_assess['date_submitted'], bins='auto', alpha=0.7, rwidth=0.85, color='red')\n",
    "plt.xlabel('Date')\n",
    "plt.ylabel('Frequency')\n",
    "plt.title('Distribution of Dates')\n",
    "plt.grid(True)\n",
    "plt.show()"
   ]
  },
  {
   "attachments": {},
   "cell_type": "markdown",
   "metadata": {},
   "source": []
  },
  {
   "cell_type": "code",
   "execution_count": 52,
   "metadata": {},
   "outputs": [
    {
     "data": {
      "text/plain": [
       "code_module  code_presentation\n",
       "CCC          2014B                 3\n",
       "             2014J                 1\n",
       "DDD          2013B                 4\n",
       "             2014B                 3\n",
       "             2014J                 1\n",
       "FFF          2013B                25\n",
       "             2013J                26\n",
       "             2014B                17\n",
       "             2014J                 2\n",
       "Name: id_student, dtype: int64"
      ]
     },
     "execution_count": 52,
     "metadata": {},
     "output_type": "execute_result"
    }
   ],
   "source": [
    "\n",
    "greater_than_max_length = stu_assess[stu_assess['date_submitted'] > stu_assess['module_presentation_length']]\n",
    "greater_than_max_length.groupby(['code_module', 'code_presentation']).count()['id_student']\n",
    "\n"
   ]
  },
  {
   "attachments": {},
   "cell_type": "markdown",
   "metadata": {},
   "source": [
    "It seems like module FFF has a different assessment structure - allowing for submissions well after module ended."
   ]
  },
  {
   "cell_type": "code",
   "execution_count": 57,
   "metadata": {},
   "outputs": [],
   "source": [
    "\n",
    "# remove students with negative or extreme date_submitted values\n",
    "max_module_length = stu_assess['module_presentation_length'].max() + 10\n",
    "greater_than_max_length = stu_assess[stu_assess['date_submitted'] > max_module_length]['id_student'].unique()\n",
    "less_than_zero = stu_assess[stu_assess['date_submitted'] < 0]['id_student'].unique()\n",
    "students_to_remove = set(greater_than_max_length) | set(less_than_zero)\n",
    "model_final = model_final[~model_final['id_student'].isin(students_to_remove)]\n",
    "stu_assess = stu_assess[~stu_assess['id_student'].isin(students_to_remove)]\n",
    "\n"
   ]
  },
  {
   "cell_type": "code",
   "execution_count": 54,
   "metadata": {},
   "outputs": [],
   "source": [
    "# if prediction_point is None\n",
    "if prediction_point is None:\n",
    "    # no data reduction\n",
    "    model_student_assess = stu_assess\n",
    "    model_course_assess = course_assess\n",
    "else:\n",
    "    # prediction point must be less than course length, integer, and greater than 0\n",
    "    assert isinstance(prediction_point, int) and prediction_point > 0 and prediction_point <= (max(courses['module_presentation_length'])+7), \"Error: Invalid prediction point.\\n\\nPlease provide an integer value greater than 0 and less than or equal to the maximum course length.\\n\\nThis is the number of days from the start of the course for which you want to predict the outcome.\"\n",
    "\n",
    "    # reduce data by prediction point\n",
    "    model_student_assess = stu_assess[stu_assess['date'] <= prediction_point]\n",
    "    model_course_assess = course_assess[course_assess['date'] <= prediction_point]\n"
   ]
  },
  {
   "cell_type": "code",
   "execution_count": 55,
   "metadata": {},
   "outputs": [],
   "source": [
    "\n",
    "# get expected assessment details\n",
    "\n",
    "expected_ass = model_course_assess.groupby(['code_module', 'code_presentation'])['id_assessment'].count().reset_index()\n",
    "expected_ass = expected_ass.rename(columns={'id_assessment': 'exp_sub_count'})\n",
    "date_sum = model_course_assess.groupby(['code_module', 'code_presentation'])['date'].sum().reset_index()\n",
    "expected_ass = expected_ass.merge(date_sum, on=['code_module', 'code_presentation'], how='left')\n",
    "expected_ass = expected_ass.rename(columns={'date': 'exp_sub_date_sum'})\n"
   ]
  },
  {
   "cell_type": "code",
   "execution_count": null,
   "metadata": {},
   "outputs": [],
   "source": [
    "\n",
    "# summarise students' assessments by module_presentation\n",
    "student_assessment_summary = model_student_assess.groupby(['id_student', 'code_module', 'code_presentation']).agg(\n",
    "    count_id_assessment=('id_assessment', 'count'),\n",
    "    sum_score=('score', 'sum'),\n",
    "    sum_date=('date', 'sum')\n",
    "    ).reset_index()\n"
   ]
  },
  {
   "cell_type": "code",
   "execution_count": null,
   "metadata": {},
   "outputs": [],
   "source": [
    "\n",
    "# merge student_assessment_summary and expected_ass on code_module and code_presentation\n",
    "merged_assess_summary = student_assessment_summary.merge(expected_ass, on=['code_module', 'code_presentation'])\n"
   ]
  },
  {
   "cell_type": "code",
   "execution_count": null,
   "metadata": {},
   "outputs": [],
   "source": [
    "\n",
    "# calculate the new features\n",
    "merged_assess_summary['prop_submissions'] = merged_assess_summary['count_id_assessment'] / merged_assess_summary['exp_sub_count']\n",
    "merged_assess_summary['avg_score'] = merged_assess_summary['sum_score'] / merged_assess_summary['exp_sub_count']\n",
    "merged_assess_summary['submission_distance'] = merged_assess_summary['exp_sub_date_sum'] - merged_assess_summary['sum_date']\n"
   ]
  },
  {
   "cell_type": "code",
   "execution_count": null,
   "metadata": {},
   "outputs": [],
   "source": [
    "\n",
    "# merge with 'model_final'\n",
    "model_final = model_final.merge(merged_assess_summary, on=['id_student', 'code_module', 'code_presentation'], how='inner')\n",
    "\n"
   ]
  },
  {
   "cell_type": "code",
   "execution_count": 58,
   "metadata": {},
   "outputs": [
    {
     "name": "stdout",
     "output_type": "stream",
     "text": [
      "<class 'pandas.core.frame.DataFrame'>\n",
      "Int64Index: 21020 entries, 0 to 32592\n",
      "Data columns (total 16 columns):\n",
      " #   Column                      Non-Null Count  Dtype  \n",
      "---  ------                      --------------  -----  \n",
      " 0   code_module                 21020 non-null  object \n",
      " 1   code_presentation           21020 non-null  object \n",
      " 2   id_student                  21020 non-null  int64  \n",
      " 3   gender                      21020 non-null  object \n",
      " 4   region                      21020 non-null  object \n",
      " 5   highest_education           21020 non-null  object \n",
      " 6   imd_band                    21020 non-null  object \n",
      " 7   age_band                    21020 non-null  object \n",
      " 8   num_of_prev_attempts        21020 non-null  int64  \n",
      " 9   studied_credits             21020 non-null  int64  \n",
      " 10  disability                  21020 non-null  object \n",
      " 11  final_result                21020 non-null  object \n",
      " 12  module_presentation_length  21020 non-null  int64  \n",
      " 13  date_registration           21020 non-null  float64\n",
      " 14  date_unregistration         21020 non-null  float64\n",
      " 15  status                      21020 non-null  object \n",
      "dtypes: float64(2), int64(4), object(10)\n",
      "memory usage: 2.7+ MB\n"
     ]
    }
   ],
   "source": [
    "model_final.info()"
   ]
  },
  {
   "attachments": {},
   "cell_type": "markdown",
   "metadata": {},
   "source": [
    "## Clean and add VLE information\n",
    "- merge 'vle' and 'courses' and 'student_vle'\n",
    "- remove columns (week_from, week_to)\n",
    "- filter the rows where 'date' <= 'prediction_point'\n",
    "- create new features: \n",
    "  - vle_activity_count\n",
    "  - student vle type count\n",
    "  - student total clicks\n",
    "  - student days active (engaged)"
   ]
  },
  {
   "cell_type": "code",
   "execution_count": null,
   "metadata": {},
   "outputs": [],
   "source": [
    "\n",
    "# merge 'vle' and 'courses' on 'code_module' and 'code_presentation'\n",
    "course_vle = vle.merge(courses, on=['code_module', 'code_presentation'], how='left').drop(['week_from', 'week_to'], axis=1)\n"
   ]
  },
  {
   "cell_type": "code",
   "execution_count": null,
   "metadata": {},
   "outputs": [],
   "source": [
    "\n",
    "# merge vle with student_vle\n",
    "all_stu_vle = pd.merge(student_vle, course_vle, on=['id_site', 'code_module', 'code_presentation'], how='left')\n"
   ]
  },
  {
   "cell_type": "code",
   "execution_count": null,
   "metadata": {},
   "outputs": [],
   "source": [
    "\n",
    "# if prediction_point is None\n",
    "if prediction_point is None:\n",
    "    # no filtering\n",
    "    all_stu_vle = all_stu_vle\n",
    "else:\n",
    "    # prediction point must be less than or equal to the maximum date\n",
    "    assert isinstance(prediction_point, int) and prediction_point <= max(all_stu_vle['date']), \"Error: Invalid prediction point.\\n\\nPlease provide an integer value less than or equal to the maximum date.\\n\\nThis is the cutoff date for filtering the rows.\"\n",
    "\n",
    "    # filter the rows where 'date' <= 'prediction_point'\n",
    "    all_stu_vle = all_stu_vle[all_stu_vle['date'] <= prediction_point]\n"
   ]
  },
  {
   "cell_type": "code",
   "execution_count": null,
   "metadata": {},
   "outputs": [],
   "source": [
    "\n",
    "# filter the rows where 'date' is greater than 'module_presentation_length'\n",
    "vle_after_done = all_stu_vle[all_stu_vle['date'] > all_stu_vle['module_presentation_length']]\n"
   ]
  },
  {
   "cell_type": "code",
   "execution_count": null,
   "metadata": {},
   "outputs": [],
   "source": [
    "\n",
    "if not vle_after_done.empty:\n",
    "    print(\"The following rows need investigation. They are excluded from the following analysis: \\n\")\n",
    "    print(vle_after_done)\n",
    "\n",
    "    # match rows based on 'code_module', 'code_presentation', and 'id_student'\n",
    "    matching_rows = model_final[model_final[['code_module', 'code_presentation', 'id_student']].isin(vle_after_done).all(axis=1)]\n",
    "\n",
    "    # remove the matching rows from 'model_final'\n",
    "    model_final = model_final[~model_final.index.isin(matching_rows.index)]\n"
   ]
  },
  {
   "cell_type": "code",
   "execution_count": null,
   "metadata": {},
   "outputs": [],
   "source": [
    "\n",
    "# aggregations for each column\n",
    "aggregations = {\n",
    "'id_site': 'count',\n",
    "'activity_type': 'nunique',\n",
    "'sum_click': 'sum',\n",
    "'date': lambda x: x.nunique()\n",
    "}\n",
    "\n",
    "# group and apply the aggregations\n",
    "grouped_stu_vle = all_stu_vle.groupby(['code_module', 'code_presentation', 'id_student']).agg(aggregations).reset_index()\n",
    "\n",
    "# rename the columns\n",
    "grouped_stu_vle.rename(columns={\n",
    "'id_site': 'stu_activity_count',\n",
    "'activity_type': 'stu_activity_type_count',\n",
    "'sum_click': 'stu_total_clicks',\n",
    "'date': 'stu_days_active'\n",
    "}, inplace=True)\n",
    "\n",
    "    "
   ]
  },
  {
   "cell_type": "code",
   "execution_count": null,
   "metadata": {},
   "outputs": [],
   "source": [
    "# number of vle types per module_presentation\n",
    "group_vle = vle.groupby(['code_module', 'code_presentation'])['activity_type'].nunique().reset_index()\n",
    "group_vle.rename(columns={'activity_type': 'mod_pres_vle_type_count'}, inplace=True)\n"
   ]
  },
  {
   "cell_type": "code",
   "execution_count": null,
   "metadata": {},
   "outputs": [],
   "source": [
    "\n",
    "# merge 'grouped_stu_vle' and 'group_vle' on 'code_module' and 'code_presentation'\n",
    "merged_vle_summary = grouped_stu_vle.merge(group_vle, on=['code_module', 'code_presentation'], how='left')\n"
   ]
  },
  {
   "cell_type": "code",
   "execution_count": null,
   "metadata": {},
   "outputs": [],
   "source": [
    "\n",
    "# merge with 'model_final'\n",
    "model_final = model_final.merge(merged_vle_summary, on=['id_student', 'code_module', 'code_presentation'], how='inner')\n",
    "\n"
   ]
  },
  {
   "attachments": {},
   "cell_type": "markdown",
   "metadata": {},
   "source": [
    "## Tidy model data table"
   ]
  },
  {
   "cell_type": "code",
   "execution_count": null,
   "metadata": {},
   "outputs": [],
   "source": [
    "\n",
    "# new columns for module_presentation - subject, year, month\n",
    "model_final['year'] = model_final['code_presentation'].str[:4].astype(int)\n",
    "model_final['month'] = model_final['code_presentation'].str[-1].map({'J': 'Oct', 'B': 'Feb'})\n",
    "\n",
    "# module subject mapping\n",
    "code_module_mapping = {\n",
    "        'AAA': 'SocSci',\n",
    "        'BBB': 'SocSci',\n",
    "        'GGG': 'SocSci',\n",
    "        'CCC': 'Stem',\n",
    "        'DDD': 'Stem',\n",
    "        'EEE': 'Stem',\n",
    "        'FFF': 'Stem'\n",
    "    }\n",
    "model_final['subject'] = model_final['code_module'].map(code_module_mapping)\n",
    "\n",
    "    "
   ]
  },
  {
   "cell_type": "code",
   "execution_count": null,
   "metadata": {},
   "outputs": [],
   "source": [
    "# rename 'module_presentation_length' to 'course_length'\n",
    "model_final.rename(columns={'module_presentation_length': 'course_length'}, inplace=True)\n"
   ]
  },
  {
   "cell_type": "code",
   "execution_count": null,
   "metadata": {},
   "outputs": [],
   "source": [
    "\n",
    "# combine 'code_module', 'code_presentation', and 'id_student' into 'mod_pres_stu'\n",
    "#model_final['mod_pres_stu'] = model_final['code_module'] + '-' + model_final['code_presentation'] + '-' + model_final['id_student'].astype(str)\n"
   ]
  },
  {
   "cell_type": "code",
   "execution_count": null,
   "metadata": {},
   "outputs": [
    {
     "data": {
      "text/html": [
       "<div>\n",
       "<style scoped>\n",
       "    .dataframe tbody tr th:only-of-type {\n",
       "        vertical-align: middle;\n",
       "    }\n",
       "\n",
       "    .dataframe tbody tr th {\n",
       "        vertical-align: top;\n",
       "    }\n",
       "\n",
       "    .dataframe thead th {\n",
       "        text-align: right;\n",
       "    }\n",
       "</style>\n",
       "<table border=\"1\" class=\"dataframe\">\n",
       "  <thead>\n",
       "    <tr style=\"text-align: right;\">\n",
       "      <th></th>\n",
       "      <th>code_module</th>\n",
       "      <th>code_presentation</th>\n",
       "      <th>id_student</th>\n",
       "      <th>gender</th>\n",
       "      <th>region</th>\n",
       "      <th>highest_education</th>\n",
       "      <th>imd_band</th>\n",
       "      <th>age_band</th>\n",
       "      <th>num_of_prev_attempts</th>\n",
       "      <th>studied_credits</th>\n",
       "      <th>...</th>\n",
       "      <th>avg_score</th>\n",
       "      <th>submission_distance</th>\n",
       "      <th>stu_activity_count</th>\n",
       "      <th>stu_activity_type_count</th>\n",
       "      <th>stu_total_clicks</th>\n",
       "      <th>stu_days_active</th>\n",
       "      <th>mod_pres_vle_type_count</th>\n",
       "      <th>year</th>\n",
       "      <th>month</th>\n",
       "      <th>subject</th>\n",
       "    </tr>\n",
       "  </thead>\n",
       "  <tbody>\n",
       "    <tr>\n",
       "      <th>0</th>\n",
       "      <td>AAA</td>\n",
       "      <td>2013J</td>\n",
       "      <td>11391</td>\n",
       "      <td>M</td>\n",
       "      <td>East Anglian Region</td>\n",
       "      <td>HE Qualification</td>\n",
       "      <td>90-100%</td>\n",
       "      <td>55&lt;=</td>\n",
       "      <td>0</td>\n",
       "      <td>240</td>\n",
       "      <td>...</td>\n",
       "      <td>68.333333</td>\n",
       "      <td>265.0</td>\n",
       "      <td>196</td>\n",
       "      <td>6</td>\n",
       "      <td>934</td>\n",
       "      <td>40</td>\n",
       "      <td>9</td>\n",
       "      <td>2013</td>\n",
       "      <td>Oct</td>\n",
       "      <td>SocSci</td>\n",
       "    </tr>\n",
       "    <tr>\n",
       "      <th>1</th>\n",
       "      <td>AAA</td>\n",
       "      <td>2013J</td>\n",
       "      <td>28400</td>\n",
       "      <td>F</td>\n",
       "      <td>Scotland</td>\n",
       "      <td>HE Qualification</td>\n",
       "      <td>20-30%</td>\n",
       "      <td>35-55</td>\n",
       "      <td>0</td>\n",
       "      <td>60</td>\n",
       "      <td>...</td>\n",
       "      <td>55.333333</td>\n",
       "      <td>265.0</td>\n",
       "      <td>430</td>\n",
       "      <td>7</td>\n",
       "      <td>1435</td>\n",
       "      <td>80</td>\n",
       "      <td>9</td>\n",
       "      <td>2013</td>\n",
       "      <td>Oct</td>\n",
       "      <td>SocSci</td>\n",
       "    </tr>\n",
       "    <tr>\n",
       "      <th>2</th>\n",
       "      <td>AAA</td>\n",
       "      <td>2013J</td>\n",
       "      <td>31604</td>\n",
       "      <td>F</td>\n",
       "      <td>South East Region</td>\n",
       "      <td>A Level or Equivalent</td>\n",
       "      <td>50-60%</td>\n",
       "      <td>35-55</td>\n",
       "      <td>0</td>\n",
       "      <td>60</td>\n",
       "      <td>...</td>\n",
       "      <td>63.333333</td>\n",
       "      <td>265.0</td>\n",
       "      <td>663</td>\n",
       "      <td>8</td>\n",
       "      <td>2158</td>\n",
       "      <td>123</td>\n",
       "      <td>9</td>\n",
       "      <td>2013</td>\n",
       "      <td>Oct</td>\n",
       "      <td>SocSci</td>\n",
       "    </tr>\n",
       "    <tr>\n",
       "      <th>3</th>\n",
       "      <td>AAA</td>\n",
       "      <td>2013J</td>\n",
       "      <td>32885</td>\n",
       "      <td>F</td>\n",
       "      <td>West Midlands Region</td>\n",
       "      <td>Lower Than A Level</td>\n",
       "      <td>50-60%</td>\n",
       "      <td>0-35</td>\n",
       "      <td>0</td>\n",
       "      <td>60</td>\n",
       "      <td>...</td>\n",
       "      <td>45.333333</td>\n",
       "      <td>265.0</td>\n",
       "      <td>352</td>\n",
       "      <td>7</td>\n",
       "      <td>1034</td>\n",
       "      <td>70</td>\n",
       "      <td>9</td>\n",
       "      <td>2013</td>\n",
       "      <td>Oct</td>\n",
       "      <td>SocSci</td>\n",
       "    </tr>\n",
       "    <tr>\n",
       "      <th>4</th>\n",
       "      <td>AAA</td>\n",
       "      <td>2013J</td>\n",
       "      <td>38053</td>\n",
       "      <td>M</td>\n",
       "      <td>Wales</td>\n",
       "      <td>A Level or Equivalent</td>\n",
       "      <td>80-90%</td>\n",
       "      <td>35-55</td>\n",
       "      <td>0</td>\n",
       "      <td>60</td>\n",
       "      <td>...</td>\n",
       "      <td>56.666667</td>\n",
       "      <td>265.0</td>\n",
       "      <td>723</td>\n",
       "      <td>8</td>\n",
       "      <td>2445</td>\n",
       "      <td>143</td>\n",
       "      <td>9</td>\n",
       "      <td>2013</td>\n",
       "      <td>Oct</td>\n",
       "      <td>SocSci</td>\n",
       "    </tr>\n",
       "  </tbody>\n",
       "</table>\n",
       "<p>5 rows × 32 columns</p>\n",
       "</div>"
      ],
      "text/plain": [
       "  code_module code_presentation  id_student gender                region  \\\n",
       "0         AAA             2013J       11391      M   East Anglian Region   \n",
       "1         AAA             2013J       28400      F              Scotland   \n",
       "2         AAA             2013J       31604      F     South East Region   \n",
       "3         AAA             2013J       32885      F  West Midlands Region   \n",
       "4         AAA             2013J       38053      M                 Wales   \n",
       "\n",
       "       highest_education imd_band age_band  num_of_prev_attempts  \\\n",
       "0       HE Qualification  90-100%     55<=                     0   \n",
       "1       HE Qualification   20-30%    35-55                     0   \n",
       "2  A Level or Equivalent   50-60%    35-55                     0   \n",
       "3     Lower Than A Level   50-60%     0-35                     0   \n",
       "4  A Level or Equivalent   80-90%    35-55                     0   \n",
       "\n",
       "   studied_credits  ...  avg_score submission_distance  stu_activity_count  \\\n",
       "0              240  ...  68.333333               265.0                 196   \n",
       "1               60  ...  55.333333               265.0                 430   \n",
       "2               60  ...  63.333333               265.0                 663   \n",
       "3               60  ...  45.333333               265.0                 352   \n",
       "4               60  ...  56.666667               265.0                 723   \n",
       "\n",
       "   stu_activity_type_count  stu_total_clicks stu_days_active  \\\n",
       "0                        6               934              40   \n",
       "1                        7              1435              80   \n",
       "2                        8              2158             123   \n",
       "3                        7              1034              70   \n",
       "4                        8              2445             143   \n",
       "\n",
       "   mod_pres_vle_type_count  year  month  subject  \n",
       "0                        9  2013    Oct   SocSci  \n",
       "1                        9  2013    Oct   SocSci  \n",
       "2                        9  2013    Oct   SocSci  \n",
       "3                        9  2013    Oct   SocSci  \n",
       "4                        9  2013    Oct   SocSci  \n",
       "\n",
       "[5 rows x 32 columns]"
      ]
     },
     "metadata": {},
     "output_type": "display_data"
    }
   ],
   "source": [
    "#model_final.head()"
   ]
  },
  {
   "cell_type": "code",
   "execution_count": null,
   "metadata": {},
   "outputs": [],
   "source": [
    "\n",
    "# drop the separate columns 'code_module', 'code_presentation', and 'id_student'\n",
    "#model_final.drop(columns=['code_presentation' ], inplace=True)\n"
   ]
  },
  {
   "cell_type": "code",
   "execution_count": null,
   "metadata": {},
   "outputs": [],
   "source": [
    "\n",
    "# move 'final_result' to the last column\n",
    "final_result_column = model_final.pop('final_result')\n",
    "model_final['final_result'] = final_result_column\n"
   ]
  },
  {
   "cell_type": "code",
   "execution_count": null,
   "metadata": {},
   "outputs": [],
   "source": [
    "\n",
    "# insert 'mod_pres_stu' as the first column\n",
    "#mod_pres_stu_column = model_final.pop('mod_pres_stu')\n",
    "#model_final.insert(0, 'mod_pres_stu', mod_pres_stu_column)\n"
   ]
  },
  {
   "cell_type": "code",
   "execution_count": null,
   "metadata": {},
   "outputs": [],
   "source": [
    "\n",
    "# drop columns: 'count_id_assessment', 'sum_score', 'sum_date', 'exp_sub_count', 'exp_sub_date_sum'\n",
    "model_final.drop(columns=['id_student','count_id_assessment', 'sum_score', 'sum_date', 'exp_sub_count', 'exp_sub_date_sum'], inplace=True)\n",
    "\n",
    "\n"
   ]
  },
  {
   "cell_type": "code",
   "execution_count": null,
   "metadata": {},
   "outputs": [
    {
     "name": "stdout",
     "output_type": "stream",
     "text": [
      "<class 'pandas.core.frame.DataFrame'>\n",
      "Int64Index: 19689 entries, 0 to 19688\n",
      "Data columns (total 25 columns):\n",
      " #   Column                   Non-Null Count  Dtype  \n",
      "---  ------                   --------------  -----  \n",
      " 0   code_module              19689 non-null  object \n",
      " 1   gender                   19689 non-null  object \n",
      " 2   region                   19689 non-null  object \n",
      " 3   highest_education        19689 non-null  object \n",
      " 4   imd_band                 19689 non-null  object \n",
      " 5   age_band                 19689 non-null  object \n",
      " 6   num_of_prev_attempts     19689 non-null  int64  \n",
      " 7   studied_credits          19689 non-null  int64  \n",
      " 8   disability               19689 non-null  object \n",
      " 9   course_length            19689 non-null  int64  \n",
      " 10  date_registration        19689 non-null  float64\n",
      " 11  date_unregistration      19689 non-null  float64\n",
      " 12  status                   19689 non-null  object \n",
      " 13  prop_submissions         19689 non-null  float64\n",
      " 14  avg_score                19689 non-null  float64\n",
      " 15  submission_distance      19689 non-null  float64\n",
      " 16  stu_activity_count       19689 non-null  int64  \n",
      " 17  stu_activity_type_count  19689 non-null  int64  \n",
      " 18  stu_total_clicks         19689 non-null  int64  \n",
      " 19  stu_days_active          19689 non-null  int64  \n",
      " 20  mod_pres_vle_type_count  19689 non-null  int64  \n",
      " 21  year                     19689 non-null  int32  \n",
      " 22  month                    19689 non-null  object \n",
      " 23  subject                  19689 non-null  object \n",
      " 24  final_result             19689 non-null  object \n",
      "dtypes: float64(5), int32(1), int64(8), object(11)\n",
      "memory usage: 3.8+ MB\n"
     ]
    }
   ],
   "source": [
    "model_final.info()\n",
    "model_final.to_csv('../data/final_model_PP_NONE_20230522.csv', index=False)"
   ]
  }
 ],
 "metadata": {
  "kernelspec": {
   "display_name": "Python 3",
   "language": "python",
   "name": "python3"
  },
  "language_info": {
   "codemirror_mode": {
    "name": "ipython",
    "version": 3
   },
   "file_extension": ".py",
   "mimetype": "text/x-python",
   "name": "python",
   "nbconvert_exporter": "python",
   "pygments_lexer": "ipython3",
   "version": "3.11.0"
  },
  "orig_nbformat": 4
 },
 "nbformat": 4,
 "nbformat_minor": 2
}
