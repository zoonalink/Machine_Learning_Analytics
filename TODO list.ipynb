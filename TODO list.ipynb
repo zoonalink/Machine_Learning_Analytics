{
 "cells": [
  {
   "attachments": {},
   "cell_type": "markdown",
   "metadata": {},
   "source": [
    "## TODO list"
   ]
  },
  {
   "attachments": {},
   "cell_type": "markdown",
   "metadata": {},
   "source": [
    "Outline:\n",
    "\n",
    "Introduction/Background/Scenario modelling\n",
    "Data\n",
    "    Dataset\n",
    "    Exploratory Data Analysis\n",
    "    Data preparation\n",
    "    Feature Engineering\n",
    "Analysis Type - binary classification with multivariate\n",
    "Learning Algorithm Selection and Discussion\n",
    "Evaluation Metrics\n",
    "Results and Discussion\n",
    "Limitations, Future Work"
   ]
  },
  {
   "attachments": {},
   "cell_type": "markdown",
   "metadata": {},
   "source": [
    "* [] write intro / brief / business problem\n",
    "* ~~[x] write up data processing section - long~~\n",
    "  * ~~use v1_2 for decision making process file - include graph and EDA from working data~~\n",
    "  * ~~use v1_1 for just code loading -> fix ASSESSMENT section~~\n",
    "  * ~~rename appropriately~~\n",
    "  * ~~remove working_data~~\n",
    "  * ~~remove data_v1~~\n",
    "  \n",
    "* ~~[x] check data processing functions~~\n",
    "* [X] do eda plots\n",
    "* [ ] eda long write up\n",
    "* [ ] write eda section\n",
    "* [ ] modelling / analysis working section"
   ]
  },
  {
   "attachments": {},
   "cell_type": "markdown",
   "metadata": {},
   "source": [
    "\n",
    "\n",
    "NEXT - VERSION 2: \n",
    "\n",
    "* [ ] ~~V2_data_initial~~\n",
    "    * include correlations\n",
    "    * ~~keep brief~~\n",
    "    * ~~decisions re data ~~\n",
    "  \n",
    "* [ ] ~~V2 data prep code with narrative~~\n",
    "\n",
    "* [ ] V2 EDA\n",
    "  * This section should be tight, but comprehensive.  \n",
    "  * It is the exploration of the data produced in the the initial prep section:\n",
    "    * include correlations\n",
    "    * pair plots\n",
    "    * histograms\n",
    "    * distributions\n",
    "    * \n",
    "    * It will have reasons which spill into the Feature enginering section - like why not to include a feature, eg. region, etc.\n",
    "  * \n",
    "* [ ] V2 Feature Engineering\n",
    "    * Features to exclude - all the student biographical data - the reason why (not relevant to the problem)\n",
    "      * ANOVA and t-tests\n",
    "      * but it could be interesting to do cluster analysis or more indepth analysis with this data - but not for now.  keep it tight!\n",
    "      * include deletion of region, etc.\n",
    "    * include splitting, scaling - as initial transformations\n",
    "    * Dimension reduction:\n",
    "      * include PCA\n",
    "      * include VIF, feature reduction\n",
    "* [ ] V2 data prep code only:\n",
    "    * include splitting, scaling, dimension reduction -> as needed for modelling\n",
    "    \n",
    "* [ ] V2 optional (do later) - clustering - make a note but this won't happen now, link to V1 attempts\n",
    "    * Kmeans\n",
    "    * Hclust\n",
    "\n",
    "\n",
    "* [ ] V2 Prediction modelling section\n",
    "    * keep it tight\n",
    "\n",
    "\n"
   ]
  }
 ],
 "metadata": {
  "language_info": {
   "name": "python"
  },
  "orig_nbformat": 4
 },
 "nbformat": 4,
 "nbformat_minor": 2
}
