{
 "cells": [
  {
   "attachments": {},
   "cell_type": "markdown",
   "metadata": {},
   "source": [
    "## TODO list"
   ]
  },
  {
   "attachments": {},
   "cell_type": "markdown",
   "metadata": {},
   "source": []
  },
  {
   "attachments": {},
   "cell_type": "markdown",
   "metadata": {},
   "source": [
    "* [] write intro / brief / business problem\n",
    "* ~~[x] write up data processing section - long~~\n",
    "  * ~~use v1_2 for decision making process file - include graph and EDA from working data~~\n",
    "  * ~~use v1_1 for just code loading -> fix ASSESSMENT section~~\n",
    "  * ~~rename appropriately~~\n",
    "  * ~~remove working_data~~\n",
    "  * ~~remove data_v1~~\n",
    "  \n",
    "* ~~[x] check data processing functions~~\n",
    "* [X] do eda plots\n",
    "* [ ] eda long write up\n",
    "* [ ] write eda section\n",
    "* [ ] modelling / analysis working section"
   ]
  },
  {
   "attachments": {},
   "cell_type": "markdown",
   "metadata": {},
   "source": [
    "\n",
    "\n",
    "NEXT - VERSION 2: \n",
    "\n",
    "* [ ] V2_data_initial\n",
    "    * include correlations\n",
    "    * keep brief\n",
    "    * decisions re data \n",
    "* [ ] V2 data prep code with narrative\n",
    "    * include deletion of region, etc.\n",
    "    * include splitting, scaling\n",
    "    * include more correlation, pair plots, histograms\n",
    "    * include PCA\n",
    "    * include VIF, feature reduction\n",
    "* [ ] V2 optional (do later) - clustering\n",
    "    * Kmeans\n",
    "    * Hclust\n",
    "* [ ] V2 Prediction modelling section\n",
    "    * keep it tight\n",
    "\n",
    "\n"
   ]
  }
 ],
 "metadata": {
  "language_info": {
   "name": "python"
  },
  "orig_nbformat": 4
 },
 "nbformat": 4,
 "nbformat_minor": 2
}
