{
 "cells": [
  {
   "attachments": {},
   "cell_type": "markdown",
   "metadata": {},
   "source": [
    "## TODO list"
   ]
  },
  {
   "cell_type": "markdown",
   "metadata": {},
   "source": []
  },
  {
   "attachments": {},
   "cell_type": "markdown",
   "metadata": {},
   "source": [
    "* [] write intro / brief / business problem\n",
    "* ~~[x] write up data processing section - long~~\n",
    "  * ~~use v1_2 for decision making process file - include graph and EDA from working data~~\n",
    "  * ~~use v1_1 for just code loading -> fix ASSESSMENT section~~\n",
    "  * ~~rename appropriately~~\n",
    "  * ~~remove working_data~~\n",
    "  * ~~remove data_v1~~\n",
    "  \n",
    "* ~~[x] check data processing functions~~\n",
    "* [X] do eda plots\n",
    "* [ ] eda long write up\n",
    "* [ ] write eda section\n",
    "* [ ] modelling / analysis working section"
   ]
  },
  {
   "attachments": {},
   "cell_type": "markdown",
   "metadata": {},
   "source": [
    "end of Monday:\n",
    "* [X] write up data processing section - long\n",
    "* [X] tidy data files\n",
    "\n",
    "end of Wednesday: \n",
    "* [ ] EDA section\n",
    "* [ ] pairs plots, histograms, correlation plots, \n",
    "* [ ] unsupervised clustering\n",
    "* [ ] PCA\n",
    "\n",
    "end of Thursday: \n",
    "* [ ] modelling section planned out"
   ]
  }
 ],
 "metadata": {
  "language_info": {
   "name": "python"
  },
  "orig_nbformat": 4
 },
 "nbformat": 4,
 "nbformat_minor": 2
}
